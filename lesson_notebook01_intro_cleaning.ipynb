{
 "cells": [
  {
   "cell_type": "markdown",
   "metadata": {
    "jp-MarkdownHeadingCollapsed": true,
    "tags": []
   },
   "source": [
    "# Reproducible Science in R and Figures (Part 1)\n",
    "\n",
    "### What you should know by the end of this lesson...\n",
    "\n",
    "- How to load data and clean it \n",
    "- Create an exploratory figure\n",
    "- Communicate with a figure by changing its appearance\n",
    "- Remake the same figure for a different purpose\n",
    "- Save a figure for use in a report and poster\n",
    "\n",
    "### Skills you will have by the end of the lesson...\n",
    "\n",
    "- Using `ggplot2`\n",
    "- Changing the elements in a figure\n",
    "- Creating a custom function\n",
    "- Reading from other R files\n",
    "- Creating `png` or `svg` (vector) image files\n",
    "- Functional, modular, reproducible code\n",
    "\n",
    "Images from [The Turing Way](https://the-turing-way.netlify.app/reproducible-research/reproducible-research.html)! \n",
    "\n",
    "<img src=\"https://zenodo.org/record/3332808/files/1728_TURI_Book%20sprint_5%20turing%20way_040619.jpg\" alt=\"Drawing\" style=\"width: 300px;\"/>\n"
   ]
  },
  {
   "cell_type": "markdown",
   "metadata": {},
   "source": [
    "## What is Reproducible Research?\n",
    "\n",
    "<img src=\"https://the-turing-way.netlify.app/_images/reproducibility.jpg\" alt=\"Drawing\" style=\"width: 600px;\"/>\n",
    "\n",
    "\n",
    "Scientific results and evidence are strengthened if those results can be replicated and confirmed by several independent researchers. \n",
    "\n",
    "What you do on your computer is a part of scientific methodology like fieldwork and labwork.\n",
    "\n",
    "> Major media outlets have reported on investigations showing that a significant percentage of scientific studies cannot be reproduced. \n",
    "> This leads to other academics and society losing trust in scientific results.\n",
    ">\n",
    "> https://www.nature.com/articles/533452a\n",
    "\n",
    "**Reproducible**\n",
    "\n",
    " - Authors provide all the necessary data and the computer codes to run the analysis again, re-creating the results.\n",
    "\n",
    "**Replicable**\n",
    "\n",
    "- A study that arrives at the same scientific findings as another study, collecting new data (possibly with different methods) and completing new analyses.\n",
    "\n",
    "<img src=\"https://oliviergimenez.github.io/reproducible-science-workshop/slides/assets/definitions.jpg\" alt=\"Drawing\" style=\"width: 600px;\"/>\n",
    "\n",
    "\n",
    "# Why bother?\n",
    "\n",
    "### Helps YOU\n",
    "\n",
    "<img src=\"https://the-turing-way.netlify.app/_images/project-history.jpg\" alt=\"Drawing\" style=\"width: 300px;\"/>\n",
    "\n",
    "\n",
    "\n",
    "Usually the person trying to redo your work and analysis is yourself at a later date!\n",
    "\n",
    "A lot of time is wasted redoing analyses because you can't read or understand your own code from a few weeks or years ago, and having to redo figures because you've lost the code to generate it. \n",
    "\n",
    "It also acts as a fail safe backup for your work!\n",
    "\n",
    "### Helps open science\n",
    "\n",
    "<img src=\"https://the-turing-way.netlify.app/_images/evolution-open-research.jpg\" alt=\"Drawing\" style=\"width: 500px;\"/>\n",
    "\n",
    "\n",
    "Open research aims to transform research by making it more reproducible, transparent, reusable, collaborative, accountable, and accessible to society. \n",
    "\n",
    "\n",
    "- Be publicly available: It is difficult to use and benefit from knowledge hidden behind barriers such as passwords and paywalls.\n",
    "\n",
    "- Be reusable: Research outputs need to be licensed appropriately, so that prospective users know any limitations on re-use.\n",
    "\n",
    "- Be transparent: With appropriate metadata to provide clear statements of how research output was produced and what it contains.\n",
    "\n",
    "Open practices can make it easier for researchers to connect by increasing the discoverability and visibility of one’s work, facilitating rapid access to novel data and software resources, and creating new opportunities to interact with and contribute to ongoing communal projects.\n",
    "\n",
    "### Helps you publish\n",
    "<img src=\"https://www.turing.ac.uk/sites/default/files/inline-images/Culture%20shift.jpg\" alt=\"Drawing\" style=\"width: 400px;\"/>\n",
    "\n",
    "\n",
    "\n",
    "It is becoming more common for code release to be part of the scientific publishing and grant approval process. \n",
    "\n",
    "\n",
    "\n",
    "\n",
    "\n",
    "\n"
   ]
  },
  {
   "cell_type": "markdown",
   "metadata": {},
   "source": [
    "# Penguin Data\n",
    "\n",
    "## *Note from after the lab practical* \n",
    "\n",
    "*Thank you everyone for being understanding about the pacing and difficulty of today's session. I had to modify the lesson as I was going and I realise that meant some aspects were clumsy and clunky. I've edited the following notes so you can follow the logic of the lesson.* \n",
    "\n",
    "This data set on Palmer penguins has nice examples all over the internet. It contains morphometric data from three species of penguin.\n",
    "\n",
    "<img src=\"https://allisonhorst.github.io/palmerpenguins/reference/figures/lter_penguins.png\" alt=\"Drawing\" style=\"width: 400px;\"/>\n",
    "\n",
    "<img src=\"https://allisonhorst.github.io/palmerpenguins/reference/figures/culmen_depth.png\" alt=\"Drawing\" style=\"width: 350px;\"/>\n"
   ]
  },
  {
   "cell_type": "markdown",
   "metadata": {},
   "source": [
    "First we need to create a new project folder (also known as directory) for our work. \n",
    "\n",
    "Create a new folder called `PenguinProjects` in a sensible place on your computer. We call the location of this folder the `path` and it looks something like this:\n",
    "\n",
    "`C/Users/lfrance/Documents/BiologyComputerSkills/PenguinProjects`\n",
    "\n",
    "Create your .r or .rmd file inside this folder:\n",
    "\n",
    "```\n",
    "- PenguinProject\n",
    "  - penguin_analysis.rmd\n",
    "```\n",
    "\n",
    "It doesn't matter what you call it. Later we are going to create more folders within this folder.\n",
    "\n",
    "When you're running code within your file needs to be able to see this folder and it will look for everything it needs here, like data, other R files, and folders to save things.\n",
    "\n",
    "## Installing and Loading Libraries\n",
    "\n",
    "The first thing we're going to write in our code file is to load some libraries. \n",
    "\n",
    "We want all our to load the data from a library called `palmerpenguins` and some libraries that will help. \n",
    "\n",
    "Please install these in your RStudio unless you already have them. "
   ]
  },
  {
   "cell_type": "code",
   "execution_count": 1,
   "metadata": {
    "vscode": {
     "languageId": "r"
    }
   },
   "outputs": [
    {
     "name": "stderr",
     "output_type": "stream",
     "text": [
      "\n",
      "Attaching package: ‘janitor’\n",
      "\n",
      "\n",
      "The following objects are masked from ‘package:stats’:\n",
      "\n",
      "    chisq.test, fisher.test\n",
      "\n",
      "\n",
      "\n",
      "Attaching package: ‘dplyr’\n",
      "\n",
      "\n",
      "The following objects are masked from ‘package:stats’:\n",
      "\n",
      "    filter, lag\n",
      "\n",
      "\n",
      "The following objects are masked from ‘package:base’:\n",
      "\n",
      "    intersect, setdiff, setequal, union\n",
      "\n",
      "\n"
     ]
    }
   ],
   "source": [
    "\n",
    "library(palmerpenguins)\n",
    "library(ggplot2)\n",
    "library(janitor)\n",
    "library(dplyr)\n",
    "\n",
    "# setwd('a path in here')\n",
    "setwd('PenguinProject') # This is to make it work on my machine! Yours will be different."
   ]
  },
  {
   "cell_type": "markdown",
   "metadata": {},
   "source": [
    "Try not to start your scripts with `install.packages(\"somepackage\")` because that will wreck havoc and overwrite your libraries every time you run code and it's very slow. Instead install once, then just load when you need.\n",
    "\n",
    "We also need to tell this file where the project folder is. This is called \"setting the working directory\" or \"setwd\". So for example, you put inside the path:\n",
    "\n",
    "`setwd(\"C/Users/lfrance/Documents/BiologyComputerSkills/PenguinProjects\")`\n",
    "\n",
    "**MAKE SURE** you are putting the right location in here! If RStudio is looking inside `PenguinProject` for a folder called `PenguinProject` it won't find it and get upset. \n",
    "\n",
    "## Looking at the Data\n",
    "\n",
    "\n",
    "We have installed and loaded `palmerpenguins` which actually contains data inside it. We will be using data stored inside a variable called `penguins_raw`.\n",
    "\n",
    "We can look at the data as a table in order to see what issues it might have. This table has over 300 rows so we are just going to look at the first 6. "
   ]
  },
  {
   "cell_type": "code",
   "execution_count": 2,
   "metadata": {
    "vscode": {
     "languageId": "r"
    }
   },
   "outputs": [
    {
     "data": {
      "text/html": [
       "<table class=\"dataframe\">\n",
       "<caption>A tibble: 6 × 17</caption>\n",
       "<thead>\n",
       "\t<tr><th scope=col>studyName</th><th scope=col>Sample Number</th><th scope=col>Species</th><th scope=col>Region</th><th scope=col>Island</th><th scope=col>Stage</th><th scope=col>Individual ID</th><th scope=col>Clutch Completion</th><th scope=col>Date Egg</th><th scope=col>Culmen Length (mm)</th><th scope=col>Culmen Depth (mm)</th><th scope=col>Flipper Length (mm)</th><th scope=col>Body Mass (g)</th><th scope=col>Sex</th><th scope=col>Delta 15 N (o/oo)</th><th scope=col>Delta 13 C (o/oo)</th><th scope=col>Comments</th></tr>\n",
       "\t<tr><th scope=col>&lt;chr&gt;</th><th scope=col>&lt;dbl&gt;</th><th scope=col>&lt;chr&gt;</th><th scope=col>&lt;chr&gt;</th><th scope=col>&lt;chr&gt;</th><th scope=col>&lt;chr&gt;</th><th scope=col>&lt;chr&gt;</th><th scope=col>&lt;chr&gt;</th><th scope=col>&lt;date&gt;</th><th scope=col>&lt;dbl&gt;</th><th scope=col>&lt;dbl&gt;</th><th scope=col>&lt;dbl&gt;</th><th scope=col>&lt;dbl&gt;</th><th scope=col>&lt;chr&gt;</th><th scope=col>&lt;dbl&gt;</th><th scope=col>&lt;dbl&gt;</th><th scope=col>&lt;chr&gt;</th></tr>\n",
       "</thead>\n",
       "<tbody>\n",
       "\t<tr><td>PAL0708</td><td>1</td><td>Adelie Penguin (Pygoscelis adeliae)</td><td>Anvers</td><td>Torgersen</td><td>Adult, 1 Egg Stage</td><td>N1A1</td><td>Yes</td><td>2007-11-11</td><td>39.1</td><td>18.7</td><td>181</td><td>3750</td><td>MALE  </td><td>     NA</td><td>       NA</td><td>Not enough blood for isotopes.</td></tr>\n",
       "\t<tr><td>PAL0708</td><td>2</td><td>Adelie Penguin (Pygoscelis adeliae)</td><td>Anvers</td><td>Torgersen</td><td>Adult, 1 Egg Stage</td><td>N1A2</td><td>Yes</td><td>2007-11-11</td><td>39.5</td><td>17.4</td><td>186</td><td>3800</td><td>FEMALE</td><td>8.94956</td><td>-24.69454</td><td>NA                            </td></tr>\n",
       "\t<tr><td>PAL0708</td><td>3</td><td>Adelie Penguin (Pygoscelis adeliae)</td><td>Anvers</td><td>Torgersen</td><td>Adult, 1 Egg Stage</td><td>N2A1</td><td>Yes</td><td>2007-11-16</td><td>40.3</td><td>18.0</td><td>195</td><td>3250</td><td>FEMALE</td><td>8.36821</td><td>-25.33302</td><td>NA                            </td></tr>\n",
       "\t<tr><td>PAL0708</td><td>4</td><td>Adelie Penguin (Pygoscelis adeliae)</td><td>Anvers</td><td>Torgersen</td><td>Adult, 1 Egg Stage</td><td>N2A2</td><td>Yes</td><td>2007-11-16</td><td>  NA</td><td>  NA</td><td> NA</td><td>  NA</td><td>NA    </td><td>     NA</td><td>       NA</td><td>Adult not sampled.            </td></tr>\n",
       "\t<tr><td>PAL0708</td><td>5</td><td>Adelie Penguin (Pygoscelis adeliae)</td><td>Anvers</td><td>Torgersen</td><td>Adult, 1 Egg Stage</td><td>N3A1</td><td>Yes</td><td>2007-11-16</td><td>36.7</td><td>19.3</td><td>193</td><td>3450</td><td>FEMALE</td><td>8.76651</td><td>-25.32426</td><td>NA                            </td></tr>\n",
       "\t<tr><td>PAL0708</td><td>6</td><td>Adelie Penguin (Pygoscelis adeliae)</td><td>Anvers</td><td>Torgersen</td><td>Adult, 1 Egg Stage</td><td>N3A2</td><td>Yes</td><td>2007-11-16</td><td>39.3</td><td>20.6</td><td>190</td><td>3650</td><td>MALE  </td><td>8.66496</td><td>-25.29805</td><td>NA                            </td></tr>\n",
       "</tbody>\n",
       "</table>\n"
      ],
      "text/latex": [
       "A tibble: 6 × 17\n",
       "\\begin{tabular}{lllllllllllllllll}\n",
       " studyName & Sample Number & Species & Region & Island & Stage & Individual ID & Clutch Completion & Date Egg & Culmen Length (mm) & Culmen Depth (mm) & Flipper Length (mm) & Body Mass (g) & Sex & Delta 15 N (o/oo) & Delta 13 C (o/oo) & Comments\\\\\n",
       " <chr> & <dbl> & <chr> & <chr> & <chr> & <chr> & <chr> & <chr> & <date> & <dbl> & <dbl> & <dbl> & <dbl> & <chr> & <dbl> & <dbl> & <chr>\\\\\n",
       "\\hline\n",
       "\t PAL0708 & 1 & Adelie Penguin (Pygoscelis adeliae) & Anvers & Torgersen & Adult, 1 Egg Stage & N1A1 & Yes & 2007-11-11 & 39.1 & 18.7 & 181 & 3750 & MALE   &      NA &        NA & Not enough blood for isotopes.\\\\\n",
       "\t PAL0708 & 2 & Adelie Penguin (Pygoscelis adeliae) & Anvers & Torgersen & Adult, 1 Egg Stage & N1A2 & Yes & 2007-11-11 & 39.5 & 17.4 & 186 & 3800 & FEMALE & 8.94956 & -24.69454 & NA                            \\\\\n",
       "\t PAL0708 & 3 & Adelie Penguin (Pygoscelis adeliae) & Anvers & Torgersen & Adult, 1 Egg Stage & N2A1 & Yes & 2007-11-16 & 40.3 & 18.0 & 195 & 3250 & FEMALE & 8.36821 & -25.33302 & NA                            \\\\\n",
       "\t PAL0708 & 4 & Adelie Penguin (Pygoscelis adeliae) & Anvers & Torgersen & Adult, 1 Egg Stage & N2A2 & Yes & 2007-11-16 &   NA &   NA &  NA &   NA & NA     &      NA &        NA & Adult not sampled.            \\\\\n",
       "\t PAL0708 & 5 & Adelie Penguin (Pygoscelis adeliae) & Anvers & Torgersen & Adult, 1 Egg Stage & N3A1 & Yes & 2007-11-16 & 36.7 & 19.3 & 193 & 3450 & FEMALE & 8.76651 & -25.32426 & NA                            \\\\\n",
       "\t PAL0708 & 6 & Adelie Penguin (Pygoscelis adeliae) & Anvers & Torgersen & Adult, 1 Egg Stage & N3A2 & Yes & 2007-11-16 & 39.3 & 20.6 & 190 & 3650 & MALE   & 8.66496 & -25.29805 & NA                            \\\\\n",
       "\\end{tabular}\n"
      ],
      "text/markdown": [
       "\n",
       "A tibble: 6 × 17\n",
       "\n",
       "| studyName &lt;chr&gt; | Sample Number &lt;dbl&gt; | Species &lt;chr&gt; | Region &lt;chr&gt; | Island &lt;chr&gt; | Stage &lt;chr&gt; | Individual ID &lt;chr&gt; | Clutch Completion &lt;chr&gt; | Date Egg &lt;date&gt; | Culmen Length (mm) &lt;dbl&gt; | Culmen Depth (mm) &lt;dbl&gt; | Flipper Length (mm) &lt;dbl&gt; | Body Mass (g) &lt;dbl&gt; | Sex &lt;chr&gt; | Delta 15 N (o/oo) &lt;dbl&gt; | Delta 13 C (o/oo) &lt;dbl&gt; | Comments &lt;chr&gt; |\n",
       "|---|---|---|---|---|---|---|---|---|---|---|---|---|---|---|---|---|\n",
       "| PAL0708 | 1 | Adelie Penguin (Pygoscelis adeliae) | Anvers | Torgersen | Adult, 1 Egg Stage | N1A1 | Yes | 2007-11-11 | 39.1 | 18.7 | 181 | 3750 | MALE   |      NA |        NA | Not enough blood for isotopes. |\n",
       "| PAL0708 | 2 | Adelie Penguin (Pygoscelis adeliae) | Anvers | Torgersen | Adult, 1 Egg Stage | N1A2 | Yes | 2007-11-11 | 39.5 | 17.4 | 186 | 3800 | FEMALE | 8.94956 | -24.69454 | NA                             |\n",
       "| PAL0708 | 3 | Adelie Penguin (Pygoscelis adeliae) | Anvers | Torgersen | Adult, 1 Egg Stage | N2A1 | Yes | 2007-11-16 | 40.3 | 18.0 | 195 | 3250 | FEMALE | 8.36821 | -25.33302 | NA                             |\n",
       "| PAL0708 | 4 | Adelie Penguin (Pygoscelis adeliae) | Anvers | Torgersen | Adult, 1 Egg Stage | N2A2 | Yes | 2007-11-16 |   NA |   NA |  NA |   NA | NA     |      NA |        NA | Adult not sampled.             |\n",
       "| PAL0708 | 5 | Adelie Penguin (Pygoscelis adeliae) | Anvers | Torgersen | Adult, 1 Egg Stage | N3A1 | Yes | 2007-11-16 | 36.7 | 19.3 | 193 | 3450 | FEMALE | 8.76651 | -25.32426 | NA                             |\n",
       "| PAL0708 | 6 | Adelie Penguin (Pygoscelis adeliae) | Anvers | Torgersen | Adult, 1 Egg Stage | N3A2 | Yes | 2007-11-16 | 39.3 | 20.6 | 190 | 3650 | MALE   | 8.66496 | -25.29805 | NA                             |\n",
       "\n"
      ],
      "text/plain": [
       "  studyName Sample Number Species                             Region Island   \n",
       "1 PAL0708   1             Adelie Penguin (Pygoscelis adeliae) Anvers Torgersen\n",
       "2 PAL0708   2             Adelie Penguin (Pygoscelis adeliae) Anvers Torgersen\n",
       "3 PAL0708   3             Adelie Penguin (Pygoscelis adeliae) Anvers Torgersen\n",
       "4 PAL0708   4             Adelie Penguin (Pygoscelis adeliae) Anvers Torgersen\n",
       "5 PAL0708   5             Adelie Penguin (Pygoscelis adeliae) Anvers Torgersen\n",
       "6 PAL0708   6             Adelie Penguin (Pygoscelis adeliae) Anvers Torgersen\n",
       "  Stage              Individual ID Clutch Completion Date Egg  \n",
       "1 Adult, 1 Egg Stage N1A1          Yes               2007-11-11\n",
       "2 Adult, 1 Egg Stage N1A2          Yes               2007-11-11\n",
       "3 Adult, 1 Egg Stage N2A1          Yes               2007-11-16\n",
       "4 Adult, 1 Egg Stage N2A2          Yes               2007-11-16\n",
       "5 Adult, 1 Egg Stage N3A1          Yes               2007-11-16\n",
       "6 Adult, 1 Egg Stage N3A2          Yes               2007-11-16\n",
       "  Culmen Length (mm) Culmen Depth (mm) Flipper Length (mm) Body Mass (g) Sex   \n",
       "1 39.1               18.7              181                 3750          MALE  \n",
       "2 39.5               17.4              186                 3800          FEMALE\n",
       "3 40.3               18.0              195                 3250          FEMALE\n",
       "4   NA                 NA               NA                   NA          NA    \n",
       "5 36.7               19.3              193                 3450          FEMALE\n",
       "6 39.3               20.6              190                 3650          MALE  \n",
       "  Delta 15 N (o/oo) Delta 13 C (o/oo) Comments                      \n",
       "1      NA                  NA         Not enough blood for isotopes.\n",
       "2 8.94956           -24.69454         NA                            \n",
       "3 8.36821           -25.33302         NA                            \n",
       "4      NA                  NA         Adult not sampled.            \n",
       "5 8.76651           -25.32426         NA                            \n",
       "6 8.66496           -25.29805         NA                            "
      ]
     },
     "metadata": {},
     "output_type": "display_data"
    }
   ],
   "source": [
    "head(penguins_raw)"
   ]
  },
  {
   "cell_type": "markdown",
   "metadata": {},
   "source": [
    "One problem we can see immediately, the column names. \n",
    "Let's just look at the column names:"
   ]
  },
  {
   "cell_type": "code",
   "execution_count": 5,
   "metadata": {
    "vscode": {
     "languageId": "r"
    }
   },
   "outputs": [
    {
     "data": {
      "text/html": [
       "<style>\n",
       ".list-inline {list-style: none; margin:0; padding: 0}\n",
       ".list-inline>li {display: inline-block}\n",
       ".list-inline>li:not(:last-child)::after {content: \"\\00b7\"; padding: 0 .5ex}\n",
       "</style>\n",
       "<ol class=list-inline><li>'studyName'</li><li>'Sample Number'</li><li>'Species'</li><li>'Region'</li><li>'Island'</li><li>'Stage'</li><li>'Individual ID'</li><li>'Clutch Completion'</li><li>'Date Egg'</li><li>'Culmen Length (mm)'</li><li>'Culmen Depth (mm)'</li><li>'Flipper Length (mm)'</li><li>'Body Mass (g)'</li><li>'Sex'</li><li>'Delta 15 N (o/oo)'</li><li>'Delta 13 C (o/oo)'</li><li>'Comments'</li></ol>\n"
      ],
      "text/latex": [
       "\\begin{enumerate*}\n",
       "\\item 'studyName'\n",
       "\\item 'Sample Number'\n",
       "\\item 'Species'\n",
       "\\item 'Region'\n",
       "\\item 'Island'\n",
       "\\item 'Stage'\n",
       "\\item 'Individual ID'\n",
       "\\item 'Clutch Completion'\n",
       "\\item 'Date Egg'\n",
       "\\item 'Culmen Length (mm)'\n",
       "\\item 'Culmen Depth (mm)'\n",
       "\\item 'Flipper Length (mm)'\n",
       "\\item 'Body Mass (g)'\n",
       "\\item 'Sex'\n",
       "\\item 'Delta 15 N (o/oo)'\n",
       "\\item 'Delta 13 C (o/oo)'\n",
       "\\item 'Comments'\n",
       "\\end{enumerate*}\n"
      ],
      "text/markdown": [
       "1. 'studyName'\n",
       "2. 'Sample Number'\n",
       "3. 'Species'\n",
       "4. 'Region'\n",
       "5. 'Island'\n",
       "6. 'Stage'\n",
       "7. 'Individual ID'\n",
       "8. 'Clutch Completion'\n",
       "9. 'Date Egg'\n",
       "10. 'Culmen Length (mm)'\n",
       "11. 'Culmen Depth (mm)'\n",
       "12. 'Flipper Length (mm)'\n",
       "13. 'Body Mass (g)'\n",
       "14. 'Sex'\n",
       "15. 'Delta 15 N (o/oo)'\n",
       "16. 'Delta 13 C (o/oo)'\n",
       "17. 'Comments'\n",
       "\n",
       "\n"
      ],
      "text/plain": [
       " [1] \"studyName\"           \"Sample Number\"       \"Species\"            \n",
       " [4] \"Region\"              \"Island\"              \"Stage\"              \n",
       " [7] \"Individual ID\"       \"Clutch Completion\"   \"Date Egg\"           \n",
       "[10] \"Culmen Length (mm)\"  \"Culmen Depth (mm)\"   \"Flipper Length (mm)\"\n",
       "[13] \"Body Mass (g)\"       \"Sex\"                 \"Delta 15 N (o/oo)\"  \n",
       "[16] \"Delta 13 C (o/oo)\"   \"Comments\"           "
      ]
     },
     "metadata": {},
     "output_type": "display_data"
    }
   ],
   "source": [
    "names(penguins_raw)\n"
   ]
  },
  {
   "cell_type": "markdown",
   "metadata": {},
   "source": [
    "They have mixed capitals and lower case letters, there are spaces in between words which can cause lots of issues within code, and other times there are no spaces...\n",
    "\n",
    "- `studyName` is called camel case\n",
    "- `Sample Number` is called sentence case and with a space\n",
    "- `Culmen Length (mm)` has spaces and also brackets which could also cause issues. \n",
    "\n",
    "It's maybe tempting when you see these kinds of problems to go and edit the column names in excel, as well as any other issues you see. \n",
    "\n",
    "> **Never do this.**\n",
    "\n",
    "Editing a file in excel is completely unreproducible, no one has any record of what you edited and can lead to mistakes being missed. \n",
    "\n",
    "## Preserving our Raw Data\n",
    "\n",
    "A best practice before we do anything is to save this file as `raw_data` and consider it \"read only\"! That means it is preserved exactly as is before we start meddling with it. \n",
    "\n",
    "What we need to do is create a new folder called `raw_data` inside our project folder:\n",
    "\n",
    "```\n",
    "- PenguinProject/\n",
    "    - data_raw/\n",
    "    - penguin_analysis.rmd\n",
    "```\n",
    "\n",
    "We can create our `data_raw/` folder manually or you can use this command in R: `dir.create(\"data_raw\")`, but be careful you don't run it multiple times!\n",
    "\n",
    "\n",
    "And using the following command we are going to save the variable `penguins_raw` as a `.csv` file. \n"
   ]
  },
  {
   "cell_type": "code",
   "execution_count": 6,
   "metadata": {
    "vscode": {
     "languageId": "r"
    }
   },
   "outputs": [],
   "source": [
    "write.csv(penguins_raw, \"data_raw/penguins_raw.csv\")\n",
    "\n",
    "# This will break if you haven't set the \n",
    "# working directory carefully.\n",
    "\n",
    "# The folder needs to exist first. "
   ]
  },
  {
   "cell_type": "markdown",
   "metadata": {},
   "source": [
    "You'll see I have a directory structure that will help me keep track of what I am doing. \n",
    "\n",
    "```\n",
    "- PenguinProject/\n",
    "    - data_raw/\n",
    "        - penguins_raw.csv\n",
    "    - penguin_analysis.rmd\n",
    "```\n",
    "\n",
    "---\n",
    "\n",
    "## <span style='background:yellow'> Exercise 01 (5mins)  </span>\n",
    "\n",
    "Create a new project in RStudio. Give it a name without spaces.\n",
    "\n",
    "Install and load the following libraries:\n",
    "\n",
    "- palmerpenguins\n",
    "- ggplot2\n",
    "- dpylr\n",
    "- janitor\n",
    "\n",
    "Open a new script, call it something like `Lab_Tutorial.R`. You may use RMarkdown if you prefer. Make sure the `setwd()` is applied to your project directory. \n",
    "\n",
    "Load the penguin data and save it in a folder *within* your project called `data_raw/`. \n",
    "\n",
    "You should have the following:\n",
    "\n",
    "```\n",
    "- PenguinProject/\n",
    "    - data_raw/\n",
    "        - penguins_raw.csv\n",
    "    - penguin_analysis.rmd\n",
    "```\n",
    "\n",
    "---\n",
    "\n",
    "\n",
    "## Cleaning the Column Names\n",
    "\n",
    "Once we've got that working, we can now start to fix the data set. We now have a safe, read-only copy in a file in our folder of the data. Within R, there is a variable data called `penguins_raw` which we can use for cleaning.\n",
    "\n"
   ]
  },
  {
   "cell_type": "code",
   "execution_count": 7,
   "metadata": {
    "vscode": {
     "languageId": "r"
    }
   },
   "outputs": [
    {
     "data": {
      "text/html": [
       "<style>\n",
       ".list-inline {list-style: none; margin:0; padding: 0}\n",
       ".list-inline>li {display: inline-block}\n",
       ".list-inline>li:not(:last-child)::after {content: \"\\00b7\"; padding: 0 .5ex}\n",
       "</style>\n",
       "<ol class=list-inline><li>'studyName'</li><li>'Sample Number'</li><li>'Species'</li><li>'Region'</li><li>'Island'</li><li>'Stage'</li><li>'Individual ID'</li><li>'Clutch Completion'</li><li>'Date Egg'</li><li>'Culmen Length (mm)'</li><li>'Culmen Depth (mm)'</li><li>'Flipper Length (mm)'</li><li>'Body Mass (g)'</li><li>'Sex'</li></ol>\n"
      ],
      "text/latex": [
       "\\begin{enumerate*}\n",
       "\\item 'studyName'\n",
       "\\item 'Sample Number'\n",
       "\\item 'Species'\n",
       "\\item 'Region'\n",
       "\\item 'Island'\n",
       "\\item 'Stage'\n",
       "\\item 'Individual ID'\n",
       "\\item 'Clutch Completion'\n",
       "\\item 'Date Egg'\n",
       "\\item 'Culmen Length (mm)'\n",
       "\\item 'Culmen Depth (mm)'\n",
       "\\item 'Flipper Length (mm)'\n",
       "\\item 'Body Mass (g)'\n",
       "\\item 'Sex'\n",
       "\\end{enumerate*}\n"
      ],
      "text/markdown": [
       "1. 'studyName'\n",
       "2. 'Sample Number'\n",
       "3. 'Species'\n",
       "4. 'Region'\n",
       "5. 'Island'\n",
       "6. 'Stage'\n",
       "7. 'Individual ID'\n",
       "8. 'Clutch Completion'\n",
       "9. 'Date Egg'\n",
       "10. 'Culmen Length (mm)'\n",
       "11. 'Culmen Depth (mm)'\n",
       "12. 'Flipper Length (mm)'\n",
       "13. 'Body Mass (g)'\n",
       "14. 'Sex'\n",
       "\n",
       "\n"
      ],
      "text/plain": [
       " [1] \"studyName\"           \"Sample Number\"       \"Species\"            \n",
       " [4] \"Region\"              \"Island\"              \"Stage\"              \n",
       " [7] \"Individual ID\"       \"Clutch Completion\"   \"Date Egg\"           \n",
       "[10] \"Culmen Length (mm)\"  \"Culmen Depth (mm)\"   \"Flipper Length (mm)\"\n",
       "[13] \"Body Mass (g)\"       \"Sex\"                "
      ]
     },
     "metadata": {},
     "output_type": "display_data"
    }
   ],
   "source": [
    "# The hypen '-' means we want to remove that column.\n",
    "\n",
    "penguins_raw <- select(penguins_raw,-starts_with(\"Delta\"))\n",
    "penguins_raw <- select(penguins_raw,-Comments)\n",
    "\n",
    "names(penguins_raw)\n"
   ]
  },
  {
   "cell_type": "markdown",
   "metadata": {},
   "source": [
    "If we look at how this little bit of code works, we start with `penguins_raw` and apply a function to it (in this case, remove columns that start with delta) and overwrite `penguins_raw`. Then we overwrite it again once we removed comments. \n",
    "\n",
    "This is a problem. It's not very robust, if I run it again it will throw an error. You can try this by running these lines twice."
   ]
  },
  {
   "cell_type": "markdown",
   "metadata": {},
   "source": [
    "### This is our first mistake! \n",
    "\n",
    "But that's okay, we can reload the safe copy of `penguin_raw` using \n",
    "\n",
    "`penguins_raw <- read.csv(\"data_raw/penguins_raw.csv\")`\n",
    "\n",
    "and instead of overwriting in the cleaning steps create a variable called `penguins_clean`."
   ]
  },
  {
   "cell_type": "code",
   "execution_count": 13,
   "metadata": {},
   "outputs": [
    {
     "data": {
      "text/html": [
       "<style>\n",
       ".list-inline {list-style: none; margin:0; padding: 0}\n",
       ".list-inline>li {display: inline-block}\n",
       ".list-inline>li:not(:last-child)::after {content: \"\\00b7\"; padding: 0 .5ex}\n",
       "</style>\n",
       "<ol class=list-inline><li>'X'</li><li>'studyName'</li><li>'Sample.Number'</li><li>'Species'</li><li>'Region'</li><li>'Island'</li><li>'Stage'</li><li>'Individual.ID'</li><li>'Clutch.Completion'</li><li>'Date.Egg'</li><li>'Culmen.Length..mm.'</li><li>'Culmen.Depth..mm.'</li><li>'Flipper.Length..mm.'</li><li>'Body.Mass..g.'</li><li>'Sex'</li><li>'Delta.15.N..o.oo.'</li><li>'Delta.13.C..o.oo.'</li><li>'Comments'</li></ol>\n"
      ],
      "text/latex": [
       "\\begin{enumerate*}\n",
       "\\item 'X'\n",
       "\\item 'studyName'\n",
       "\\item 'Sample.Number'\n",
       "\\item 'Species'\n",
       "\\item 'Region'\n",
       "\\item 'Island'\n",
       "\\item 'Stage'\n",
       "\\item 'Individual.ID'\n",
       "\\item 'Clutch.Completion'\n",
       "\\item 'Date.Egg'\n",
       "\\item 'Culmen.Length..mm.'\n",
       "\\item 'Culmen.Depth..mm.'\n",
       "\\item 'Flipper.Length..mm.'\n",
       "\\item 'Body.Mass..g.'\n",
       "\\item 'Sex'\n",
       "\\item 'Delta.15.N..o.oo.'\n",
       "\\item 'Delta.13.C..o.oo.'\n",
       "\\item 'Comments'\n",
       "\\end{enumerate*}\n"
      ],
      "text/markdown": [
       "1. 'X'\n",
       "2. 'studyName'\n",
       "3. 'Sample.Number'\n",
       "4. 'Species'\n",
       "5. 'Region'\n",
       "6. 'Island'\n",
       "7. 'Stage'\n",
       "8. 'Individual.ID'\n",
       "9. 'Clutch.Completion'\n",
       "10. 'Date.Egg'\n",
       "11. 'Culmen.Length..mm.'\n",
       "12. 'Culmen.Depth..mm.'\n",
       "13. 'Flipper.Length..mm.'\n",
       "14. 'Body.Mass..g.'\n",
       "15. 'Sex'\n",
       "16. 'Delta.15.N..o.oo.'\n",
       "17. 'Delta.13.C..o.oo.'\n",
       "18. 'Comments'\n",
       "\n",
       "\n"
      ],
      "text/plain": [
       " [1] \"X\"                   \"studyName\"           \"Sample.Number\"      \n",
       " [4] \"Species\"             \"Region\"              \"Island\"             \n",
       " [7] \"Stage\"               \"Individual.ID\"       \"Clutch.Completion\"  \n",
       "[10] \"Date.Egg\"            \"Culmen.Length..mm.\"  \"Culmen.Depth..mm.\"  \n",
       "[13] \"Flipper.Length..mm.\" \"Body.Mass..g.\"       \"Sex\"                \n",
       "[16] \"Delta.15.N..o.oo.\"   \"Delta.13.C..o.oo.\"   \"Comments\"           "
      ]
     },
     "metadata": {},
     "output_type": "display_data"
    },
    {
     "data": {
      "text/html": [
       "<style>\n",
       ".list-inline {list-style: none; margin:0; padding: 0}\n",
       ".list-inline>li {display: inline-block}\n",
       ".list-inline>li:not(:last-child)::after {content: \"\\00b7\"; padding: 0 .5ex}\n",
       "</style>\n",
       "<ol class=list-inline><li>'X'</li><li>'studyName'</li><li>'Sample.Number'</li><li>'Species'</li><li>'Region'</li><li>'Island'</li><li>'Stage'</li><li>'Individual.ID'</li><li>'Clutch.Completion'</li><li>'Date.Egg'</li><li>'Culmen.Length..mm.'</li><li>'Culmen.Depth..mm.'</li><li>'Flipper.Length..mm.'</li><li>'Body.Mass..g.'</li><li>'Sex'</li></ol>\n"
      ],
      "text/latex": [
       "\\begin{enumerate*}\n",
       "\\item 'X'\n",
       "\\item 'studyName'\n",
       "\\item 'Sample.Number'\n",
       "\\item 'Species'\n",
       "\\item 'Region'\n",
       "\\item 'Island'\n",
       "\\item 'Stage'\n",
       "\\item 'Individual.ID'\n",
       "\\item 'Clutch.Completion'\n",
       "\\item 'Date.Egg'\n",
       "\\item 'Culmen.Length..mm.'\n",
       "\\item 'Culmen.Depth..mm.'\n",
       "\\item 'Flipper.Length..mm.'\n",
       "\\item 'Body.Mass..g.'\n",
       "\\item 'Sex'\n",
       "\\end{enumerate*}\n"
      ],
      "text/markdown": [
       "1. 'X'\n",
       "2. 'studyName'\n",
       "3. 'Sample.Number'\n",
       "4. 'Species'\n",
       "5. 'Region'\n",
       "6. 'Island'\n",
       "7. 'Stage'\n",
       "8. 'Individual.ID'\n",
       "9. 'Clutch.Completion'\n",
       "10. 'Date.Egg'\n",
       "11. 'Culmen.Length..mm.'\n",
       "12. 'Culmen.Depth..mm.'\n",
       "13. 'Flipper.Length..mm.'\n",
       "14. 'Body.Mass..g.'\n",
       "15. 'Sex'\n",
       "\n",
       "\n"
      ],
      "text/plain": [
       " [1] \"X\"                   \"studyName\"           \"Sample.Number\"      \n",
       " [4] \"Species\"             \"Region\"              \"Island\"             \n",
       " [7] \"Stage\"               \"Individual.ID\"       \"Clutch.Completion\"  \n",
       "[10] \"Date.Egg\"            \"Culmen.Length..mm.\"  \"Culmen.Depth..mm.\"  \n",
       "[13] \"Flipper.Length..mm.\" \"Body.Mass..g.\"       \"Sex\"                "
      ]
     },
     "metadata": {},
     "output_type": "display_data"
    }
   ],
   "source": [
    "# ---- Previous version: -----\n",
    "# penguins_raw <- select(penguins_raw,-starts_with(\"Delta\"))\n",
    "# penguins_raw <- select(penguins_raw,-Comments)\n",
    "# ----------------------------\n",
    "\n",
    "# Reloading the penguin library because I overwrote penguins_raw.\n",
    "penguins_raw <- read.csv(\"data_raw/penguins_raw.csv\")\n",
    "\n",
    "names(penguins_raw)\n",
    "\n",
    "penguins_clean <- select(penguins_raw,-starts_with(\"Delta\"))\n",
    "penguins_clean <- select(penguins_clean,-Comments)\n",
    "\n",
    "names(penguins_clean)"
   ]
  },
  {
   "cell_type": "markdown",
   "metadata": {},
   "source": [
    "Now we have made a new variable called `penguins_clean`. However, this still involves overwriting in the second cleaning step. It is okay to overwrite if these lines are right next to each other. If you accidentally moved that line a lot further down and had code inbetween it then you'll get errors easily if you run it multiple times. "
   ]
  },
  {
   "cell_type": "markdown",
   "metadata": {},
   "source": [
    "## ...Overwriting is bad\n",
    "\n",
    "The `dplyr` library we installed has a better way of doing this called `piping` which is what this symbol means `%>%`. It means take the first variable, `penguins_raw`, do the following steps to it in order, then save it as something else, in this case we're calling it `penguins_clean`. I can run this multiple times and nothing goes wrong."
   ]
  },
  {
   "cell_type": "code",
   "execution_count": 29,
   "metadata": {
    "vscode": {
     "languageId": "r"
    }
   },
   "outputs": [
    {
     "data": {
      "text/html": [
       "<style>\n",
       ".list-inline {list-style: none; margin:0; padding: 0}\n",
       ".list-inline>li {display: inline-block}\n",
       ".list-inline>li:not(:last-child)::after {content: \"\\00b7\"; padding: 0 .5ex}\n",
       "</style>\n",
       "<ol class=list-inline><li>'X'</li><li>'studyName'</li><li>'Sample.Number'</li><li>'Species'</li><li>'Region'</li><li>'Island'</li><li>'Stage'</li><li>'Individual.ID'</li><li>'Clutch.Completion'</li><li>'Date.Egg'</li><li>'Culmen.Length..mm.'</li><li>'Culmen.Depth..mm.'</li><li>'Flipper.Length..mm.'</li><li>'Body.Mass..g.'</li><li>'Sex'</li><li>'Delta.15.N..o.oo.'</li><li>'Delta.13.C..o.oo.'</li><li>'Comments'</li></ol>\n"
      ],
      "text/latex": [
       "\\begin{enumerate*}\n",
       "\\item 'X'\n",
       "\\item 'studyName'\n",
       "\\item 'Sample.Number'\n",
       "\\item 'Species'\n",
       "\\item 'Region'\n",
       "\\item 'Island'\n",
       "\\item 'Stage'\n",
       "\\item 'Individual.ID'\n",
       "\\item 'Clutch.Completion'\n",
       "\\item 'Date.Egg'\n",
       "\\item 'Culmen.Length..mm.'\n",
       "\\item 'Culmen.Depth..mm.'\n",
       "\\item 'Flipper.Length..mm.'\n",
       "\\item 'Body.Mass..g.'\n",
       "\\item 'Sex'\n",
       "\\item 'Delta.15.N..o.oo.'\n",
       "\\item 'Delta.13.C..o.oo.'\n",
       "\\item 'Comments'\n",
       "\\end{enumerate*}\n"
      ],
      "text/markdown": [
       "1. 'X'\n",
       "2. 'studyName'\n",
       "3. 'Sample.Number'\n",
       "4. 'Species'\n",
       "5. 'Region'\n",
       "6. 'Island'\n",
       "7. 'Stage'\n",
       "8. 'Individual.ID'\n",
       "9. 'Clutch.Completion'\n",
       "10. 'Date.Egg'\n",
       "11. 'Culmen.Length..mm.'\n",
       "12. 'Culmen.Depth..mm.'\n",
       "13. 'Flipper.Length..mm.'\n",
       "14. 'Body.Mass..g.'\n",
       "15. 'Sex'\n",
       "16. 'Delta.15.N..o.oo.'\n",
       "17. 'Delta.13.C..o.oo.'\n",
       "18. 'Comments'\n",
       "\n",
       "\n"
      ],
      "text/plain": [
       " [1] \"X\"                   \"studyName\"           \"Sample.Number\"      \n",
       " [4] \"Species\"             \"Region\"              \"Island\"             \n",
       " [7] \"Stage\"               \"Individual.ID\"       \"Clutch.Completion\"  \n",
       "[10] \"Date.Egg\"            \"Culmen.Length..mm.\"  \"Culmen.Depth..mm.\"  \n",
       "[13] \"Flipper.Length..mm.\" \"Body.Mass..g.\"       \"Sex\"                \n",
       "[16] \"Delta.15.N..o.oo.\"   \"Delta.13.C..o.oo.\"   \"Comments\"           "
      ]
     },
     "metadata": {},
     "output_type": "display_data"
    },
    {
     "data": {
      "text/html": [
       "<style>\n",
       ".list-inline {list-style: none; margin:0; padding: 0}\n",
       ".list-inline>li {display: inline-block}\n",
       ".list-inline>li:not(:last-child)::after {content: \"\\00b7\"; padding: 0 .5ex}\n",
       "</style>\n",
       "<ol class=list-inline><li>'X'</li><li>'studyName'</li><li>'Sample.Number'</li><li>'Species'</li><li>'Region'</li><li>'Island'</li><li>'Stage'</li><li>'Individual.ID'</li><li>'Clutch.Completion'</li><li>'Date.Egg'</li><li>'Culmen.Length..mm.'</li><li>'Culmen.Depth..mm.'</li><li>'Flipper.Length..mm.'</li><li>'Body.Mass..g.'</li><li>'Sex'</li></ol>\n"
      ],
      "text/latex": [
       "\\begin{enumerate*}\n",
       "\\item 'X'\n",
       "\\item 'studyName'\n",
       "\\item 'Sample.Number'\n",
       "\\item 'Species'\n",
       "\\item 'Region'\n",
       "\\item 'Island'\n",
       "\\item 'Stage'\n",
       "\\item 'Individual.ID'\n",
       "\\item 'Clutch.Completion'\n",
       "\\item 'Date.Egg'\n",
       "\\item 'Culmen.Length..mm.'\n",
       "\\item 'Culmen.Depth..mm.'\n",
       "\\item 'Flipper.Length..mm.'\n",
       "\\item 'Body.Mass..g.'\n",
       "\\item 'Sex'\n",
       "\\end{enumerate*}\n"
      ],
      "text/markdown": [
       "1. 'X'\n",
       "2. 'studyName'\n",
       "3. 'Sample.Number'\n",
       "4. 'Species'\n",
       "5. 'Region'\n",
       "6. 'Island'\n",
       "7. 'Stage'\n",
       "8. 'Individual.ID'\n",
       "9. 'Clutch.Completion'\n",
       "10. 'Date.Egg'\n",
       "11. 'Culmen.Length..mm.'\n",
       "12. 'Culmen.Depth..mm.'\n",
       "13. 'Flipper.Length..mm.'\n",
       "14. 'Body.Mass..g.'\n",
       "15. 'Sex'\n",
       "\n",
       "\n"
      ],
      "text/plain": [
       " [1] \"X\"                   \"studyName\"           \"Sample.Number\"      \n",
       " [4] \"Species\"             \"Region\"              \"Island\"             \n",
       " [7] \"Stage\"               \"Individual.ID\"       \"Clutch.Completion\"  \n",
       "[10] \"Date.Egg\"            \"Culmen.Length..mm.\"  \"Culmen.Depth..mm.\"  \n",
       "[13] \"Flipper.Length..mm.\" \"Body.Mass..g.\"       \"Sex\"                "
      ]
     },
     "metadata": {},
     "output_type": "display_data"
    }
   ],
   "source": [
    "\n",
    "# ---- Previous versions: -----\n",
    "# penguins_raw <- select(penguins_raw,-starts_with(\"Delta\"))\n",
    "# penguins_raw <- select(penguins_raw,-Comments)\n",
    "#\n",
    "# penguins_clean <- select(penguins_raw,-starts_with(\"Delta\"))\n",
    "# penguins_clean <- select(penguins_clean,-Comments)\n",
    "\n",
    "# ----------------------------\n",
    "\n",
    "# Reloading the penguin library because I overwrote penguins_raw.\n",
    "penguins_raw <- read.csv(\"data_raw/penguins_raw.csv\")\n",
    "\n",
    "names(penguins_raw)\n",
    "\n",
    "penguins_clean <- penguins_raw %>%\n",
    "  select(-starts_with(\"Delta\")) %>%\n",
    "  select(-Comments)\n",
    "\n",
    "names(penguins_clean) \n",
    "\n"
   ]
  },
  {
   "cell_type": "markdown",
   "metadata": {},
   "source": [
    "Now I've removed the columns I don't want, but the names are still a problem.\n",
    "\n",
    "We could take time to edit all these column names invidually, but one important rule in coding is that anything you're trying to do, someone has probably done it before. We installed and loaded a library called `janitor` it has a very handy function called `clean_names()`.\n",
    "\n",
    "If I remake our pipe with this addition:"
   ]
  },
  {
   "cell_type": "code",
   "execution_count": null,
   "metadata": {
    "vscode": {
     "languageId": "r"
    }
   },
   "outputs": [],
   "source": [
    "names(penguins_raw)\n",
    "\n",
    "penguins_clean <- penguins_raw %>%\n",
    "    select(-starts_with(\"Delta\")) %>%\n",
    "    select(-Comments) %>%\n",
    "    clean_names()\n",
    "\n",
    "# Note, the order here is very important. \n",
    "# clean_names removes capital letters and select is case sensitive.\n",
    "# You would need to change to \"delta\" and Comments if clean_names() came first. \n",
    "\n",
    "names(penguins_clean)\n"
   ]
  },
  {
   "cell_type": "markdown",
   "metadata": {},
   "source": [
    "We now have those columns removed as before, but also all the column names are now standardised and suitable for R. Using other people's libraries saves a lot of time!"
   ]
  },
  {
   "cell_type": "markdown",
   "metadata": {},
   "source": [
    "What we're starting to do is produce a **Data Pipeline**."
   ]
  },
  {
   "cell_type": "code",
   "execution_count": 15,
   "metadata": {},
   "outputs": [
    {
     "data": {
      "text/html": [
       "<style>\n",
       ".list-inline {list-style: none; margin:0; padding: 0}\n",
       ".list-inline>li {display: inline-block}\n",
       ".list-inline>li:not(:last-child)::after {content: \"\\00b7\"; padding: 0 .5ex}\n",
       "</style>\n",
       "<ol class=list-inline><li>'X'</li><li>'studyName'</li><li>'Sample.Number'</li><li>'Species'</li><li>'Region'</li><li>'Island'</li><li>'Stage'</li><li>'Individual.ID'</li><li>'Clutch.Completion'</li><li>'Date.Egg'</li><li>'Culmen.Length..mm.'</li><li>'Culmen.Depth..mm.'</li><li>'Flipper.Length..mm.'</li><li>'Body.Mass..g.'</li><li>'Sex'</li><li>'Delta.15.N..o.oo.'</li><li>'Delta.13.C..o.oo.'</li><li>'Comments'</li></ol>\n"
      ],
      "text/latex": [
       "\\begin{enumerate*}\n",
       "\\item 'X'\n",
       "\\item 'studyName'\n",
       "\\item 'Sample.Number'\n",
       "\\item 'Species'\n",
       "\\item 'Region'\n",
       "\\item 'Island'\n",
       "\\item 'Stage'\n",
       "\\item 'Individual.ID'\n",
       "\\item 'Clutch.Completion'\n",
       "\\item 'Date.Egg'\n",
       "\\item 'Culmen.Length..mm.'\n",
       "\\item 'Culmen.Depth..mm.'\n",
       "\\item 'Flipper.Length..mm.'\n",
       "\\item 'Body.Mass..g.'\n",
       "\\item 'Sex'\n",
       "\\item 'Delta.15.N..o.oo.'\n",
       "\\item 'Delta.13.C..o.oo.'\n",
       "\\item 'Comments'\n",
       "\\end{enumerate*}\n"
      ],
      "text/markdown": [
       "1. 'X'\n",
       "2. 'studyName'\n",
       "3. 'Sample.Number'\n",
       "4. 'Species'\n",
       "5. 'Region'\n",
       "6. 'Island'\n",
       "7. 'Stage'\n",
       "8. 'Individual.ID'\n",
       "9. 'Clutch.Completion'\n",
       "10. 'Date.Egg'\n",
       "11. 'Culmen.Length..mm.'\n",
       "12. 'Culmen.Depth..mm.'\n",
       "13. 'Flipper.Length..mm.'\n",
       "14. 'Body.Mass..g.'\n",
       "15. 'Sex'\n",
       "16. 'Delta.15.N..o.oo.'\n",
       "17. 'Delta.13.C..o.oo.'\n",
       "18. 'Comments'\n",
       "\n",
       "\n"
      ],
      "text/plain": [
       " [1] \"X\"                   \"studyName\"           \"Sample.Number\"      \n",
       " [4] \"Species\"             \"Region\"              \"Island\"             \n",
       " [7] \"Stage\"               \"Individual.ID\"       \"Clutch.Completion\"  \n",
       "[10] \"Date.Egg\"            \"Culmen.Length..mm.\"  \"Culmen.Depth..mm.\"  \n",
       "[13] \"Flipper.Length..mm.\" \"Body.Mass..g.\"       \"Sex\"                \n",
       "[16] \"Delta.15.N..o.oo.\"   \"Delta.13.C..o.oo.\"   \"Comments\"           "
      ]
     },
     "metadata": {},
     "output_type": "display_data"
    },
    {
     "data": {
      "text/html": [
       "<table class=\"dataframe\">\n",
       "<caption>A data.frame: 6 × 15</caption>\n",
       "<thead>\n",
       "\t<tr><th></th><th scope=col>x</th><th scope=col>study_name</th><th scope=col>sample_number</th><th scope=col>species</th><th scope=col>region</th><th scope=col>island</th><th scope=col>stage</th><th scope=col>individual_id</th><th scope=col>clutch_completion</th><th scope=col>date_egg</th><th scope=col>culmen_length_mm</th><th scope=col>culmen_depth_mm</th><th scope=col>flipper_length_mm</th><th scope=col>body_mass_g</th><th scope=col>sex</th></tr>\n",
       "\t<tr><th></th><th scope=col>&lt;int&gt;</th><th scope=col>&lt;chr&gt;</th><th scope=col>&lt;int&gt;</th><th scope=col>&lt;chr&gt;</th><th scope=col>&lt;chr&gt;</th><th scope=col>&lt;chr&gt;</th><th scope=col>&lt;chr&gt;</th><th scope=col>&lt;chr&gt;</th><th scope=col>&lt;chr&gt;</th><th scope=col>&lt;chr&gt;</th><th scope=col>&lt;dbl&gt;</th><th scope=col>&lt;dbl&gt;</th><th scope=col>&lt;int&gt;</th><th scope=col>&lt;int&gt;</th><th scope=col>&lt;chr&gt;</th></tr>\n",
       "</thead>\n",
       "<tbody>\n",
       "\t<tr><th scope=row>1</th><td>1</td><td>PAL0708</td><td>1</td><td>Adelie Penguin (Pygoscelis adeliae)</td><td>Anvers</td><td>Torgersen</td><td>Adult, 1 Egg Stage</td><td>N1A1</td><td>Yes</td><td>2007-11-11</td><td>39.1</td><td>18.7</td><td>181</td><td>3750</td><td>MALE  </td></tr>\n",
       "\t<tr><th scope=row>2</th><td>2</td><td>PAL0708</td><td>2</td><td>Adelie Penguin (Pygoscelis adeliae)</td><td>Anvers</td><td>Torgersen</td><td>Adult, 1 Egg Stage</td><td>N1A2</td><td>Yes</td><td>2007-11-11</td><td>39.5</td><td>17.4</td><td>186</td><td>3800</td><td>FEMALE</td></tr>\n",
       "\t<tr><th scope=row>3</th><td>3</td><td>PAL0708</td><td>3</td><td>Adelie Penguin (Pygoscelis adeliae)</td><td>Anvers</td><td>Torgersen</td><td>Adult, 1 Egg Stage</td><td>N2A1</td><td>Yes</td><td>2007-11-16</td><td>40.3</td><td>18.0</td><td>195</td><td>3250</td><td>FEMALE</td></tr>\n",
       "\t<tr><th scope=row>4</th><td>4</td><td>PAL0708</td><td>4</td><td>Adelie Penguin (Pygoscelis adeliae)</td><td>Anvers</td><td>Torgersen</td><td>Adult, 1 Egg Stage</td><td>N2A2</td><td>Yes</td><td>2007-11-16</td><td>  NA</td><td>  NA</td><td> NA</td><td>  NA</td><td>NA    </td></tr>\n",
       "\t<tr><th scope=row>5</th><td>5</td><td>PAL0708</td><td>5</td><td>Adelie Penguin (Pygoscelis adeliae)</td><td>Anvers</td><td>Torgersen</td><td>Adult, 1 Egg Stage</td><td>N3A1</td><td>Yes</td><td>2007-11-16</td><td>36.7</td><td>19.3</td><td>193</td><td>3450</td><td>FEMALE</td></tr>\n",
       "\t<tr><th scope=row>6</th><td>6</td><td>PAL0708</td><td>6</td><td>Adelie Penguin (Pygoscelis adeliae)</td><td>Anvers</td><td>Torgersen</td><td>Adult, 1 Egg Stage</td><td>N3A2</td><td>Yes</td><td>2007-11-16</td><td>39.3</td><td>20.6</td><td>190</td><td>3650</td><td>MALE  </td></tr>\n",
       "</tbody>\n",
       "</table>\n"
      ],
      "text/latex": [
       "A data.frame: 6 × 15\n",
       "\\begin{tabular}{r|lllllllllllllll}\n",
       "  & x & study\\_name & sample\\_number & species & region & island & stage & individual\\_id & clutch\\_completion & date\\_egg & culmen\\_length\\_mm & culmen\\_depth\\_mm & flipper\\_length\\_mm & body\\_mass\\_g & sex\\\\\n",
       "  & <int> & <chr> & <int> & <chr> & <chr> & <chr> & <chr> & <chr> & <chr> & <chr> & <dbl> & <dbl> & <int> & <int> & <chr>\\\\\n",
       "\\hline\n",
       "\t1 & 1 & PAL0708 & 1 & Adelie Penguin (Pygoscelis adeliae) & Anvers & Torgersen & Adult, 1 Egg Stage & N1A1 & Yes & 2007-11-11 & 39.1 & 18.7 & 181 & 3750 & MALE  \\\\\n",
       "\t2 & 2 & PAL0708 & 2 & Adelie Penguin (Pygoscelis adeliae) & Anvers & Torgersen & Adult, 1 Egg Stage & N1A2 & Yes & 2007-11-11 & 39.5 & 17.4 & 186 & 3800 & FEMALE\\\\\n",
       "\t3 & 3 & PAL0708 & 3 & Adelie Penguin (Pygoscelis adeliae) & Anvers & Torgersen & Adult, 1 Egg Stage & N2A1 & Yes & 2007-11-16 & 40.3 & 18.0 & 195 & 3250 & FEMALE\\\\\n",
       "\t4 & 4 & PAL0708 & 4 & Adelie Penguin (Pygoscelis adeliae) & Anvers & Torgersen & Adult, 1 Egg Stage & N2A2 & Yes & 2007-11-16 &   NA &   NA &  NA &   NA & NA    \\\\\n",
       "\t5 & 5 & PAL0708 & 5 & Adelie Penguin (Pygoscelis adeliae) & Anvers & Torgersen & Adult, 1 Egg Stage & N3A1 & Yes & 2007-11-16 & 36.7 & 19.3 & 193 & 3450 & FEMALE\\\\\n",
       "\t6 & 6 & PAL0708 & 6 & Adelie Penguin (Pygoscelis adeliae) & Anvers & Torgersen & Adult, 1 Egg Stage & N3A2 & Yes & 2007-11-16 & 39.3 & 20.6 & 190 & 3650 & MALE  \\\\\n",
       "\\end{tabular}\n"
      ],
      "text/markdown": [
       "\n",
       "A data.frame: 6 × 15\n",
       "\n",
       "| <!--/--> | x &lt;int&gt; | study_name &lt;chr&gt; | sample_number &lt;int&gt; | species &lt;chr&gt; | region &lt;chr&gt; | island &lt;chr&gt; | stage &lt;chr&gt; | individual_id &lt;chr&gt; | clutch_completion &lt;chr&gt; | date_egg &lt;chr&gt; | culmen_length_mm &lt;dbl&gt; | culmen_depth_mm &lt;dbl&gt; | flipper_length_mm &lt;int&gt; | body_mass_g &lt;int&gt; | sex &lt;chr&gt; |\n",
       "|---|---|---|---|---|---|---|---|---|---|---|---|---|---|---|---|\n",
       "| 1 | 1 | PAL0708 | 1 | Adelie Penguin (Pygoscelis adeliae) | Anvers | Torgersen | Adult, 1 Egg Stage | N1A1 | Yes | 2007-11-11 | 39.1 | 18.7 | 181 | 3750 | MALE   |\n",
       "| 2 | 2 | PAL0708 | 2 | Adelie Penguin (Pygoscelis adeliae) | Anvers | Torgersen | Adult, 1 Egg Stage | N1A2 | Yes | 2007-11-11 | 39.5 | 17.4 | 186 | 3800 | FEMALE |\n",
       "| 3 | 3 | PAL0708 | 3 | Adelie Penguin (Pygoscelis adeliae) | Anvers | Torgersen | Adult, 1 Egg Stage | N2A1 | Yes | 2007-11-16 | 40.3 | 18.0 | 195 | 3250 | FEMALE |\n",
       "| 4 | 4 | PAL0708 | 4 | Adelie Penguin (Pygoscelis adeliae) | Anvers | Torgersen | Adult, 1 Egg Stage | N2A2 | Yes | 2007-11-16 |   NA |   NA |  NA |   NA | NA     |\n",
       "| 5 | 5 | PAL0708 | 5 | Adelie Penguin (Pygoscelis adeliae) | Anvers | Torgersen | Adult, 1 Egg Stage | N3A1 | Yes | 2007-11-16 | 36.7 | 19.3 | 193 | 3450 | FEMALE |\n",
       "| 6 | 6 | PAL0708 | 6 | Adelie Penguin (Pygoscelis adeliae) | Anvers | Torgersen | Adult, 1 Egg Stage | N3A2 | Yes | 2007-11-16 | 39.3 | 20.6 | 190 | 3650 | MALE   |\n",
       "\n"
      ],
      "text/plain": [
       "  x study_name sample_number species                             region\n",
       "1 1 PAL0708    1             Adelie Penguin (Pygoscelis adeliae) Anvers\n",
       "2 2 PAL0708    2             Adelie Penguin (Pygoscelis adeliae) Anvers\n",
       "3 3 PAL0708    3             Adelie Penguin (Pygoscelis adeliae) Anvers\n",
       "4 4 PAL0708    4             Adelie Penguin (Pygoscelis adeliae) Anvers\n",
       "5 5 PAL0708    5             Adelie Penguin (Pygoscelis adeliae) Anvers\n",
       "6 6 PAL0708    6             Adelie Penguin (Pygoscelis adeliae) Anvers\n",
       "  island    stage              individual_id clutch_completion date_egg  \n",
       "1 Torgersen Adult, 1 Egg Stage N1A1          Yes               2007-11-11\n",
       "2 Torgersen Adult, 1 Egg Stage N1A2          Yes               2007-11-11\n",
       "3 Torgersen Adult, 1 Egg Stage N2A1          Yes               2007-11-16\n",
       "4 Torgersen Adult, 1 Egg Stage N2A2          Yes               2007-11-16\n",
       "5 Torgersen Adult, 1 Egg Stage N3A1          Yes               2007-11-16\n",
       "6 Torgersen Adult, 1 Egg Stage N3A2          Yes               2007-11-16\n",
       "  culmen_length_mm culmen_depth_mm flipper_length_mm body_mass_g sex   \n",
       "1 39.1             18.7            181               3750        MALE  \n",
       "2 39.5             17.4            186               3800        FEMALE\n",
       "3 40.3             18.0            195               3250        FEMALE\n",
       "4   NA               NA             NA                 NA        NA    \n",
       "5 36.7             19.3            193               3450        FEMALE\n",
       "6 39.3             20.6            190               3650        MALE  "
      ]
     },
     "metadata": {},
     "output_type": "display_data"
    }
   ],
   "source": [
    "# Our FULL code now:\n",
    "\n",
    "library(palmerpenguins)\n",
    "library(ggplot2)\n",
    "library(janitor)\n",
    "library(dplyr)\n",
    "\n",
    "# Loading the raw penguin data\n",
    "penguins_raw <- read.csv(\"data_raw/penguins_raw.csv\")\n",
    "\n",
    "# Look at the column names\n",
    "names(penguins_raw)\n",
    "\n",
    "# Pipe to clean up the column names\n",
    "penguins_clean <- penguins_raw %>%\n",
    "  select(-starts_with(\"Delta\")) %>%\n",
    "  select(-Comments) %>%\n",
    "    clean_names()\n",
    "\n",
    "# Look at the table, first few rows\n",
    "head(penguins_clean) \n"
   ]
  },
  {
   "cell_type": "markdown",
   "metadata": {},
   "source": [
    "## Data Pipelines\n",
    "\n",
    "As things currently stand in research papers, generally the methodology looks like this:\n",
    "\n",
    "<img src=\"https://i.imgur.com/wbgVDSZ.png\" alt=\"Drawing\" style=\"width: 800px;\"/>\n",
    "\n",
    "We know where the research questions come from, we can read those in the introduction, and we can usually find detailed methodology about data collection in the lab or field. But when it comes to what steps happened for the analysis and producing figures, we get no information! Even the data used for the analysis is unavailable most of the time. \n",
    "\n",
    "<img src=\"https://i.imgur.com/xZmsFXP.png\" alt=\"Drawing\" style=\"width: 300px;\"/>\n",
    "\n",
    "What we should be doing is filling in the blanks:\n",
    "\n",
    "<img src=\"https://i.imgur.com/7LHRrh1.png\" alt=\"Drawing\" style=\"width: 1000px;\"/>\n",
    "\n",
    "And in closer detail:\n",
    "\n",
    "<img src=\"https://i.imgur.com/AIwZP7a.png\" alt=\"Drawing\" style=\"width: 900px;\"/>\n",
    "\n",
    "Where we can make sure the raw and cleaned data are also available, for example on Zenodo. This can help in situations where scientific results need to be held under scrutiny, and also for collaborative purposes! Other people may have exciting new uses for the computational work you have worked hard on."
   ]
  },
  {
   "cell_type": "markdown",
   "metadata": {},
   "source": [
    "## Reuseable Code\n",
    "\n",
    "We often need the same code over and over again. This aspect of building **data pipelines** is making the parts **reusable** for other purposes. These code blocks that might be making a figure or running a specific model you know you'll need multiple times. \n",
    "\n",
    "Something that is extremely helpful in making reuseable code is making a **function**. \n",
    "\n",
    "## Creating a Function in R\n",
    "\n",
    "We use functions all the time in R and we load them from Libraries. We can actually make our own. \n",
    "\n",
    "We start with the name of our function, we're going to call it `cleaning`. In the brackets of `function()` we specify what is getting fed into the function, in this case the raw data. \n",
    "\n",
    "> Note, it doesn't matter what we call the function! You might want to call it `cleaning_columns`.\n",
    "\n",
    "Then as before, we put the pipe inside. We're keeping this function generally applicable, so the input can just have a generic name like `data` or `raw_data`. Unlike before, we don't specify what the new variable will be called, as the function will simply output it. The `{}` brackets specify what is inside the function. "
   ]
  },
  {
   "cell_type": "code",
   "execution_count": 17,
   "metadata": {
    "vscode": {
     "languageId": "r"
    }
   },
   "outputs": [],
   "source": [
    "cleaning <- function(data_raw){\n",
    "  data_raw %>%\n",
    "    clean_names()\n",
    "}\n",
    "\n",
    "# Fun fact, you can call the outputs and inputs anything \n",
    "# you want. As long as it it internally consistent:\n",
    "\n",
    "# cleaning <- function(abcdefg){\n",
    "#   abcdefg %>%\n",
    "#     clean_names()\n",
    "# }\n",
    "\n",
    "# For readability, choose variable names that make sense and can be read!\n",
    "# Write code for humans, not computers. "
   ]
  },
  {
   "cell_type": "markdown",
   "metadata": {},
   "source": [
    "Now we've defined it, absolutely nothing happens. "
   ]
  },
  {
   "cell_type": "code",
   "execution_count": 18,
   "metadata": {
    "vscode": {
     "languageId": "r"
    }
   },
   "outputs": [
    {
     "data": {
      "text/html": [
       "<style>\n",
       ".list-inline {list-style: none; margin:0; padding: 0}\n",
       ".list-inline>li {display: inline-block}\n",
       ".list-inline>li:not(:last-child)::after {content: \"\\00b7\"; padding: 0 .5ex}\n",
       "</style>\n",
       "<ol class=list-inline><li>'X'</li><li>'studyName'</li><li>'Sample.Number'</li><li>'Species'</li><li>'Region'</li><li>'Island'</li><li>'Stage'</li><li>'Individual.ID'</li><li>'Clutch.Completion'</li><li>'Date.Egg'</li><li>'Culmen.Length..mm.'</li><li>'Culmen.Depth..mm.'</li><li>'Flipper.Length..mm.'</li><li>'Body.Mass..g.'</li><li>'Sex'</li><li>'Delta.15.N..o.oo.'</li><li>'Delta.13.C..o.oo.'</li><li>'Comments'</li></ol>\n"
      ],
      "text/latex": [
       "\\begin{enumerate*}\n",
       "\\item 'X'\n",
       "\\item 'studyName'\n",
       "\\item 'Sample.Number'\n",
       "\\item 'Species'\n",
       "\\item 'Region'\n",
       "\\item 'Island'\n",
       "\\item 'Stage'\n",
       "\\item 'Individual.ID'\n",
       "\\item 'Clutch.Completion'\n",
       "\\item 'Date.Egg'\n",
       "\\item 'Culmen.Length..mm.'\n",
       "\\item 'Culmen.Depth..mm.'\n",
       "\\item 'Flipper.Length..mm.'\n",
       "\\item 'Body.Mass..g.'\n",
       "\\item 'Sex'\n",
       "\\item 'Delta.15.N..o.oo.'\n",
       "\\item 'Delta.13.C..o.oo.'\n",
       "\\item 'Comments'\n",
       "\\end{enumerate*}\n"
      ],
      "text/markdown": [
       "1. 'X'\n",
       "2. 'studyName'\n",
       "3. 'Sample.Number'\n",
       "4. 'Species'\n",
       "5. 'Region'\n",
       "6. 'Island'\n",
       "7. 'Stage'\n",
       "8. 'Individual.ID'\n",
       "9. 'Clutch.Completion'\n",
       "10. 'Date.Egg'\n",
       "11. 'Culmen.Length..mm.'\n",
       "12. 'Culmen.Depth..mm.'\n",
       "13. 'Flipper.Length..mm.'\n",
       "14. 'Body.Mass..g.'\n",
       "15. 'Sex'\n",
       "16. 'Delta.15.N..o.oo.'\n",
       "17. 'Delta.13.C..o.oo.'\n",
       "18. 'Comments'\n",
       "\n",
       "\n"
      ],
      "text/plain": [
       " [1] \"X\"                   \"studyName\"           \"Sample.Number\"      \n",
       " [4] \"Species\"             \"Region\"              \"Island\"             \n",
       " [7] \"Stage\"               \"Individual.ID\"       \"Clutch.Completion\"  \n",
       "[10] \"Date.Egg\"            \"Culmen.Length..mm.\"  \"Culmen.Depth..mm.\"  \n",
       "[13] \"Flipper.Length..mm.\" \"Body.Mass..g.\"       \"Sex\"                \n",
       "[16] \"Delta.15.N..o.oo.\"   \"Delta.13.C..o.oo.\"   \"Comments\"           "
      ]
     },
     "metadata": {},
     "output_type": "display_data"
    }
   ],
   "source": [
    "names(penguins_raw)"
   ]
  },
  {
   "cell_type": "markdown",
   "metadata": {},
   "source": [
    "We have to actually **call** the function to make it do something. First we define the function, and then we call it. \n",
    "\n",
    "### Calling the Function\n",
    "\n",
    "Here I can put the rest of the pipe inside, and I added another line which removes any empty rows or columns:"
   ]
  },
  {
   "cell_type": "code",
   "execution_count": 26,
   "metadata": {
    "vscode": {
     "languageId": "r"
    }
   },
   "outputs": [
    {
     "data": {
      "text/html": [
       "<style>\n",
       ".list-inline {list-style: none; margin:0; padding: 0}\n",
       ".list-inline>li {display: inline-block}\n",
       ".list-inline>li:not(:last-child)::after {content: \"\\00b7\"; padding: 0 .5ex}\n",
       "</style>\n",
       "<ol class=list-inline><li>'x'</li><li>'study_name'</li><li>'sample_number'</li><li>'species'</li><li>'region'</li><li>'island'</li><li>'stage'</li><li>'individual_id'</li><li>'clutch_completion'</li><li>'date_egg'</li><li>'culmen_length_mm'</li><li>'culmen_depth_mm'</li><li>'flipper_length_mm'</li><li>'body_mass_g'</li><li>'sex'</li></ol>\n"
      ],
      "text/latex": [
       "\\begin{enumerate*}\n",
       "\\item 'x'\n",
       "\\item 'study\\_name'\n",
       "\\item 'sample\\_number'\n",
       "\\item 'species'\n",
       "\\item 'region'\n",
       "\\item 'island'\n",
       "\\item 'stage'\n",
       "\\item 'individual\\_id'\n",
       "\\item 'clutch\\_completion'\n",
       "\\item 'date\\_egg'\n",
       "\\item 'culmen\\_length\\_mm'\n",
       "\\item 'culmen\\_depth\\_mm'\n",
       "\\item 'flipper\\_length\\_mm'\n",
       "\\item 'body\\_mass\\_g'\n",
       "\\item 'sex'\n",
       "\\end{enumerate*}\n"
      ],
      "text/markdown": [
       "1. 'x'\n",
       "2. 'study_name'\n",
       "3. 'sample_number'\n",
       "4. 'species'\n",
       "5. 'region'\n",
       "6. 'island'\n",
       "7. 'stage'\n",
       "8. 'individual_id'\n",
       "9. 'clutch_completion'\n",
       "10. 'date_egg'\n",
       "11. 'culmen_length_mm'\n",
       "12. 'culmen_depth_mm'\n",
       "13. 'flipper_length_mm'\n",
       "14. 'body_mass_g'\n",
       "15. 'sex'\n",
       "\n",
       "\n"
      ],
      "text/plain": [
       " [1] \"x\"                 \"study_name\"        \"sample_number\"    \n",
       " [4] \"species\"           \"region\"            \"island\"           \n",
       " [7] \"stage\"             \"individual_id\"     \"clutch_completion\"\n",
       "[10] \"date_egg\"          \"culmen_length_mm\"  \"culmen_depth_mm\"  \n",
       "[13] \"flipper_length_mm\" \"body_mass_g\"       \"sex\"              "
      ]
     },
     "metadata": {},
     "output_type": "display_data"
    }
   ],
   "source": [
    "# Defining the function\n",
    "cleaning <- function(data_raw){\n",
    "  data_raw %>%\n",
    "    clean_names() %>%\n",
    "    remove_empty(c(\"rows\", \"cols\")) %>%\n",
    "    select(-starts_with(\"delta\")) %>%\n",
    "    select(-comments)\n",
    "    }\n",
    " \n",
    "# Calling the function\n",
    "penguins_now_clean <- cleaning(penguins_raw)\n",
    "\n",
    "# Checking the results\n",
    "names(penguins_now_clean)\n",
    "\n",
    "# Fun fact Part II: it doesn't matter if the input here has a different name to the input \n",
    "# we used when creating the function. \n",
    "# penguins_raw is different to data_raw and yet the function will work fine."
   ]
  },
  {
   "cell_type": "markdown",
   "metadata": {},
   "source": [
    "# Save the Clean Data\n",
    "\n",
    "It makes sense to save our now clean data to a csv file. Create a new folder called `data_clean`:\n",
    "\n",
    "```\n",
    "- PenguinProject/\n",
    "    - data_raw/\n",
    "        - penguins_raw.csv\n",
    "    - data_clean/\n",
    "    - penguin_analysis.rmd\n",
    "```\n",
    "And as before we will save a `.csv` with our newly cleaned data."
   ]
  },
  {
   "cell_type": "code",
   "execution_count": null,
   "metadata": {},
   "outputs": [],
   "source": [
    "write.csv(penguins_now_clean, \"data_clean/penguins_clean.csv\")\n"
   ]
  },
  {
   "cell_type": "markdown",
   "metadata": {},
   "source": [
    "```\n",
    "- PenguinProject/\n",
    "    - data_raw/\n",
    "        - penguins_raw.csv\n",
    "    - data_clean/\n",
    "        - penguins_clean.csv\n",
    "    - penguin_analysis.rmd\n",
    "```"
   ]
  },
  {
   "cell_type": "markdown",
   "metadata": {},
   "source": [
    "--- \n",
    "## <span style='background:yellow'> Exercise 02 (10mins) </span>\n",
    "\n",
    "Write out your cleaning function.\n",
    "\n",
    "Fill in the rest of the pipeline...\n",
    "- Starts with the penguin_raw data \n",
    "- It should remove those two columns\n",
    "- It should clean the column names\n",
    "\n",
    "Check it works.\n",
    "\n",
    "Save your clean data to a `Project/data_clean/` folder with a suitable name. \n",
    "\n",
    "\n",
    "---\n",
    "\n",
    "\n"
   ]
  },
  {
   "cell_type": "markdown",
   "metadata": {},
   "source": [
    "# Putting the Function in File\n",
    "\n",
    "## Keeping the cleaning code safe\n",
    "\n",
    "So far in our code, we have been careful to save a copy of our raw data and clean data, but we also want a safe copy of our cleaning code. It is critical to also save a copy of the steps we took to clean the data, so that it is open to scrutiny and checking. If wrote the cleaning code in the terminal in R or across multiple files we might lose then there would be no way of reproducing it exactly later.\n",
    "\n",
    "In this toy example, we have also talked about this cleaning code function being reuseable. What is always bad is copying and pasting our code everywhere. \n",
    "\n",
    "Why?\n",
    "\n",
    "- If you make a mistake, then you have to hunt down everywhere you pasted it\n",
    "- It's easy to have multiple variations accidentally and confuse yourself\n",
    "- No record of how that code has changed over time (remember your version control lesson)\n",
    "\n",
    "\n",
    "Now we have a function, this acts as a building block we can call on our data where we need to. We can also save it in our project folder in an R file. \n",
    "\n",
    "I'm going to save it to a new folder called `functions/` in an R file called `cleaning.r`.\n",
    "\n",
    "```\n",
    "- PenguinProject/\n",
    "    - data_raw/\n",
    "        - penguins_raw.csv\n",
    "    - data_clean/\n",
    "        - penguins_clean.csv\n",
    "    - functions/\n",
    "        - cleaning.r\n",
    "    - penguin_analysis.rmd\n",
    "```\n",
    "\n",
    "# Why bother?\n",
    "\n",
    "Having copies of the same code everywhere is a bad idea. \n",
    "\n",
    "We're building our data pipeline, and keeping these blocks safe and version controlled is really important. For this workshop we're only doing minor steps and so it will seem like overkill. \n",
    "\n",
    "If you keep all the code you use for cleaning data in one place, you can then call it in multiple places whenever you need it.\n",
    "\n",
    "For example, you might want to have a script that looks at the flippers, and another script that looks at the egg laying. If you copied and pasted the cleaning data function into both scripts, and then later on realise you made a mistake in that function, you'll have to hunt down every copy you have. \n",
    "\n",
    "Instead you can save it to a file called `functions/cleaning.R` and everytime you use it, you refer to that copy only. Then any changes you make to it are consistently applied everywhere. \n",
    "\n",
    "You can also use your git commits to keep a clear record of what has happened to these functions over time, (your github time machine) rather than having to look through all your scripts manually. \n",
    "\n",
    "Also, if someone was quickly looking at your code folder, they can quickly find all the methods you used on your data to check what is going on! This is a lot better than a 2000 line `Rmd` file to read through and try to figure out what your methods were. \n",
    "\n",
    "So, just like we keep a safe record of our data, we keep a safe record of our **data protocols**. \n",
    "\n",
    "\n",
    "Also, it takes a bit of time right now, but you're saving a serious amount of headaches later on...\n",
    "\n",
    "<img src=\"https://i.imgur.com/zQGLO2E.png\" alt=\"Drawing\" style=\"width: 700px;\"/>\n",
    "\n"
   ]
  },
  {
   "cell_type": "markdown",
   "metadata": {},
   "source": [
    "Here's our full code now. We generally put our function definitions at the top of the file. "
   ]
  },
  {
   "cell_type": "code",
   "execution_count": 31,
   "metadata": {},
   "outputs": [
    {
     "data": {
      "text/html": [
       "<style>\n",
       ".list-inline {list-style: none; margin:0; padding: 0}\n",
       ".list-inline>li {display: inline-block}\n",
       ".list-inline>li:not(:last-child)::after {content: \"\\00b7\"; padding: 0 .5ex}\n",
       "</style>\n",
       "<ol class=list-inline><li>'X'</li><li>'studyName'</li><li>'Sample.Number'</li><li>'Species'</li><li>'Region'</li><li>'Island'</li><li>'Stage'</li><li>'Individual.ID'</li><li>'Clutch.Completion'</li><li>'Date.Egg'</li><li>'Culmen.Length..mm.'</li><li>'Culmen.Depth..mm.'</li><li>'Flipper.Length..mm.'</li><li>'Body.Mass..g.'</li><li>'Sex'</li><li>'Delta.15.N..o.oo.'</li><li>'Delta.13.C..o.oo.'</li><li>'Comments'</li></ol>\n"
      ],
      "text/latex": [
       "\\begin{enumerate*}\n",
       "\\item 'X'\n",
       "\\item 'studyName'\n",
       "\\item 'Sample.Number'\n",
       "\\item 'Species'\n",
       "\\item 'Region'\n",
       "\\item 'Island'\n",
       "\\item 'Stage'\n",
       "\\item 'Individual.ID'\n",
       "\\item 'Clutch.Completion'\n",
       "\\item 'Date.Egg'\n",
       "\\item 'Culmen.Length..mm.'\n",
       "\\item 'Culmen.Depth..mm.'\n",
       "\\item 'Flipper.Length..mm.'\n",
       "\\item 'Body.Mass..g.'\n",
       "\\item 'Sex'\n",
       "\\item 'Delta.15.N..o.oo.'\n",
       "\\item 'Delta.13.C..o.oo.'\n",
       "\\item 'Comments'\n",
       "\\end{enumerate*}\n"
      ],
      "text/markdown": [
       "1. 'X'\n",
       "2. 'studyName'\n",
       "3. 'Sample.Number'\n",
       "4. 'Species'\n",
       "5. 'Region'\n",
       "6. 'Island'\n",
       "7. 'Stage'\n",
       "8. 'Individual.ID'\n",
       "9. 'Clutch.Completion'\n",
       "10. 'Date.Egg'\n",
       "11. 'Culmen.Length..mm.'\n",
       "12. 'Culmen.Depth..mm.'\n",
       "13. 'Flipper.Length..mm.'\n",
       "14. 'Body.Mass..g.'\n",
       "15. 'Sex'\n",
       "16. 'Delta.15.N..o.oo.'\n",
       "17. 'Delta.13.C..o.oo.'\n",
       "18. 'Comments'\n",
       "\n",
       "\n"
      ],
      "text/plain": [
       " [1] \"X\"                   \"studyName\"           \"Sample.Number\"      \n",
       " [4] \"Species\"             \"Region\"              \"Island\"             \n",
       " [7] \"Stage\"               \"Individual.ID\"       \"Clutch.Completion\"  \n",
       "[10] \"Date.Egg\"            \"Culmen.Length..mm.\"  \"Culmen.Depth..mm.\"  \n",
       "[13] \"Flipper.Length..mm.\" \"Body.Mass..g.\"       \"Sex\"                \n",
       "[16] \"Delta.15.N..o.oo.\"   \"Delta.13.C..o.oo.\"   \"Comments\"           "
      ]
     },
     "metadata": {},
     "output_type": "display_data"
    },
    {
     "data": {
      "text/html": [
       "<table class=\"dataframe\">\n",
       "<caption>A data.frame: 6 × 15</caption>\n",
       "<thead>\n",
       "\t<tr><th></th><th scope=col>X</th><th scope=col>studyName</th><th scope=col>Sample.Number</th><th scope=col>Species</th><th scope=col>Region</th><th scope=col>Island</th><th scope=col>Stage</th><th scope=col>Individual.ID</th><th scope=col>Clutch.Completion</th><th scope=col>Date.Egg</th><th scope=col>Culmen.Length..mm.</th><th scope=col>Culmen.Depth..mm.</th><th scope=col>Flipper.Length..mm.</th><th scope=col>Body.Mass..g.</th><th scope=col>Sex</th></tr>\n",
       "\t<tr><th></th><th scope=col>&lt;int&gt;</th><th scope=col>&lt;chr&gt;</th><th scope=col>&lt;int&gt;</th><th scope=col>&lt;chr&gt;</th><th scope=col>&lt;chr&gt;</th><th scope=col>&lt;chr&gt;</th><th scope=col>&lt;chr&gt;</th><th scope=col>&lt;chr&gt;</th><th scope=col>&lt;chr&gt;</th><th scope=col>&lt;chr&gt;</th><th scope=col>&lt;dbl&gt;</th><th scope=col>&lt;dbl&gt;</th><th scope=col>&lt;int&gt;</th><th scope=col>&lt;int&gt;</th><th scope=col>&lt;chr&gt;</th></tr>\n",
       "</thead>\n",
       "<tbody>\n",
       "\t<tr><th scope=row>1</th><td>1</td><td>PAL0708</td><td>1</td><td>Adelie Penguin (Pygoscelis adeliae)</td><td>Anvers</td><td>Torgersen</td><td>Adult, 1 Egg Stage</td><td>N1A1</td><td>Yes</td><td>2007-11-11</td><td>39.1</td><td>18.7</td><td>181</td><td>3750</td><td>MALE  </td></tr>\n",
       "\t<tr><th scope=row>2</th><td>2</td><td>PAL0708</td><td>2</td><td>Adelie Penguin (Pygoscelis adeliae)</td><td>Anvers</td><td>Torgersen</td><td>Adult, 1 Egg Stage</td><td>N1A2</td><td>Yes</td><td>2007-11-11</td><td>39.5</td><td>17.4</td><td>186</td><td>3800</td><td>FEMALE</td></tr>\n",
       "\t<tr><th scope=row>3</th><td>3</td><td>PAL0708</td><td>3</td><td>Adelie Penguin (Pygoscelis adeliae)</td><td>Anvers</td><td>Torgersen</td><td>Adult, 1 Egg Stage</td><td>N2A1</td><td>Yes</td><td>2007-11-16</td><td>40.3</td><td>18.0</td><td>195</td><td>3250</td><td>FEMALE</td></tr>\n",
       "\t<tr><th scope=row>4</th><td>4</td><td>PAL0708</td><td>4</td><td>Adelie Penguin (Pygoscelis adeliae)</td><td>Anvers</td><td>Torgersen</td><td>Adult, 1 Egg Stage</td><td>N2A2</td><td>Yes</td><td>2007-11-16</td><td>  NA</td><td>  NA</td><td> NA</td><td>  NA</td><td>NA    </td></tr>\n",
       "\t<tr><th scope=row>5</th><td>5</td><td>PAL0708</td><td>5</td><td>Adelie Penguin (Pygoscelis adeliae)</td><td>Anvers</td><td>Torgersen</td><td>Adult, 1 Egg Stage</td><td>N3A1</td><td>Yes</td><td>2007-11-16</td><td>36.7</td><td>19.3</td><td>193</td><td>3450</td><td>FEMALE</td></tr>\n",
       "\t<tr><th scope=row>6</th><td>6</td><td>PAL0708</td><td>6</td><td>Adelie Penguin (Pygoscelis adeliae)</td><td>Anvers</td><td>Torgersen</td><td>Adult, 1 Egg Stage</td><td>N3A2</td><td>Yes</td><td>2007-11-16</td><td>39.3</td><td>20.6</td><td>190</td><td>3650</td><td>MALE  </td></tr>\n",
       "</tbody>\n",
       "</table>\n"
      ],
      "text/latex": [
       "A data.frame: 6 × 15\n",
       "\\begin{tabular}{r|lllllllllllllll}\n",
       "  & X & studyName & Sample.Number & Species & Region & Island & Stage & Individual.ID & Clutch.Completion & Date.Egg & Culmen.Length..mm. & Culmen.Depth..mm. & Flipper.Length..mm. & Body.Mass..g. & Sex\\\\\n",
       "  & <int> & <chr> & <int> & <chr> & <chr> & <chr> & <chr> & <chr> & <chr> & <chr> & <dbl> & <dbl> & <int> & <int> & <chr>\\\\\n",
       "\\hline\n",
       "\t1 & 1 & PAL0708 & 1 & Adelie Penguin (Pygoscelis adeliae) & Anvers & Torgersen & Adult, 1 Egg Stage & N1A1 & Yes & 2007-11-11 & 39.1 & 18.7 & 181 & 3750 & MALE  \\\\\n",
       "\t2 & 2 & PAL0708 & 2 & Adelie Penguin (Pygoscelis adeliae) & Anvers & Torgersen & Adult, 1 Egg Stage & N1A2 & Yes & 2007-11-11 & 39.5 & 17.4 & 186 & 3800 & FEMALE\\\\\n",
       "\t3 & 3 & PAL0708 & 3 & Adelie Penguin (Pygoscelis adeliae) & Anvers & Torgersen & Adult, 1 Egg Stage & N2A1 & Yes & 2007-11-16 & 40.3 & 18.0 & 195 & 3250 & FEMALE\\\\\n",
       "\t4 & 4 & PAL0708 & 4 & Adelie Penguin (Pygoscelis adeliae) & Anvers & Torgersen & Adult, 1 Egg Stage & N2A2 & Yes & 2007-11-16 &   NA &   NA &  NA &   NA & NA    \\\\\n",
       "\t5 & 5 & PAL0708 & 5 & Adelie Penguin (Pygoscelis adeliae) & Anvers & Torgersen & Adult, 1 Egg Stage & N3A1 & Yes & 2007-11-16 & 36.7 & 19.3 & 193 & 3450 & FEMALE\\\\\n",
       "\t6 & 6 & PAL0708 & 6 & Adelie Penguin (Pygoscelis adeliae) & Anvers & Torgersen & Adult, 1 Egg Stage & N3A2 & Yes & 2007-11-16 & 39.3 & 20.6 & 190 & 3650 & MALE  \\\\\n",
       "\\end{tabular}\n"
      ],
      "text/markdown": [
       "\n",
       "A data.frame: 6 × 15\n",
       "\n",
       "| <!--/--> | X &lt;int&gt; | studyName &lt;chr&gt; | Sample.Number &lt;int&gt; | Species &lt;chr&gt; | Region &lt;chr&gt; | Island &lt;chr&gt; | Stage &lt;chr&gt; | Individual.ID &lt;chr&gt; | Clutch.Completion &lt;chr&gt; | Date.Egg &lt;chr&gt; | Culmen.Length..mm. &lt;dbl&gt; | Culmen.Depth..mm. &lt;dbl&gt; | Flipper.Length..mm. &lt;int&gt; | Body.Mass..g. &lt;int&gt; | Sex &lt;chr&gt; |\n",
       "|---|---|---|---|---|---|---|---|---|---|---|---|---|---|---|---|\n",
       "| 1 | 1 | PAL0708 | 1 | Adelie Penguin (Pygoscelis adeliae) | Anvers | Torgersen | Adult, 1 Egg Stage | N1A1 | Yes | 2007-11-11 | 39.1 | 18.7 | 181 | 3750 | MALE   |\n",
       "| 2 | 2 | PAL0708 | 2 | Adelie Penguin (Pygoscelis adeliae) | Anvers | Torgersen | Adult, 1 Egg Stage | N1A2 | Yes | 2007-11-11 | 39.5 | 17.4 | 186 | 3800 | FEMALE |\n",
       "| 3 | 3 | PAL0708 | 3 | Adelie Penguin (Pygoscelis adeliae) | Anvers | Torgersen | Adult, 1 Egg Stage | N2A1 | Yes | 2007-11-16 | 40.3 | 18.0 | 195 | 3250 | FEMALE |\n",
       "| 4 | 4 | PAL0708 | 4 | Adelie Penguin (Pygoscelis adeliae) | Anvers | Torgersen | Adult, 1 Egg Stage | N2A2 | Yes | 2007-11-16 |   NA |   NA |  NA |   NA | NA     |\n",
       "| 5 | 5 | PAL0708 | 5 | Adelie Penguin (Pygoscelis adeliae) | Anvers | Torgersen | Adult, 1 Egg Stage | N3A1 | Yes | 2007-11-16 | 36.7 | 19.3 | 193 | 3450 | FEMALE |\n",
       "| 6 | 6 | PAL0708 | 6 | Adelie Penguin (Pygoscelis adeliae) | Anvers | Torgersen | Adult, 1 Egg Stage | N3A2 | Yes | 2007-11-16 | 39.3 | 20.6 | 190 | 3650 | MALE   |\n",
       "\n"
      ],
      "text/plain": [
       "  X studyName Sample.Number Species                             Region\n",
       "1 1 PAL0708   1             Adelie Penguin (Pygoscelis adeliae) Anvers\n",
       "2 2 PAL0708   2             Adelie Penguin (Pygoscelis adeliae) Anvers\n",
       "3 3 PAL0708   3             Adelie Penguin (Pygoscelis adeliae) Anvers\n",
       "4 4 PAL0708   4             Adelie Penguin (Pygoscelis adeliae) Anvers\n",
       "5 5 PAL0708   5             Adelie Penguin (Pygoscelis adeliae) Anvers\n",
       "6 6 PAL0708   6             Adelie Penguin (Pygoscelis adeliae) Anvers\n",
       "  Island    Stage              Individual.ID Clutch.Completion Date.Egg  \n",
       "1 Torgersen Adult, 1 Egg Stage N1A1          Yes               2007-11-11\n",
       "2 Torgersen Adult, 1 Egg Stage N1A2          Yes               2007-11-11\n",
       "3 Torgersen Adult, 1 Egg Stage N2A1          Yes               2007-11-16\n",
       "4 Torgersen Adult, 1 Egg Stage N2A2          Yes               2007-11-16\n",
       "5 Torgersen Adult, 1 Egg Stage N3A1          Yes               2007-11-16\n",
       "6 Torgersen Adult, 1 Egg Stage N3A2          Yes               2007-11-16\n",
       "  Culmen.Length..mm. Culmen.Depth..mm. Flipper.Length..mm. Body.Mass..g. Sex   \n",
       "1 39.1               18.7              181                 3750          MALE  \n",
       "2 39.5               17.4              186                 3800          FEMALE\n",
       "3 40.3               18.0              195                 3250          FEMALE\n",
       "4   NA                 NA               NA                   NA          NA    \n",
       "5 36.7               19.3              193                 3450          FEMALE\n",
       "6 39.3               20.6              190                 3650          MALE  "
      ]
     },
     "metadata": {},
     "output_type": "display_data"
    }
   ],
   "source": [
    "\n",
    "library(palmerpenguins)\n",
    "library(ggplot2)\n",
    "library(janitor)\n",
    "library(dplyr)\n",
    "\n",
    "# Defining the cleaning function\n",
    "cleaning <- function(data_raw){\n",
    "  data_raw %>%\n",
    "    clean_names() %>%\n",
    "    remove_empty(c(\"rows\", \"cols\")) %>%\n",
    "    select(-starts_with(\"delta\")) %>%\n",
    "    select(-comments)\n",
    "    }\n",
    "# -------------- \n",
    "\n",
    "# Loading the raw penguin data\n",
    "penguins_raw <- read.csv(\"data_raw/penguins_raw.csv\")\n",
    "\n",
    "# Look at the column names\n",
    "names(penguins_raw)\n",
    "\n",
    "# Calling the function to clean it\n",
    "penguins_now_clean <- cleaning(penguins_raw)\n",
    "\n",
    "# Look at the table, first few rows\n",
    "head(penguins_clean) \n",
    "\n",
    "# Save the clean data\n",
    "write.csv(penguins_now_clean, \"data_clean/penguins_clean.csv\")\n",
    "\n"
   ]
  },
  {
   "cell_type": "markdown",
   "metadata": {},
   "source": [
    "# [Now go to the next part about plotting](https://github.com/LydiaFrance/Reproducible_Figures_R/blob/lessons/lesson_notebook02_figures.ipynb). "
   ]
  }
 ],
 "metadata": {
  "kernelspec": {
   "display_name": "R",
   "language": "R",
   "name": "ir"
  },
  "language_info": {
   "codemirror_mode": "r",
   "file_extension": ".r",
   "mimetype": "text/x-r-source",
   "name": "R",
   "pygments_lexer": "r",
   "version": "4.2.1"
  },
  "vscode": {
   "interpreter": {
    "hash": "aee8b7b246df8f9039afb4144a1f6fd8d2ca17a180786b69acc140d282b71a49"
   }
  }
 },
 "nbformat": 4,
 "nbformat_minor": 4
}
