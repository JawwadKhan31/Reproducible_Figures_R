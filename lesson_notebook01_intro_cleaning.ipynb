{
 "cells": [
  {
   "cell_type": "markdown",
   "metadata": {},
   "source": [
    "# Reproducible Science in R and Figures (Part 1)\n",
    "\n",
    "### What you should know by the end of this lesson...\n",
    "\n",
    "- How to load data and clean it \n",
    "- Create an exploratory figure\n",
    "- Communicate with a figure by changing its appearance\n",
    "- Remake the same figure for a different purpose\n",
    "- Save a figure for use in a report and poster\n",
    "\n",
    "### Skills you will have by the end of the lesson...\n",
    "\n",
    "- Using `ggplot2`\n",
    "- Changing the elements in a figure\n",
    "- Creating a custom function\n",
    "- Reading from other R files\n",
    "- Creating `png` or `svg` (vector) image files\n",
    "- Functional, modular, reproducible code\n",
    "\n",
    "Images from [The Turing Way](https://the-turing-way.netlify.app/reproducible-research/reproducible-research.html)! \n",
    "\n",
    "<img src=\"https://zenodo.org/record/3332808/files/1728_TURI_Book%20sprint_5%20turing%20way_040619.jpg\" alt=\"Drawing\" style=\"width: 300px;\"/>\n"
   ]
  },
  {
   "cell_type": "markdown",
   "metadata": {},
   "source": [
    "## What is Reproducible Research?\n",
    "\n",
    "<img src=\"https://the-turing-way.netlify.app/_images/reproducibility.jpg\" alt=\"Drawing\" style=\"width: 600px;\"/>\n",
    "\n",
    "\n",
    "Scientific results and evidence are strengthened if those results can be replicated and confirmed by several independent researchers. \n",
    "\n",
    "What you do on your computer is a part of scientific methodology like fieldwork and labwork.\n",
    "\n",
    "> Major media outlets have reported on investigations showing that a significant percentage of scientific studies cannot be reproduced. \n",
    "> This leads to other academics and society losing trust in scientific results.\n",
    ">\n",
    "> https://www.nature.com/articles/533452a\n",
    "\n",
    "**Reproducible**\n",
    "\n",
    " - Authors provide all the necessary data and the computer codes to run the analysis again, re-creating the results.\n",
    "\n",
    "**Replicable**\n",
    "\n",
    "- A study that arrives at the same scientific findings as another study, collecting new data (possibly with different methods) and completing new analyses.\n",
    "\n",
    "<img src=\"https://oliviergimenez.github.io/reproducible-science-workshop/slides/assets/definitions.jpg\" alt=\"Drawing\" style=\"width: 600px;\"/>\n",
    "\n",
    "\n",
    "## Why bother?\n",
    "\n",
    "### Helps YOU\n",
    "\n",
    "<img src=\"https://the-turing-way.netlify.app/_images/project-history.jpg\" alt=\"Drawing\" style=\"width: 300px;\"/>\n",
    "\n",
    "\n",
    "\n",
    "Usually the person trying to redo your work and analysis is yourself at a later date!\n",
    "\n",
    "A lot of time is wasted redoing analyses because you can't read or understand your own code from a few weeks or years ago, and having to redo figures because you've lost the code to generate it. \n",
    "\n",
    "It also acts as a fail safe backup for your work!\n",
    "\n",
    "### Helps open science\n",
    "\n",
    "<img src=\"https://the-turing-way.netlify.app/_images/evolution-open-research.jpg\" alt=\"Drawing\" style=\"width: 500px;\"/>\n",
    "\n",
    "\n",
    "Open research aims to transform research by making it more reproducible, transparent, reusable, collaborative, accountable, and accessible to society. \n",
    "\n",
    "\n",
    "- Be publicly available: It is difficult to use and benefit from knowledge hidden behind barriers such as passwords and paywalls.\n",
    "\n",
    "- Be reusable: Research outputs need to be licensed appropriately, so that prospective users know any limitations on re-use.\n",
    "\n",
    "- Be transparent: With appropriate metadata to provide clear statements of how research output was produced and what it contains.\n",
    "\n",
    "Open practices can make it easier for researchers to connect by increasing the discoverability and visibility of one’s work, facilitating rapid access to novel data and software resources, and creating new opportunities to interact with and contribute to ongoing communal projects.\n",
    "\n",
    "### Helps you publish\n",
    "<img src=\"https://www.turing.ac.uk/sites/default/files/inline-images/Culture%20shift.jpg\" alt=\"Drawing\" style=\"width: 400px;\"/>\n",
    "\n",
    "\n",
    "\n",
    "It is becoming more common for code release to be part of the scientific publishing and grant approval process. \n",
    "\n",
    "\n",
    "\n",
    "\n",
    "\n",
    "\n"
   ]
  },
  {
   "cell_type": "markdown",
   "metadata": {},
   "source": [
    "# Penguin Data\n",
    "\n",
    "This data set on Palmer penguins has nice examples all over the internet. It contains morphometric data from three species of penguin.\n",
    "\n",
    "<img src=\"https://allisonhorst.github.io/palmerpenguins/reference/figures/lter_penguins.png\" alt=\"Drawing\" style=\"width: 400px;\"/>\n",
    "\n",
    "<img src=\"https://allisonhorst.github.io/palmerpenguins/reference/figures/culmen_depth.png\" alt=\"Drawing\" style=\"width: 350px;\"/>\n"
   ]
  },
  {
   "cell_type": "markdown",
   "metadata": {},
   "source": [
    "First we need to load the data from a library called `palmerpenguins` and some libraries that will help. "
   ]
  },
  {
   "cell_type": "code",
   "execution_count": 1,
   "metadata": {
    "vscode": {
     "languageId": "r"
    }
   },
   "outputs": [
    {
     "name": "stderr",
     "output_type": "stream",
     "text": [
      "\n",
      "Attaching package: ‘janitor’\n",
      "\n",
      "\n",
      "The following objects are masked from ‘package:stats’:\n",
      "\n",
      "    chisq.test, fisher.test\n",
      "\n",
      "\n",
      "\n",
      "Attaching package: ‘dplyr’\n",
      "\n",
      "\n",
      "The following objects are masked from ‘package:stats’:\n",
      "\n",
      "    filter, lag\n",
      "\n",
      "\n",
      "The following objects are masked from ‘package:base’:\n",
      "\n",
      "    intersect, setdiff, setequal, union\n",
      "\n",
      "\n"
     ]
    }
   ],
   "source": [
    "library(palmerpenguins)\n",
    "library(ggplot2)\n",
    "library(janitor)\n",
    "library(dplyr)"
   ]
  },
  {
   "cell_type": "markdown",
   "metadata": {},
   "source": [
    "## Looking at the Data\n",
    "\n",
    "We can look at the data as a table in order to see what issues it might have. This table has over 33 rows so we are just going to look at the first 6. "
   ]
  },
  {
   "cell_type": "code",
   "execution_count": 2,
   "metadata": {
    "vscode": {
     "languageId": "r"
    }
   },
   "outputs": [
    {
     "data": {
      "text/html": [
       "<table class=\"dataframe\">\n",
       "<caption>A tibble: 6 × 17</caption>\n",
       "<thead>\n",
       "\t<tr><th scope=col>studyName</th><th scope=col>Sample Number</th><th scope=col>Species</th><th scope=col>Region</th><th scope=col>Island</th><th scope=col>Stage</th><th scope=col>Individual ID</th><th scope=col>Clutch Completion</th><th scope=col>Date Egg</th><th scope=col>Culmen Length (mm)</th><th scope=col>Culmen Depth (mm)</th><th scope=col>Flipper Length (mm)</th><th scope=col>Body Mass (g)</th><th scope=col>Sex</th><th scope=col>Delta 15 N (o/oo)</th><th scope=col>Delta 13 C (o/oo)</th><th scope=col>Comments</th></tr>\n",
       "\t<tr><th scope=col>&lt;chr&gt;</th><th scope=col>&lt;dbl&gt;</th><th scope=col>&lt;chr&gt;</th><th scope=col>&lt;chr&gt;</th><th scope=col>&lt;chr&gt;</th><th scope=col>&lt;chr&gt;</th><th scope=col>&lt;chr&gt;</th><th scope=col>&lt;chr&gt;</th><th scope=col>&lt;date&gt;</th><th scope=col>&lt;dbl&gt;</th><th scope=col>&lt;dbl&gt;</th><th scope=col>&lt;dbl&gt;</th><th scope=col>&lt;dbl&gt;</th><th scope=col>&lt;chr&gt;</th><th scope=col>&lt;dbl&gt;</th><th scope=col>&lt;dbl&gt;</th><th scope=col>&lt;chr&gt;</th></tr>\n",
       "</thead>\n",
       "<tbody>\n",
       "\t<tr><td>PAL0708</td><td>1</td><td>Adelie Penguin (Pygoscelis adeliae)</td><td>Anvers</td><td>Torgersen</td><td>Adult, 1 Egg Stage</td><td>N1A1</td><td>Yes</td><td>2007-11-11</td><td>39.1</td><td>18.7</td><td>181</td><td>3750</td><td>MALE  </td><td>     NA</td><td>       NA</td><td>Not enough blood for isotopes.</td></tr>\n",
       "\t<tr><td>PAL0708</td><td>2</td><td>Adelie Penguin (Pygoscelis adeliae)</td><td>Anvers</td><td>Torgersen</td><td>Adult, 1 Egg Stage</td><td>N1A2</td><td>Yes</td><td>2007-11-11</td><td>39.5</td><td>17.4</td><td>186</td><td>3800</td><td>FEMALE</td><td>8.94956</td><td>-24.69454</td><td>NA                            </td></tr>\n",
       "\t<tr><td>PAL0708</td><td>3</td><td>Adelie Penguin (Pygoscelis adeliae)</td><td>Anvers</td><td>Torgersen</td><td>Adult, 1 Egg Stage</td><td>N2A1</td><td>Yes</td><td>2007-11-16</td><td>40.3</td><td>18.0</td><td>195</td><td>3250</td><td>FEMALE</td><td>8.36821</td><td>-25.33302</td><td>NA                            </td></tr>\n",
       "\t<tr><td>PAL0708</td><td>4</td><td>Adelie Penguin (Pygoscelis adeliae)</td><td>Anvers</td><td>Torgersen</td><td>Adult, 1 Egg Stage</td><td>N2A2</td><td>Yes</td><td>2007-11-16</td><td>  NA</td><td>  NA</td><td> NA</td><td>  NA</td><td>NA    </td><td>     NA</td><td>       NA</td><td>Adult not sampled.            </td></tr>\n",
       "\t<tr><td>PAL0708</td><td>5</td><td>Adelie Penguin (Pygoscelis adeliae)</td><td>Anvers</td><td>Torgersen</td><td>Adult, 1 Egg Stage</td><td>N3A1</td><td>Yes</td><td>2007-11-16</td><td>36.7</td><td>19.3</td><td>193</td><td>3450</td><td>FEMALE</td><td>8.76651</td><td>-25.32426</td><td>NA                            </td></tr>\n",
       "\t<tr><td>PAL0708</td><td>6</td><td>Adelie Penguin (Pygoscelis adeliae)</td><td>Anvers</td><td>Torgersen</td><td>Adult, 1 Egg Stage</td><td>N3A2</td><td>Yes</td><td>2007-11-16</td><td>39.3</td><td>20.6</td><td>190</td><td>3650</td><td>MALE  </td><td>8.66496</td><td>-25.29805</td><td>NA                            </td></tr>\n",
       "</tbody>\n",
       "</table>\n"
      ],
      "text/latex": [
       "A tibble: 6 × 17\n",
       "\\begin{tabular}{lllllllllllllllll}\n",
       " studyName & Sample Number & Species & Region & Island & Stage & Individual ID & Clutch Completion & Date Egg & Culmen Length (mm) & Culmen Depth (mm) & Flipper Length (mm) & Body Mass (g) & Sex & Delta 15 N (o/oo) & Delta 13 C (o/oo) & Comments\\\\\n",
       " <chr> & <dbl> & <chr> & <chr> & <chr> & <chr> & <chr> & <chr> & <date> & <dbl> & <dbl> & <dbl> & <dbl> & <chr> & <dbl> & <dbl> & <chr>\\\\\n",
       "\\hline\n",
       "\t PAL0708 & 1 & Adelie Penguin (Pygoscelis adeliae) & Anvers & Torgersen & Adult, 1 Egg Stage & N1A1 & Yes & 2007-11-11 & 39.1 & 18.7 & 181 & 3750 & MALE   &      NA &        NA & Not enough blood for isotopes.\\\\\n",
       "\t PAL0708 & 2 & Adelie Penguin (Pygoscelis adeliae) & Anvers & Torgersen & Adult, 1 Egg Stage & N1A2 & Yes & 2007-11-11 & 39.5 & 17.4 & 186 & 3800 & FEMALE & 8.94956 & -24.69454 & NA                            \\\\\n",
       "\t PAL0708 & 3 & Adelie Penguin (Pygoscelis adeliae) & Anvers & Torgersen & Adult, 1 Egg Stage & N2A1 & Yes & 2007-11-16 & 40.3 & 18.0 & 195 & 3250 & FEMALE & 8.36821 & -25.33302 & NA                            \\\\\n",
       "\t PAL0708 & 4 & Adelie Penguin (Pygoscelis adeliae) & Anvers & Torgersen & Adult, 1 Egg Stage & N2A2 & Yes & 2007-11-16 &   NA &   NA &  NA &   NA & NA     &      NA &        NA & Adult not sampled.            \\\\\n",
       "\t PAL0708 & 5 & Adelie Penguin (Pygoscelis adeliae) & Anvers & Torgersen & Adult, 1 Egg Stage & N3A1 & Yes & 2007-11-16 & 36.7 & 19.3 & 193 & 3450 & FEMALE & 8.76651 & -25.32426 & NA                            \\\\\n",
       "\t PAL0708 & 6 & Adelie Penguin (Pygoscelis adeliae) & Anvers & Torgersen & Adult, 1 Egg Stage & N3A2 & Yes & 2007-11-16 & 39.3 & 20.6 & 190 & 3650 & MALE   & 8.66496 & -25.29805 & NA                            \\\\\n",
       "\\end{tabular}\n"
      ],
      "text/markdown": [
       "\n",
       "A tibble: 6 × 17\n",
       "\n",
       "| studyName &lt;chr&gt; | Sample Number &lt;dbl&gt; | Species &lt;chr&gt; | Region &lt;chr&gt; | Island &lt;chr&gt; | Stage &lt;chr&gt; | Individual ID &lt;chr&gt; | Clutch Completion &lt;chr&gt; | Date Egg &lt;date&gt; | Culmen Length (mm) &lt;dbl&gt; | Culmen Depth (mm) &lt;dbl&gt; | Flipper Length (mm) &lt;dbl&gt; | Body Mass (g) &lt;dbl&gt; | Sex &lt;chr&gt; | Delta 15 N (o/oo) &lt;dbl&gt; | Delta 13 C (o/oo) &lt;dbl&gt; | Comments &lt;chr&gt; |\n",
       "|---|---|---|---|---|---|---|---|---|---|---|---|---|---|---|---|---|\n",
       "| PAL0708 | 1 | Adelie Penguin (Pygoscelis adeliae) | Anvers | Torgersen | Adult, 1 Egg Stage | N1A1 | Yes | 2007-11-11 | 39.1 | 18.7 | 181 | 3750 | MALE   |      NA |        NA | Not enough blood for isotopes. |\n",
       "| PAL0708 | 2 | Adelie Penguin (Pygoscelis adeliae) | Anvers | Torgersen | Adult, 1 Egg Stage | N1A2 | Yes | 2007-11-11 | 39.5 | 17.4 | 186 | 3800 | FEMALE | 8.94956 | -24.69454 | NA                             |\n",
       "| PAL0708 | 3 | Adelie Penguin (Pygoscelis adeliae) | Anvers | Torgersen | Adult, 1 Egg Stage | N2A1 | Yes | 2007-11-16 | 40.3 | 18.0 | 195 | 3250 | FEMALE | 8.36821 | -25.33302 | NA                             |\n",
       "| PAL0708 | 4 | Adelie Penguin (Pygoscelis adeliae) | Anvers | Torgersen | Adult, 1 Egg Stage | N2A2 | Yes | 2007-11-16 |   NA |   NA |  NA |   NA | NA     |      NA |        NA | Adult not sampled.             |\n",
       "| PAL0708 | 5 | Adelie Penguin (Pygoscelis adeliae) | Anvers | Torgersen | Adult, 1 Egg Stage | N3A1 | Yes | 2007-11-16 | 36.7 | 19.3 | 193 | 3450 | FEMALE | 8.76651 | -25.32426 | NA                             |\n",
       "| PAL0708 | 6 | Adelie Penguin (Pygoscelis adeliae) | Anvers | Torgersen | Adult, 1 Egg Stage | N3A2 | Yes | 2007-11-16 | 39.3 | 20.6 | 190 | 3650 | MALE   | 8.66496 | -25.29805 | NA                             |\n",
       "\n"
      ],
      "text/plain": [
       "  studyName Sample Number Species                             Region Island   \n",
       "1 PAL0708   1             Adelie Penguin (Pygoscelis adeliae) Anvers Torgersen\n",
       "2 PAL0708   2             Adelie Penguin (Pygoscelis adeliae) Anvers Torgersen\n",
       "3 PAL0708   3             Adelie Penguin (Pygoscelis adeliae) Anvers Torgersen\n",
       "4 PAL0708   4             Adelie Penguin (Pygoscelis adeliae) Anvers Torgersen\n",
       "5 PAL0708   5             Adelie Penguin (Pygoscelis adeliae) Anvers Torgersen\n",
       "6 PAL0708   6             Adelie Penguin (Pygoscelis adeliae) Anvers Torgersen\n",
       "  Stage              Individual ID Clutch Completion Date Egg  \n",
       "1 Adult, 1 Egg Stage N1A1          Yes               2007-11-11\n",
       "2 Adult, 1 Egg Stage N1A2          Yes               2007-11-11\n",
       "3 Adult, 1 Egg Stage N2A1          Yes               2007-11-16\n",
       "4 Adult, 1 Egg Stage N2A2          Yes               2007-11-16\n",
       "5 Adult, 1 Egg Stage N3A1          Yes               2007-11-16\n",
       "6 Adult, 1 Egg Stage N3A2          Yes               2007-11-16\n",
       "  Culmen Length (mm) Culmen Depth (mm) Flipper Length (mm) Body Mass (g) Sex   \n",
       "1 39.1               18.7              181                 3750          MALE  \n",
       "2 39.5               17.4              186                 3800          FEMALE\n",
       "3 40.3               18.0              195                 3250          FEMALE\n",
       "4   NA                 NA               NA                   NA          NA    \n",
       "5 36.7               19.3              193                 3450          FEMALE\n",
       "6 39.3               20.6              190                 3650          MALE  \n",
       "  Delta 15 N (o/oo) Delta 13 C (o/oo) Comments                      \n",
       "1      NA                  NA         Not enough blood for isotopes.\n",
       "2 8.94956           -24.69454         NA                            \n",
       "3 8.36821           -25.33302         NA                            \n",
       "4      NA                  NA         Adult not sampled.            \n",
       "5 8.76651           -25.32426         NA                            \n",
       "6 8.66496           -25.29805         NA                            "
      ]
     },
     "metadata": {},
     "output_type": "display_data"
    }
   ],
   "source": [
    "head(penguins_raw)"
   ]
  },
  {
   "cell_type": "markdown",
   "metadata": {},
   "source": [
    "One problem we can see immediately, the column names. \n",
    "Let's just look at the column names:"
   ]
  },
  {
   "cell_type": "code",
   "execution_count": 3,
   "metadata": {
    "vscode": {
     "languageId": "r"
    }
   },
   "outputs": [
    {
     "data": {
      "text/html": [
       "<style>\n",
       ".list-inline {list-style: none; margin:0; padding: 0}\n",
       ".list-inline>li {display: inline-block}\n",
       ".list-inline>li:not(:last-child)::after {content: \"\\00b7\"; padding: 0 .5ex}\n",
       "</style>\n",
       "<ol class=list-inline><li>'studyName'</li><li>'Sample Number'</li><li>'Species'</li><li>'Region'</li><li>'Island'</li><li>'Stage'</li><li>'Individual ID'</li><li>'Clutch Completion'</li><li>'Date Egg'</li><li>'Culmen Length (mm)'</li><li>'Culmen Depth (mm)'</li><li>'Flipper Length (mm)'</li><li>'Body Mass (g)'</li><li>'Sex'</li><li>'Delta 15 N (o/oo)'</li><li>'Delta 13 C (o/oo)'</li><li>'Comments'</li></ol>\n"
      ],
      "text/latex": [
       "\\begin{enumerate*}\n",
       "\\item 'studyName'\n",
       "\\item 'Sample Number'\n",
       "\\item 'Species'\n",
       "\\item 'Region'\n",
       "\\item 'Island'\n",
       "\\item 'Stage'\n",
       "\\item 'Individual ID'\n",
       "\\item 'Clutch Completion'\n",
       "\\item 'Date Egg'\n",
       "\\item 'Culmen Length (mm)'\n",
       "\\item 'Culmen Depth (mm)'\n",
       "\\item 'Flipper Length (mm)'\n",
       "\\item 'Body Mass (g)'\n",
       "\\item 'Sex'\n",
       "\\item 'Delta 15 N (o/oo)'\n",
       "\\item 'Delta 13 C (o/oo)'\n",
       "\\item 'Comments'\n",
       "\\end{enumerate*}\n"
      ],
      "text/markdown": [
       "1. 'studyName'\n",
       "2. 'Sample Number'\n",
       "3. 'Species'\n",
       "4. 'Region'\n",
       "5. 'Island'\n",
       "6. 'Stage'\n",
       "7. 'Individual ID'\n",
       "8. 'Clutch Completion'\n",
       "9. 'Date Egg'\n",
       "10. 'Culmen Length (mm)'\n",
       "11. 'Culmen Depth (mm)'\n",
       "12. 'Flipper Length (mm)'\n",
       "13. 'Body Mass (g)'\n",
       "14. 'Sex'\n",
       "15. 'Delta 15 N (o/oo)'\n",
       "16. 'Delta 13 C (o/oo)'\n",
       "17. 'Comments'\n",
       "\n",
       "\n"
      ],
      "text/plain": [
       " [1] \"studyName\"           \"Sample Number\"       \"Species\"            \n",
       " [4] \"Region\"              \"Island\"              \"Stage\"              \n",
       " [7] \"Individual ID\"       \"Clutch Completion\"   \"Date Egg\"           \n",
       "[10] \"Culmen Length (mm)\"  \"Culmen Depth (mm)\"   \"Flipper Length (mm)\"\n",
       "[13] \"Body Mass (g)\"       \"Sex\"                 \"Delta 15 N (o/oo)\"  \n",
       "[16] \"Delta 13 C (o/oo)\"   \"Comments\"           "
      ]
     },
     "metadata": {},
     "output_type": "display_data"
    }
   ],
   "source": [
    "names(penguins_raw)\n"
   ]
  },
  {
   "cell_type": "markdown",
   "metadata": {},
   "source": [
    "They have mixed capitals and lower case letters, there are spaces in between words which can cause lots of issues within code, and other times there are no spaces...\n",
    "\n",
    "- `studyName` is called camel case\n",
    "- `Sample Number` is called sentence case and with a space\n",
    "- `Culmen Length (mm)` has spaces and also brackets which could also cause issues. \n",
    "\n",
    "It's maybe tempting when you see these kinds of problems to go and edit the column names in excel, as well as any other issues you see. \n",
    "\n",
    "> **Never do this.**\n",
    "\n",
    "Editing a file in excel is completely unreproducible, no one has any record of what you edited and can lead to mistakes being missed. \n",
    "\n",
    "A best practice before we do anything is to save this file as `raw_data` and consider it \"read only\"! That means it is preserved exactly as is before we start meddling with it. \n",
    "\n"
   ]
  },
  {
   "cell_type": "code",
   "execution_count": 4,
   "metadata": {
    "vscode": {
     "languageId": "r"
    }
   },
   "outputs": [],
   "source": [
    "write.csv(penguins_raw, paste0(\"PenguinProject/data_raw/penguins_raw.csv\"))"
   ]
  },
  {
   "cell_type": "markdown",
   "metadata": {},
   "source": [
    "You'll see I have a directory structure that will help me keep track of what I am doing. So I made an R project in a new directory and made sure it includes a git repository for version control. \n",
    "\n",
    "---\n",
    "\n",
    "## <span style='background:yellow'> Exercise 01 (5mins)  </span>\n",
    "\n",
    "Create a new project in RStudio. Give it a name without spaces.\n",
    "\n",
    "Open a new script, call it something like `Lab_Tutorial.R`.\n",
    "\n",
    "Install and load the penguin library.\n",
    "\n",
    "Load the penguin data and save it in a folder within your project called `data_raw`.\n",
    "\n",
    "---\n",
    "\n",
    "Once we've got that working, we can now start to fix the data set. We now have a safe, read-only copy in our directory of the data. Within R, there is a working copy of the data called `penguins_raw` which we can use for cleaning.\n",
    "\n"
   ]
  },
  {
   "cell_type": "code",
   "execution_count": 5,
   "metadata": {
    "vscode": {
     "languageId": "r"
    }
   },
   "outputs": [
    {
     "data": {
      "text/html": [
       "<style>\n",
       ".list-inline {list-style: none; margin:0; padding: 0}\n",
       ".list-inline>li {display: inline-block}\n",
       ".list-inline>li:not(:last-child)::after {content: \"\\00b7\"; padding: 0 .5ex}\n",
       "</style>\n",
       "<ol class=list-inline><li>'studyName'</li><li>'Sample Number'</li><li>'Species'</li><li>'Region'</li><li>'Island'</li><li>'Stage'</li><li>'Individual ID'</li><li>'Clutch Completion'</li><li>'Date Egg'</li><li>'Culmen Length (mm)'</li><li>'Culmen Depth (mm)'</li><li>'Flipper Length (mm)'</li><li>'Body Mass (g)'</li><li>'Sex'</li></ol>\n"
      ],
      "text/latex": [
       "\\begin{enumerate*}\n",
       "\\item 'studyName'\n",
       "\\item 'Sample Number'\n",
       "\\item 'Species'\n",
       "\\item 'Region'\n",
       "\\item 'Island'\n",
       "\\item 'Stage'\n",
       "\\item 'Individual ID'\n",
       "\\item 'Clutch Completion'\n",
       "\\item 'Date Egg'\n",
       "\\item 'Culmen Length (mm)'\n",
       "\\item 'Culmen Depth (mm)'\n",
       "\\item 'Flipper Length (mm)'\n",
       "\\item 'Body Mass (g)'\n",
       "\\item 'Sex'\n",
       "\\end{enumerate*}\n"
      ],
      "text/markdown": [
       "1. 'studyName'\n",
       "2. 'Sample Number'\n",
       "3. 'Species'\n",
       "4. 'Region'\n",
       "5. 'Island'\n",
       "6. 'Stage'\n",
       "7. 'Individual ID'\n",
       "8. 'Clutch Completion'\n",
       "9. 'Date Egg'\n",
       "10. 'Culmen Length (mm)'\n",
       "11. 'Culmen Depth (mm)'\n",
       "12. 'Flipper Length (mm)'\n",
       "13. 'Body Mass (g)'\n",
       "14. 'Sex'\n",
       "\n",
       "\n"
      ],
      "text/plain": [
       " [1] \"studyName\"           \"Sample Number\"       \"Species\"            \n",
       " [4] \"Region\"              \"Island\"              \"Stage\"              \n",
       " [7] \"Individual ID\"       \"Clutch Completion\"   \"Date Egg\"           \n",
       "[10] \"Culmen Length (mm)\"  \"Culmen Depth (mm)\"   \"Flipper Length (mm)\"\n",
       "[13] \"Body Mass (g)\"       \"Sex\"                "
      ]
     },
     "metadata": {},
     "output_type": "display_data"
    }
   ],
   "source": [
    "# The hypen '-' means we want to remove that column.\n",
    "\n",
    "penguins_raw <- select(penguins_raw,-starts_with(\"delta\"))\n",
    "penguins_raw <- select(penguins_raw,-Comments)\n",
    "\n",
    "names(penguins_raw)\n"
   ]
  },
  {
   "cell_type": "markdown",
   "metadata": {},
   "source": [
    "If we look at how this little bit of code works, we start with `penguins_raw` and apply a function to it (in this case, remove columns that start with delta) and overwrite `penguins_raw`. Then we overwrite it again once we removed comments. \n",
    "\n",
    "This is a bit of a problem. It's not very robust, if I run it again it will throw an error:\n",
    "\n",
    "Here's our first mistake! But that's okay, we can reload the safe copy of `penguin_raw`:"
   ]
  },
  {
   "cell_type": "code",
   "execution_count": 9,
   "metadata": {
    "vscode": {
     "languageId": "r"
    }
   },
   "outputs": [],
   "source": [
    "# Reloading the penguin library because I overwrote penguins_raw.\n",
    "penguins_raw <- read.csv(\"PenguinProject/data_raw/penguins_raw.csv\")"
   ]
  },
  {
   "cell_type": "markdown",
   "metadata": {},
   "source": [
    "R has a better way of doing this called `piping` which is what this symbol means `%>%`. It means take the first variable, `penguins_raw`, do the following steps to it in order, then save it as something else, in this case we're calling it `penguins_clean`. I can run this multiple times and nothing goes wrong."
   ]
  },
  {
   "cell_type": "code",
   "execution_count": 14,
   "metadata": {
    "vscode": {
     "languageId": "r"
    }
   },
   "outputs": [
    {
     "data": {
      "text/html": [
       "<style>\n",
       ".list-inline {list-style: none; margin:0; padding: 0}\n",
       ".list-inline>li {display: inline-block}\n",
       ".list-inline>li:not(:last-child)::after {content: \"\\00b7\"; padding: 0 .5ex}\n",
       "</style>\n",
       "<ol class=list-inline><li>'X'</li><li>'studyName'</li><li>'Sample.Number'</li><li>'Species'</li><li>'Region'</li><li>'Island'</li><li>'Stage'</li><li>'Individual.ID'</li><li>'Clutch.Completion'</li><li>'Date.Egg'</li><li>'Culmen.Length..mm.'</li><li>'Culmen.Depth..mm.'</li><li>'Flipper.Length..mm.'</li><li>'Body.Mass..g.'</li><li>'Sex'</li><li>'Delta.15.N..o.oo.'</li><li>'Delta.13.C..o.oo.'</li><li>'Comments'</li></ol>\n"
      ],
      "text/latex": [
       "\\begin{enumerate*}\n",
       "\\item 'X'\n",
       "\\item 'studyName'\n",
       "\\item 'Sample.Number'\n",
       "\\item 'Species'\n",
       "\\item 'Region'\n",
       "\\item 'Island'\n",
       "\\item 'Stage'\n",
       "\\item 'Individual.ID'\n",
       "\\item 'Clutch.Completion'\n",
       "\\item 'Date.Egg'\n",
       "\\item 'Culmen.Length..mm.'\n",
       "\\item 'Culmen.Depth..mm.'\n",
       "\\item 'Flipper.Length..mm.'\n",
       "\\item 'Body.Mass..g.'\n",
       "\\item 'Sex'\n",
       "\\item 'Delta.15.N..o.oo.'\n",
       "\\item 'Delta.13.C..o.oo.'\n",
       "\\item 'Comments'\n",
       "\\end{enumerate*}\n"
      ],
      "text/markdown": [
       "1. 'X'\n",
       "2. 'studyName'\n",
       "3. 'Sample.Number'\n",
       "4. 'Species'\n",
       "5. 'Region'\n",
       "6. 'Island'\n",
       "7. 'Stage'\n",
       "8. 'Individual.ID'\n",
       "9. 'Clutch.Completion'\n",
       "10. 'Date.Egg'\n",
       "11. 'Culmen.Length..mm.'\n",
       "12. 'Culmen.Depth..mm.'\n",
       "13. 'Flipper.Length..mm.'\n",
       "14. 'Body.Mass..g.'\n",
       "15. 'Sex'\n",
       "16. 'Delta.15.N..o.oo.'\n",
       "17. 'Delta.13.C..o.oo.'\n",
       "18. 'Comments'\n",
       "\n",
       "\n"
      ],
      "text/plain": [
       " [1] \"X\"                   \"studyName\"           \"Sample.Number\"      \n",
       " [4] \"Species\"             \"Region\"              \"Island\"             \n",
       " [7] \"Stage\"               \"Individual.ID\"       \"Clutch.Completion\"  \n",
       "[10] \"Date.Egg\"            \"Culmen.Length..mm.\"  \"Culmen.Depth..mm.\"  \n",
       "[13] \"Flipper.Length..mm.\" \"Body.Mass..g.\"       \"Sex\"                \n",
       "[16] \"Delta.15.N..o.oo.\"   \"Delta.13.C..o.oo.\"   \"Comments\"           "
      ]
     },
     "metadata": {},
     "output_type": "display_data"
    },
    {
     "data": {
      "text/html": [
       "<style>\n",
       ".list-inline {list-style: none; margin:0; padding: 0}\n",
       ".list-inline>li {display: inline-block}\n",
       ".list-inline>li:not(:last-child)::after {content: \"\\00b7\"; padding: 0 .5ex}\n",
       "</style>\n",
       "<ol class=list-inline><li>'X'</li><li>'studyName'</li><li>'Sample.Number'</li><li>'Species'</li><li>'Region'</li><li>'Island'</li><li>'Stage'</li><li>'Individual.ID'</li><li>'Clutch.Completion'</li><li>'Date.Egg'</li><li>'Culmen.Length..mm.'</li><li>'Culmen.Depth..mm.'</li><li>'Flipper.Length..mm.'</li><li>'Body.Mass..g.'</li><li>'Sex'</li></ol>\n"
      ],
      "text/latex": [
       "\\begin{enumerate*}\n",
       "\\item 'X'\n",
       "\\item 'studyName'\n",
       "\\item 'Sample.Number'\n",
       "\\item 'Species'\n",
       "\\item 'Region'\n",
       "\\item 'Island'\n",
       "\\item 'Stage'\n",
       "\\item 'Individual.ID'\n",
       "\\item 'Clutch.Completion'\n",
       "\\item 'Date.Egg'\n",
       "\\item 'Culmen.Length..mm.'\n",
       "\\item 'Culmen.Depth..mm.'\n",
       "\\item 'Flipper.Length..mm.'\n",
       "\\item 'Body.Mass..g.'\n",
       "\\item 'Sex'\n",
       "\\end{enumerate*}\n"
      ],
      "text/markdown": [
       "1. 'X'\n",
       "2. 'studyName'\n",
       "3. 'Sample.Number'\n",
       "4. 'Species'\n",
       "5. 'Region'\n",
       "6. 'Island'\n",
       "7. 'Stage'\n",
       "8. 'Individual.ID'\n",
       "9. 'Clutch.Completion'\n",
       "10. 'Date.Egg'\n",
       "11. 'Culmen.Length..mm.'\n",
       "12. 'Culmen.Depth..mm.'\n",
       "13. 'Flipper.Length..mm.'\n",
       "14. 'Body.Mass..g.'\n",
       "15. 'Sex'\n",
       "\n",
       "\n"
      ],
      "text/plain": [
       " [1] \"X\"                   \"studyName\"           \"Sample.Number\"      \n",
       " [4] \"Species\"             \"Region\"              \"Island\"             \n",
       " [7] \"Stage\"               \"Individual.ID\"       \"Clutch.Completion\"  \n",
       "[10] \"Date.Egg\"            \"Culmen.Length..mm.\"  \"Culmen.Depth..mm.\"  \n",
       "[13] \"Flipper.Length..mm.\" \"Body.Mass..g.\"       \"Sex\"                "
      ]
     },
     "metadata": {},
     "output_type": "display_data"
    }
   ],
   "source": [
    "names(penguins_raw)\n",
    "\n",
    "penguins_clean <- penguins_raw %>%\n",
    "  select(-starts_with(\"delta\")) %>%\n",
    "  select(-Comments)\n",
    "\n",
    "names(penguins_clean)\n",
    "\n"
   ]
  },
  {
   "cell_type": "markdown",
   "metadata": {},
   "source": [
    "We could take time to edit all these column names invidiually, but one important rule in coding is that anything you're trying to do, someone has probably done it before. If we load the library called `janitor` it has a very handy function called `clean_names()`.\n",
    "\n",
    "If I remake our pipe with this addition:"
   ]
  },
  {
   "cell_type": "code",
   "execution_count": 16,
   "metadata": {
    "vscode": {
     "languageId": "r"
    }
   },
   "outputs": [
    {
     "data": {
      "text/html": [
       "<style>\n",
       ".list-inline {list-style: none; margin:0; padding: 0}\n",
       ".list-inline>li {display: inline-block}\n",
       ".list-inline>li:not(:last-child)::after {content: \"\\00b7\"; padding: 0 .5ex}\n",
       "</style>\n",
       "<ol class=list-inline><li>'X'</li><li>'studyName'</li><li>'Sample.Number'</li><li>'Species'</li><li>'Region'</li><li>'Island'</li><li>'Stage'</li><li>'Individual.ID'</li><li>'Clutch.Completion'</li><li>'Date.Egg'</li><li>'Culmen.Length..mm.'</li><li>'Culmen.Depth..mm.'</li><li>'Flipper.Length..mm.'</li><li>'Body.Mass..g.'</li><li>'Sex'</li><li>'Delta.15.N..o.oo.'</li><li>'Delta.13.C..o.oo.'</li><li>'Comments'</li></ol>\n"
      ],
      "text/latex": [
       "\\begin{enumerate*}\n",
       "\\item 'X'\n",
       "\\item 'studyName'\n",
       "\\item 'Sample.Number'\n",
       "\\item 'Species'\n",
       "\\item 'Region'\n",
       "\\item 'Island'\n",
       "\\item 'Stage'\n",
       "\\item 'Individual.ID'\n",
       "\\item 'Clutch.Completion'\n",
       "\\item 'Date.Egg'\n",
       "\\item 'Culmen.Length..mm.'\n",
       "\\item 'Culmen.Depth..mm.'\n",
       "\\item 'Flipper.Length..mm.'\n",
       "\\item 'Body.Mass..g.'\n",
       "\\item 'Sex'\n",
       "\\item 'Delta.15.N..o.oo.'\n",
       "\\item 'Delta.13.C..o.oo.'\n",
       "\\item 'Comments'\n",
       "\\end{enumerate*}\n"
      ],
      "text/markdown": [
       "1. 'X'\n",
       "2. 'studyName'\n",
       "3. 'Sample.Number'\n",
       "4. 'Species'\n",
       "5. 'Region'\n",
       "6. 'Island'\n",
       "7. 'Stage'\n",
       "8. 'Individual.ID'\n",
       "9. 'Clutch.Completion'\n",
       "10. 'Date.Egg'\n",
       "11. 'Culmen.Length..mm.'\n",
       "12. 'Culmen.Depth..mm.'\n",
       "13. 'Flipper.Length..mm.'\n",
       "14. 'Body.Mass..g.'\n",
       "15. 'Sex'\n",
       "16. 'Delta.15.N..o.oo.'\n",
       "17. 'Delta.13.C..o.oo.'\n",
       "18. 'Comments'\n",
       "\n",
       "\n"
      ],
      "text/plain": [
       " [1] \"X\"                   \"studyName\"           \"Sample.Number\"      \n",
       " [4] \"Species\"             \"Region\"              \"Island\"             \n",
       " [7] \"Stage\"               \"Individual.ID\"       \"Clutch.Completion\"  \n",
       "[10] \"Date.Egg\"            \"Culmen.Length..mm.\"  \"Culmen.Depth..mm.\"  \n",
       "[13] \"Flipper.Length..mm.\" \"Body.Mass..g.\"       \"Sex\"                \n",
       "[16] \"Delta.15.N..o.oo.\"   \"Delta.13.C..o.oo.\"   \"Comments\"           "
      ]
     },
     "metadata": {},
     "output_type": "display_data"
    },
    {
     "data": {
      "text/html": [
       "<style>\n",
       ".list-inline {list-style: none; margin:0; padding: 0}\n",
       ".list-inline>li {display: inline-block}\n",
       ".list-inline>li:not(:last-child)::after {content: \"\\00b7\"; padding: 0 .5ex}\n",
       "</style>\n",
       "<ol class=list-inline><li>'x'</li><li>'study_name'</li><li>'sample_number'</li><li>'species'</li><li>'region'</li><li>'island'</li><li>'stage'</li><li>'individual_id'</li><li>'clutch_completion'</li><li>'date_egg'</li><li>'culmen_length_mm'</li><li>'culmen_depth_mm'</li><li>'flipper_length_mm'</li><li>'body_mass_g'</li><li>'sex'</li></ol>\n"
      ],
      "text/latex": [
       "\\begin{enumerate*}\n",
       "\\item 'x'\n",
       "\\item 'study\\_name'\n",
       "\\item 'sample\\_number'\n",
       "\\item 'species'\n",
       "\\item 'region'\n",
       "\\item 'island'\n",
       "\\item 'stage'\n",
       "\\item 'individual\\_id'\n",
       "\\item 'clutch\\_completion'\n",
       "\\item 'date\\_egg'\n",
       "\\item 'culmen\\_length\\_mm'\n",
       "\\item 'culmen\\_depth\\_mm'\n",
       "\\item 'flipper\\_length\\_mm'\n",
       "\\item 'body\\_mass\\_g'\n",
       "\\item 'sex'\n",
       "\\end{enumerate*}\n"
      ],
      "text/markdown": [
       "1. 'x'\n",
       "2. 'study_name'\n",
       "3. 'sample_number'\n",
       "4. 'species'\n",
       "5. 'region'\n",
       "6. 'island'\n",
       "7. 'stage'\n",
       "8. 'individual_id'\n",
       "9. 'clutch_completion'\n",
       "10. 'date_egg'\n",
       "11. 'culmen_length_mm'\n",
       "12. 'culmen_depth_mm'\n",
       "13. 'flipper_length_mm'\n",
       "14. 'body_mass_g'\n",
       "15. 'sex'\n",
       "\n",
       "\n"
      ],
      "text/plain": [
       " [1] \"x\"                 \"study_name\"        \"sample_number\"    \n",
       " [4] \"species\"           \"region\"            \"island\"           \n",
       " [7] \"stage\"             \"individual_id\"     \"clutch_completion\"\n",
       "[10] \"date_egg\"          \"culmen_length_mm\"  \"culmen_depth_mm\"  \n",
       "[13] \"flipper_length_mm\" \"body_mass_g\"       \"sex\"              "
      ]
     },
     "metadata": {},
     "output_type": "display_data"
    }
   ],
   "source": [
    "names(penguins_raw)\n",
    "\n",
    "penguins_clean <- penguins_raw %>%\n",
    "    clean_names() %>%\n",
    "    select(-starts_with(\"delta\")) %>%\n",
    "    select(-comments)\n",
    "\n",
    "names(penguins_clean)\n"
   ]
  },
  {
   "cell_type": "markdown",
   "metadata": {},
   "source": [
    "We now have those columns removed as before, but also all the column names are now standardised and suitable for R. Using other people's libraries saves a lot of time!\n",
    "\n",
    "We have been careful to save a copy of our raw data, but it is important to save a copy of the steps we took to clean the data, so that it is open to scrutiny and checking. If we did all this in the terminal in R then there would be no way of reproducing it exactly later. \n",
    "\n",
    "Something that is extremely helpful is making a function. \n",
    "\n",
    "## Creating a Function in R\n",
    "\n",
    "We start with the name of our function, we're going to call it `cleaning`. In the brackets of `function()` we specify what is getting fed into the function, in this case the raw data. \n",
    "\n",
    "> Note, it doesn't matter what we call this!\n",
    "\n",
    "Then as before, we put the pipe inside starting with the initial variable `penguins_raw`. Unlike before, we don't specify what the new variable will be called, as the function will simply output it. The `{}` brackets specify what is inside the function. \n"
   ]
  },
  {
   "cell_type": "code",
   "execution_count": 17,
   "metadata": {
    "vscode": {
     "languageId": "r"
    }
   },
   "outputs": [],
   "source": [
    "cleaning <- function(penguins_raw){\n",
    "  penguins_raw %>%\n",
    "    clean_names()\n",
    "}\n"
   ]
  },
  {
   "cell_type": "markdown",
   "metadata": {},
   "source": [
    "Now we've defined it, absolutely nothing happens. "
   ]
  },
  {
   "cell_type": "code",
   "execution_count": 18,
   "metadata": {
    "vscode": {
     "languageId": "r"
    }
   },
   "outputs": [
    {
     "data": {
      "text/html": [
       "<style>\n",
       ".list-inline {list-style: none; margin:0; padding: 0}\n",
       ".list-inline>li {display: inline-block}\n",
       ".list-inline>li:not(:last-child)::after {content: \"\\00b7\"; padding: 0 .5ex}\n",
       "</style>\n",
       "<ol class=list-inline><li>'X'</li><li>'studyName'</li><li>'Sample.Number'</li><li>'Species'</li><li>'Region'</li><li>'Island'</li><li>'Stage'</li><li>'Individual.ID'</li><li>'Clutch.Completion'</li><li>'Date.Egg'</li><li>'Culmen.Length..mm.'</li><li>'Culmen.Depth..mm.'</li><li>'Flipper.Length..mm.'</li><li>'Body.Mass..g.'</li><li>'Sex'</li><li>'Delta.15.N..o.oo.'</li><li>'Delta.13.C..o.oo.'</li><li>'Comments'</li></ol>\n"
      ],
      "text/latex": [
       "\\begin{enumerate*}\n",
       "\\item 'X'\n",
       "\\item 'studyName'\n",
       "\\item 'Sample.Number'\n",
       "\\item 'Species'\n",
       "\\item 'Region'\n",
       "\\item 'Island'\n",
       "\\item 'Stage'\n",
       "\\item 'Individual.ID'\n",
       "\\item 'Clutch.Completion'\n",
       "\\item 'Date.Egg'\n",
       "\\item 'Culmen.Length..mm.'\n",
       "\\item 'Culmen.Depth..mm.'\n",
       "\\item 'Flipper.Length..mm.'\n",
       "\\item 'Body.Mass..g.'\n",
       "\\item 'Sex'\n",
       "\\item 'Delta.15.N..o.oo.'\n",
       "\\item 'Delta.13.C..o.oo.'\n",
       "\\item 'Comments'\n",
       "\\end{enumerate*}\n"
      ],
      "text/markdown": [
       "1. 'X'\n",
       "2. 'studyName'\n",
       "3. 'Sample.Number'\n",
       "4. 'Species'\n",
       "5. 'Region'\n",
       "6. 'Island'\n",
       "7. 'Stage'\n",
       "8. 'Individual.ID'\n",
       "9. 'Clutch.Completion'\n",
       "10. 'Date.Egg'\n",
       "11. 'Culmen.Length..mm.'\n",
       "12. 'Culmen.Depth..mm.'\n",
       "13. 'Flipper.Length..mm.'\n",
       "14. 'Body.Mass..g.'\n",
       "15. 'Sex'\n",
       "16. 'Delta.15.N..o.oo.'\n",
       "17. 'Delta.13.C..o.oo.'\n",
       "18. 'Comments'\n",
       "\n",
       "\n"
      ],
      "text/plain": [
       " [1] \"X\"                   \"studyName\"           \"Sample.Number\"      \n",
       " [4] \"Species\"             \"Region\"              \"Island\"             \n",
       " [7] \"Stage\"               \"Individual.ID\"       \"Clutch.Completion\"  \n",
       "[10] \"Date.Egg\"            \"Culmen.Length..mm.\"  \"Culmen.Depth..mm.\"  \n",
       "[13] \"Flipper.Length..mm.\" \"Body.Mass..g.\"       \"Sex\"                \n",
       "[16] \"Delta.15.N..o.oo.\"   \"Delta.13.C..o.oo.\"   \"Comments\"           "
      ]
     },
     "metadata": {},
     "output_type": "display_data"
    }
   ],
   "source": [
    "names(penguins_raw)"
   ]
  },
  {
   "cell_type": "markdown",
   "metadata": {},
   "source": [
    "We have to actually call the function and create a new variable using it for it to actually work. First we define the function, and then we call it. \n",
    "\n",
    "### Calling the Function"
   ]
  },
  {
   "cell_type": "code",
   "execution_count": 19,
   "metadata": {
    "vscode": {
     "languageId": "r"
    }
   },
   "outputs": [
    {
     "data": {
      "text/html": [
       "<style>\n",
       ".list-inline {list-style: none; margin:0; padding: 0}\n",
       ".list-inline>li {display: inline-block}\n",
       ".list-inline>li:not(:last-child)::after {content: \"\\00b7\"; padding: 0 .5ex}\n",
       "</style>\n",
       "<ol class=list-inline><li>'x'</li><li>'study_name'</li><li>'sample_number'</li><li>'species'</li><li>'region'</li><li>'island'</li><li>'stage'</li><li>'individual_id'</li><li>'clutch_completion'</li><li>'date_egg'</li><li>'culmen_length_mm'</li><li>'culmen_depth_mm'</li><li>'flipper_length_mm'</li><li>'body_mass_g'</li><li>'sex'</li></ol>\n"
      ],
      "text/latex": [
       "\\begin{enumerate*}\n",
       "\\item 'x'\n",
       "\\item 'study\\_name'\n",
       "\\item 'sample\\_number'\n",
       "\\item 'species'\n",
       "\\item 'region'\n",
       "\\item 'island'\n",
       "\\item 'stage'\n",
       "\\item 'individual\\_id'\n",
       "\\item 'clutch\\_completion'\n",
       "\\item 'date\\_egg'\n",
       "\\item 'culmen\\_length\\_mm'\n",
       "\\item 'culmen\\_depth\\_mm'\n",
       "\\item 'flipper\\_length\\_mm'\n",
       "\\item 'body\\_mass\\_g'\n",
       "\\item 'sex'\n",
       "\\end{enumerate*}\n"
      ],
      "text/markdown": [
       "1. 'x'\n",
       "2. 'study_name'\n",
       "3. 'sample_number'\n",
       "4. 'species'\n",
       "5. 'region'\n",
       "6. 'island'\n",
       "7. 'stage'\n",
       "8. 'individual_id'\n",
       "9. 'clutch_completion'\n",
       "10. 'date_egg'\n",
       "11. 'culmen_length_mm'\n",
       "12. 'culmen_depth_mm'\n",
       "13. 'flipper_length_mm'\n",
       "14. 'body_mass_g'\n",
       "15. 'sex'\n",
       "\n",
       "\n"
      ],
      "text/plain": [
       " [1] \"x\"                 \"study_name\"        \"sample_number\"    \n",
       " [4] \"species\"           \"region\"            \"island\"           \n",
       " [7] \"stage\"             \"individual_id\"     \"clutch_completion\"\n",
       "[10] \"date_egg\"          \"culmen_length_mm\"  \"culmen_depth_mm\"  \n",
       "[13] \"flipper_length_mm\" \"body_mass_g\"       \"sex\"              "
      ]
     },
     "metadata": {},
     "output_type": "display_data"
    }
   ],
   "source": [
    "penguins_now_clean <- cleaning(penguins_raw)\n",
    "names(penguins_now_clean)"
   ]
  },
  {
   "cell_type": "markdown",
   "metadata": {},
   "source": [
    "--- \n",
    "## <span style='background:yellow'> Exercise 02 (5mins) </span>\n",
    "\n",
    "Write out your cleaning function.\n",
    "\n",
    "Fill in the rest of the pipes. \n",
    "\n",
    "Check it works.\n",
    "\n",
    "Save your clean data to a `Project/data_clean/` folder with a suitable name. \n",
    "\n",
    "\n",
    "---\n",
    "\n",
    "\n"
   ]
  },
  {
   "cell_type": "markdown",
   "metadata": {},
   "source": [
    "Now we have a function, this acts as a building block we can call on our data where we need to. We can save it in our project folder in an R file. \n",
    "\n",
    "I'm going to save it to `Project/functions/cleaning.R`.\n",
    "\n",
    "### Why bother?\n",
    "\n",
    "Having copies of the same code everywhere is a bad idea. \n",
    "\n",
    "We're building our data pipeline, and keeping these blocks safe and version controlled is really important. For this workshop we're only doing minor steps and so it will seem like overkill. If you keep all the code you use for cleaning data in one place, you can then call it in multiple places whenever you need it.\n",
    "\n",
    "For example, you might want to have a script that looks at the flippers, and another script that looks at the egg laying. If you copied and pasted the cleaning data function into both scripts, and then later on realise you made a mistake in that function, you'll have to hunt down every copy you have. \n",
    "\n",
    "Instead you can save it to a file called `functions/cleaning.R` and everytime you use it, you refer to that copy only. Then any changes you make to it are consistently applied everywhere. \n",
    "\n",
    "You can also use your git commits to keep a clear record of what has happened to these functions over time, rather than having to look through all your scripts. \n",
    "\n",
    "So, just like we keep a safe record of our data, we keep a safe record of our data protocols. \n",
    "\n",
    "<img src=\"CodeFast.png\" alt=\"Drawing\" style=\"width: 700px;\"/>\n",
    "\n"
   ]
  }
 ],
 "metadata": {
  "kernelspec": {
   "display_name": "R",
   "language": "R",
   "name": "ir"
  },
  "language_info": {
   "codemirror_mode": "r",
   "file_extension": ".r",
   "mimetype": "text/x-r-source",
   "name": "R",
   "pygments_lexer": "r",
   "version": "4.2.1"
  },
  "vscode": {
   "interpreter": {
    "hash": "aee8b7b246df8f9039afb4144a1f6fd8d2ca17a180786b69acc140d282b71a49"
   }
  }
 },
 "nbformat": 4,
 "nbformat_minor": 4
}
