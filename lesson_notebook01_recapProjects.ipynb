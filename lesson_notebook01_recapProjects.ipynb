{
 "cells": [
  {
   "cell_type": "markdown",
   "metadata": {},
   "source": [
    "# Reproducible Research\n",
    "\n",
    "\n",
    "Images from [The Turing Way](https://the-turing-way.netlify.app/reproducible-research/reproducible-research.html)! \n",
    "\n",
    "<img src=\"https://zenodo.org/record/3332808/files/1728_TURI_Book%20sprint_5%20turing%20way_040619.jpg\" alt=\"Drawing\" style=\"width: 300px;\"/>\n",
    "\n",
    "## What is Reproducible Research?\n",
    "\n",
    "<img src=\"https://the-turing-way.netlify.app/_images/reproducibility.jpg\" alt=\"Drawing\" style=\"width: 600px;\"/>\n",
    "\n",
    "\n",
    "Scientific results and evidence are strengthened if those results can be replicated and confirmed by several independent researchers. \n",
    "\n",
    "What you do on your computer is a part of scientific methodology like fieldwork and labwork.\n",
    "\n",
    "> Major media outlets have reported on investigations showing that a significant percentage of scientific studies cannot be reproduced. \n",
    "> This leads to other academics and society losing trust in scientific results.\n",
    ">\n",
    "> https://www.nature.com/articles/533452a\n",
    "\n",
    "**Reproducible**\n",
    "\n",
    " - Authors provide all the necessary data and the computer codes to run the analysis again, re-creating the results.\n",
    "\n",
    "**Replicable**\n",
    "\n",
    "- A study that arrives at the same scientific findings as another study, collecting new data (possibly with different methods) and completing new analyses.\n",
    "\n",
    "<img src=\"https://oliviergimenez.github.io/reproducible-science-workshop/slides/assets/definitions.jpg\" alt=\"Drawing\" style=\"width: 600px;\"/>\n",
    "\n",
    "\n",
    "\n",
    "\n",
    "# Why bother?\n",
    "\n",
    "### Helps YOU\n",
    "\n",
    "<img src=\"https://zenodo.org/record/3332808/files/1728_TURI_Book sprint_19 readable code_040619.jpg\" alt=\"Drawing\" style=\"width: 500px;\"/>\n",
    "\n",
    "\n",
    "Usually the person trying to redo your work and analysis is yourself at a later date!\n",
    "\n",
    "A lot of time is wasted redoing analyses because you can't read or understand your own code from a few weeks or years ago, and having to redo figures because you've lost the code to generate it. \n",
    "\n",
    "It also acts as a fail safe backup for your work!\n",
    "\n",
    "### Helps open science\n",
    "\n",
    "<img src=\"https://the-turing-way.netlify.app/_images/evolution-open-research.png\" alt=\"Drawing\" style=\"width: 500px;\"/>\n",
    "\n",
    "\n",
    "Open research aims to transform research by making it more reproducible, transparent, reusable, collaborative, accountable, and accessible to society. \n",
    "\n",
    "\n",
    "- Be publicly available: It is difficult to use and benefit from knowledge hidden behind barriers such as passwords and paywalls.\n",
    "\n",
    "- Be reusable: Research outputs need to be licensed appropriately, so that prospective users know any limitations on re-use.\n",
    "\n",
    "- Be transparent: With appropriate metadata to provide clear statements of how research output was produced and what it contains.\n",
    "\n",
    "Open practices can make it easier for researchers to connect by increasing the discoverability and visibility of one’s work, facilitating rapid access to novel data and software resources, and creating new opportunities to interact with and contribute to ongoing communal projects.\n",
    "\n",
    "### Helps you publish\n",
    "<img src=\"https://www.turing.ac.uk/sites/default/files/inline-images/Culture%20shift.jpg\" alt=\"Drawing\" style=\"width: 400px;\"/>\n",
    "\n",
    "\n",
    "\n",
    "It is becoming more common for code release to be part of the scientific publishing and grant approval process. \n",
    "\n",
    "# Palmer Penguins\n",
    "\n",
    "\n",
    "This data set on Palmer penguins has nice examples all over the internet. It contains morphometric data from three species of penguin.\n",
    "\n",
    "<img src=\"https://allisonhorst.github.io/palmerpenguins/reference/figures/lter_penguins.png\" alt=\"Drawing\" style=\"width: 400px;\"/>\n",
    "\n",
    "<img src=\"https://allisonhorst.github.io/palmerpenguins/reference/figures/culmen_depth.png\" alt=\"Drawing\" style=\"width: 350px;\"/>\n",
    "\n",
    "# Quick Setup for your new RProject\n",
    "\n",
    "We are creating a **Data Pipeline**. \n",
    "\n",
    "<img src=\"https://i.imgur.com/AIwZP7a.png\" alt=\"Drawing\" style=\"width: 900px;\"/>\n",
    "\n",
    "In our last lesson, we went through the steps of creating a new Rproject, saving raw data, cleaning data, and saving the clean data. \n",
    "\n",
    "Here are the steps to do that again:\n",
    "\n",
    "## `00` New Project\n",
    "\n",
    "\n",
    "In RStudio, create a \"New Project...\"\n",
    "\n",
    "<img src=\"https://d33wubrfki0l68.cloudfront.net/87562c4851bf4d0b0c8415dc9d6690493572e362/a6685/screenshots/rstudio-project-1.png\" alt=\"Drawing\" style=\"width: 400px;\"/>\n",
    "\n",
    "<img src=\"https://d33wubrfki0l68.cloudfront.net/0fa791e2621be297cb9c5cac0b2802223e3d7714/57d89/screenshots/rstudio-project-2.png\" alt=\"Drawing\" style=\"width: 400px;\"/>\n",
    "\n",
    "<img src=\"https://d33wubrfki0l68.cloudfront.net/dee6324df1f5c5121d1c1e9eed822ee52c87167b/1f325/screenshots/rstudio-project-3.png\" alt=\"Drawing\" style=\"width: 400px;\"/>\n",
    "\n",
    "### DO NOT SAVE IT TO YOUR DESKTOP\n",
    "\n",
    "Instead navigate somewhere sensible (hint! you are strongly advised to use your university OneDrive account). \n",
    "\n",
    "`C/Users/lfrance/OneDrive/BiologyComputerSkills/`\n",
    "\n",
    "You will then be asked for a name of your Project which will become the name of your new folder. \n",
    "\n",
    "### Make sure your file and folder names are readable for computers and humans\n",
    "\n",
    "Not human readable folder names:\n",
    "\n",
    "- `shfgljshdfg`\n",
    "- `thingy`\n",
    "- `Untitled22837682673`\n",
    "- `code`\n",
    "\n",
    "These have zero information for humans about what the files are about. \n",
    "\n",
    "Not computer readable folder name:\n",
    "\n",
    "- `My Project in R`\n",
    "- `PenguinProject(new)`\n",
    "- `PenguinProjectThisOne!!!`\n",
    "\n",
    "Punctuation marks will cause problems for your computer reading these files. Spaces also cause problems. \n",
    "\n",
    "Use dashes or underscores or capital letters rather than spaces. \n",
    "\n",
    "- `PenguinProject`\n",
    "- `Penguin-Project`\n",
    "- `Penguin_Project`\n",
    "\n",
    "## `01` Your New Project\n",
    "\n",
    "You now have a folder which looks like this:\n",
    "\n",
    "<img src=\"image/directory_001.png\" alt=\"Drawing\" style=\"width: 400px;\"/>\n",
    "\n",
    "### What is this file?\n",
    "\n",
    "A project file saves your settings and configurations for you so you can quit R and come back to this folder and continue from where you left off.  \n",
    "\n",
    "For now, ignore it. \n",
    "\n",
    "## `02` Create an R Script\n",
    "\n",
    "An R file is where we write our code. Create a new file by pressing \"New\". It's your choice whether you want to use RMarkdown, Quarto, or R files. I will use an RMarkdown file, which has the extension `.rmd`. \n",
    "\n",
    "<img src=\"image/img_001_newfile.png\" alt=\"Drawing\" style=\"width: 300px;\"/>\n",
    "\n",
    "Give this a human and computer readable name. \n",
    "\n",
    "<img src=\"image/img_002_newrmd.png\" alt=\"Drawing\" style=\"width: 400px;\"/>\n",
    "\n",
    "Save your file so that your folder looks like this:\n",
    "\n",
    "<img src=\"image/directory_002.png\" alt=\"Drawing\" style=\"width: 400px;\"/>\n",
    "\n",
    "<img src=\"image/img_003_dirInR.png\" alt=\"Drawing\" style=\"width: 500px;\"/>\n"
   ]
  },
  {
   "cell_type": "markdown",
   "metadata": {},
   "source": [
    "## `03` Code is for Humans\n",
    "\n",
    "Your `rmd` file is a document written for other people. You should describe what it contains and what it does clearly. If you open your work from last term you will have forgotten what you were doing, and so writing out what you are doing and why is always critically important. \n",
    "\n",
    "Use the top of your document to describe what you are doing today. Hint: we will be doing data exploration of the Palmer Penguins data set. \n",
    "\n",
    "You can press \"visual\" near the top left corner of your open script to make the page more readable if you prefer.\n",
    "\n",
    "*If you are using an R file, make sure you use `#` to write comments.*\n",
    "\n",
    "<img src=\"image/img_004_mdText.png\" alt=\"Drawing\" style=\"width: 500px;\"/>\n",
    "\n",
    "To create a readable document, press the \"Knit\" button and select PDF. \n",
    "\n",
    "<img src=\"image/img_007_knit.png\" alt=\"Drawing\" style=\"width: 300px;\"/>\n",
    "\n",
    "If you get an error, run the following code in your console:\n",
    "\n",
    "`install.packages(\"tinytex\")`\n",
    "\n",
    "A window will pop up with your new PDF version of your work. This will also be visible as a pdf file in your folder. Remember, you will need to press the Knit button to update this PDF as it needs to be made manually. \n",
    "\n",
    "<img src=\"image/img_008_pdf.png\" alt=\"Drawing\" style=\"width: 800px;\"/>\n",
    "\n",
    "This is the document version of your work, which you should try to produce for your assignment of this session. \n",
    "\n",
    "`QUESTION:` What does echo=FALSE do on line 33 in the screenshot?"
   ]
  },
  {
   "cell_type": "markdown",
   "metadata": {},
   "source": [
    "## `04` Installing Packages\n",
    "\n",
    "Feel free to use the interface if it makes life easier. \n",
    "\n",
    "<img src=\"image/img_005_package.png\" alt=\"Drawing\" style=\"width: 500px;\"/>\n",
    "\n",
    "\n",
    "We will now write some R code to install some libraries and load them. If you are using `rmd`, your code block starts with \n",
    "\n",
    "` ```{name of code block}`\n",
    "\n",
    "and ends with \n",
    "\n",
    "` ``` `\n",
    "\n",
    "You will need the following packages:\n",
    "\n"
   ]
  },
  {
   "cell_type": "code",
   "execution_count": 12,
   "metadata": {
    "vscode": {
     "languageId": "r"
    }
   },
   "outputs": [
    {
     "name": "stderr",
     "output_type": "stream",
     "text": [
      "Installing package into ‘/opt/homebrew/lib/R/4.3/site-library’\n",
      "(as ‘lib’ is unspecified)\n",
      "\n",
      "Installing package into ‘/opt/homebrew/lib/R/4.3/site-library’\n",
      "(as ‘lib’ is unspecified)\n",
      "\n",
      "Installing package into ‘/opt/homebrew/lib/R/4.3/site-library’\n",
      "(as ‘lib’ is unspecified)\n",
      "\n",
      "Installing package into ‘/opt/homebrew/lib/R/4.3/site-library’\n",
      "(as ‘lib’ is unspecified)\n",
      "\n",
      "Installing package into ‘/opt/homebrew/lib/R/4.3/site-library’\n",
      "(as ‘lib’ is unspecified)\n",
      "\n",
      "also installing the dependencies ‘forcats’, ‘plyr’, ‘progress’, ‘reshape’\n",
      "\n",
      "\n",
      "Installing packages into ‘/opt/homebrew/lib/R/4.3/site-library’\n",
      "(as ‘lib’ is unspecified)\n",
      "\n"
     ]
    }
   ],
   "source": [
    "install.packages(\"ggplot2\")\n",
    "install.packages(\"palmerpenguins\")\n",
    "install.packages(\"janitor\")\n",
    "install.packages(\"dplyr\")\n",
    "\n",
    "# There is a faster way to do this is you prefer:\n",
    "install.packages(c(\"ggplot2\", \"palmerpenguins\", \"janitor\", \"dplyr\"))\n",
    "\n"
   ]
  },
  {
   "cell_type": "markdown",
   "metadata": {},
   "source": [
    "## `05` Loading Packages\n",
    "\n",
    "Now they are installed, the packages need to be loaded. "
   ]
  },
  {
   "cell_type": "code",
   "execution_count": 18,
   "metadata": {
    "vscode": {
     "languageId": "r"
    }
   },
   "outputs": [
    {
     "name": "stderr",
     "output_type": "stream",
     "text": [
      "Registered S3 method overwritten by 'GGally':\n",
      "  method from   \n",
      "  +.gg   ggplot2\n",
      "\n"
     ]
    }
   ],
   "source": [
    "# Load the packages:\n",
    "library(ggplot2)\n",
    "library(palmerpenguins)\n",
    "library(janitor)\n",
    "library(dplyr)\n"
   ]
  },
  {
   "cell_type": "markdown",
   "metadata": {},
   "source": [
    "## `06` Load Data\n",
    "\n",
    "The package palmer penguins contains the data called \"penguins_raw\". \n",
    "\n",
    "`QUESTION:` What problems can you see in this data set?"
   ]
  },
  {
   "cell_type": "code",
   "execution_count": 9,
   "metadata": {
    "vscode": {
     "languageId": "r"
    }
   },
   "outputs": [
    {
     "data": {
      "text/html": [
       "<table class=\"dataframe\">\n",
       "<caption>A tibble: 6 × 17</caption>\n",
       "<thead>\n",
       "\t<tr><th scope=col>studyName</th><th scope=col>Sample Number</th><th scope=col>Species</th><th scope=col>Region</th><th scope=col>Island</th><th scope=col>Stage</th><th scope=col>Individual ID</th><th scope=col>Clutch Completion</th><th scope=col>Date Egg</th><th scope=col>Culmen Length (mm)</th><th scope=col>Culmen Depth (mm)</th><th scope=col>Flipper Length (mm)</th><th scope=col>Body Mass (g)</th><th scope=col>Sex</th><th scope=col>Delta 15 N (o/oo)</th><th scope=col>Delta 13 C (o/oo)</th><th scope=col>Comments</th></tr>\n",
       "\t<tr><th scope=col>&lt;chr&gt;</th><th scope=col>&lt;dbl&gt;</th><th scope=col>&lt;chr&gt;</th><th scope=col>&lt;chr&gt;</th><th scope=col>&lt;chr&gt;</th><th scope=col>&lt;chr&gt;</th><th scope=col>&lt;chr&gt;</th><th scope=col>&lt;chr&gt;</th><th scope=col>&lt;date&gt;</th><th scope=col>&lt;dbl&gt;</th><th scope=col>&lt;dbl&gt;</th><th scope=col>&lt;dbl&gt;</th><th scope=col>&lt;dbl&gt;</th><th scope=col>&lt;chr&gt;</th><th scope=col>&lt;dbl&gt;</th><th scope=col>&lt;dbl&gt;</th><th scope=col>&lt;chr&gt;</th></tr>\n",
       "</thead>\n",
       "<tbody>\n",
       "\t<tr><td>PAL0708</td><td>1</td><td>Adelie Penguin (Pygoscelis adeliae)</td><td>Anvers</td><td>Torgersen</td><td>Adult, 1 Egg Stage</td><td>N1A1</td><td>Yes</td><td>2007-11-11</td><td>39.1</td><td>18.7</td><td>181</td><td>3750</td><td>MALE  </td><td>     NA</td><td>       NA</td><td>Not enough blood for isotopes.</td></tr>\n",
       "\t<tr><td>PAL0708</td><td>2</td><td>Adelie Penguin (Pygoscelis adeliae)</td><td>Anvers</td><td>Torgersen</td><td>Adult, 1 Egg Stage</td><td>N1A2</td><td>Yes</td><td>2007-11-11</td><td>39.5</td><td>17.4</td><td>186</td><td>3800</td><td>FEMALE</td><td>8.94956</td><td>-24.69454</td><td>NA                            </td></tr>\n",
       "\t<tr><td>PAL0708</td><td>3</td><td>Adelie Penguin (Pygoscelis adeliae)</td><td>Anvers</td><td>Torgersen</td><td>Adult, 1 Egg Stage</td><td>N2A1</td><td>Yes</td><td>2007-11-16</td><td>40.3</td><td>18.0</td><td>195</td><td>3250</td><td>FEMALE</td><td>8.36821</td><td>-25.33302</td><td>NA                            </td></tr>\n",
       "\t<tr><td>PAL0708</td><td>4</td><td>Adelie Penguin (Pygoscelis adeliae)</td><td>Anvers</td><td>Torgersen</td><td>Adult, 1 Egg Stage</td><td>N2A2</td><td>Yes</td><td>2007-11-16</td><td>  NA</td><td>  NA</td><td> NA</td><td>  NA</td><td>NA    </td><td>     NA</td><td>       NA</td><td>Adult not sampled.            </td></tr>\n",
       "\t<tr><td>PAL0708</td><td>5</td><td>Adelie Penguin (Pygoscelis adeliae)</td><td>Anvers</td><td>Torgersen</td><td>Adult, 1 Egg Stage</td><td>N3A1</td><td>Yes</td><td>2007-11-16</td><td>36.7</td><td>19.3</td><td>193</td><td>3450</td><td>FEMALE</td><td>8.76651</td><td>-25.32426</td><td>NA                            </td></tr>\n",
       "\t<tr><td>PAL0708</td><td>6</td><td>Adelie Penguin (Pygoscelis adeliae)</td><td>Anvers</td><td>Torgersen</td><td>Adult, 1 Egg Stage</td><td>N3A2</td><td>Yes</td><td>2007-11-16</td><td>39.3</td><td>20.6</td><td>190</td><td>3650</td><td>MALE  </td><td>8.66496</td><td>-25.29805</td><td>NA                            </td></tr>\n",
       "</tbody>\n",
       "</table>\n"
      ],
      "text/latex": [
       "A tibble: 6 × 17\n",
       "\\begin{tabular}{lllllllllllllllll}\n",
       " studyName & Sample Number & Species & Region & Island & Stage & Individual ID & Clutch Completion & Date Egg & Culmen Length (mm) & Culmen Depth (mm) & Flipper Length (mm) & Body Mass (g) & Sex & Delta 15 N (o/oo) & Delta 13 C (o/oo) & Comments\\\\\n",
       " <chr> & <dbl> & <chr> & <chr> & <chr> & <chr> & <chr> & <chr> & <date> & <dbl> & <dbl> & <dbl> & <dbl> & <chr> & <dbl> & <dbl> & <chr>\\\\\n",
       "\\hline\n",
       "\t PAL0708 & 1 & Adelie Penguin (Pygoscelis adeliae) & Anvers & Torgersen & Adult, 1 Egg Stage & N1A1 & Yes & 2007-11-11 & 39.1 & 18.7 & 181 & 3750 & MALE   &      NA &        NA & Not enough blood for isotopes.\\\\\n",
       "\t PAL0708 & 2 & Adelie Penguin (Pygoscelis adeliae) & Anvers & Torgersen & Adult, 1 Egg Stage & N1A2 & Yes & 2007-11-11 & 39.5 & 17.4 & 186 & 3800 & FEMALE & 8.94956 & -24.69454 & NA                            \\\\\n",
       "\t PAL0708 & 3 & Adelie Penguin (Pygoscelis adeliae) & Anvers & Torgersen & Adult, 1 Egg Stage & N2A1 & Yes & 2007-11-16 & 40.3 & 18.0 & 195 & 3250 & FEMALE & 8.36821 & -25.33302 & NA                            \\\\\n",
       "\t PAL0708 & 4 & Adelie Penguin (Pygoscelis adeliae) & Anvers & Torgersen & Adult, 1 Egg Stage & N2A2 & Yes & 2007-11-16 &   NA &   NA &  NA &   NA & NA     &      NA &        NA & Adult not sampled.            \\\\\n",
       "\t PAL0708 & 5 & Adelie Penguin (Pygoscelis adeliae) & Anvers & Torgersen & Adult, 1 Egg Stage & N3A1 & Yes & 2007-11-16 & 36.7 & 19.3 & 193 & 3450 & FEMALE & 8.76651 & -25.32426 & NA                            \\\\\n",
       "\t PAL0708 & 6 & Adelie Penguin (Pygoscelis adeliae) & Anvers & Torgersen & Adult, 1 Egg Stage & N3A2 & Yes & 2007-11-16 & 39.3 & 20.6 & 190 & 3650 & MALE   & 8.66496 & -25.29805 & NA                            \\\\\n",
       "\\end{tabular}\n"
      ],
      "text/markdown": [
       "\n",
       "A tibble: 6 × 17\n",
       "\n",
       "| studyName &lt;chr&gt; | Sample Number &lt;dbl&gt; | Species &lt;chr&gt; | Region &lt;chr&gt; | Island &lt;chr&gt; | Stage &lt;chr&gt; | Individual ID &lt;chr&gt; | Clutch Completion &lt;chr&gt; | Date Egg &lt;date&gt; | Culmen Length (mm) &lt;dbl&gt; | Culmen Depth (mm) &lt;dbl&gt; | Flipper Length (mm) &lt;dbl&gt; | Body Mass (g) &lt;dbl&gt; | Sex &lt;chr&gt; | Delta 15 N (o/oo) &lt;dbl&gt; | Delta 13 C (o/oo) &lt;dbl&gt; | Comments &lt;chr&gt; |\n",
       "|---|---|---|---|---|---|---|---|---|---|---|---|---|---|---|---|---|\n",
       "| PAL0708 | 1 | Adelie Penguin (Pygoscelis adeliae) | Anvers | Torgersen | Adult, 1 Egg Stage | N1A1 | Yes | 2007-11-11 | 39.1 | 18.7 | 181 | 3750 | MALE   |      NA |        NA | Not enough blood for isotopes. |\n",
       "| PAL0708 | 2 | Adelie Penguin (Pygoscelis adeliae) | Anvers | Torgersen | Adult, 1 Egg Stage | N1A2 | Yes | 2007-11-11 | 39.5 | 17.4 | 186 | 3800 | FEMALE | 8.94956 | -24.69454 | NA                             |\n",
       "| PAL0708 | 3 | Adelie Penguin (Pygoscelis adeliae) | Anvers | Torgersen | Adult, 1 Egg Stage | N2A1 | Yes | 2007-11-16 | 40.3 | 18.0 | 195 | 3250 | FEMALE | 8.36821 | -25.33302 | NA                             |\n",
       "| PAL0708 | 4 | Adelie Penguin (Pygoscelis adeliae) | Anvers | Torgersen | Adult, 1 Egg Stage | N2A2 | Yes | 2007-11-16 |   NA |   NA |  NA |   NA | NA     |      NA |        NA | Adult not sampled.             |\n",
       "| PAL0708 | 5 | Adelie Penguin (Pygoscelis adeliae) | Anvers | Torgersen | Adult, 1 Egg Stage | N3A1 | Yes | 2007-11-16 | 36.7 | 19.3 | 193 | 3450 | FEMALE | 8.76651 | -25.32426 | NA                             |\n",
       "| PAL0708 | 6 | Adelie Penguin (Pygoscelis adeliae) | Anvers | Torgersen | Adult, 1 Egg Stage | N3A2 | Yes | 2007-11-16 | 39.3 | 20.6 | 190 | 3650 | MALE   | 8.66496 | -25.29805 | NA                             |\n",
       "\n"
      ],
      "text/plain": [
       "  studyName Sample Number Species                             Region Island   \n",
       "1 PAL0708   1             Adelie Penguin (Pygoscelis adeliae) Anvers Torgersen\n",
       "2 PAL0708   2             Adelie Penguin (Pygoscelis adeliae) Anvers Torgersen\n",
       "3 PAL0708   3             Adelie Penguin (Pygoscelis adeliae) Anvers Torgersen\n",
       "4 PAL0708   4             Adelie Penguin (Pygoscelis adeliae) Anvers Torgersen\n",
       "5 PAL0708   5             Adelie Penguin (Pygoscelis adeliae) Anvers Torgersen\n",
       "6 PAL0708   6             Adelie Penguin (Pygoscelis adeliae) Anvers Torgersen\n",
       "  Stage              Individual ID Clutch Completion Date Egg  \n",
       "1 Adult, 1 Egg Stage N1A1          Yes               2007-11-11\n",
       "2 Adult, 1 Egg Stage N1A2          Yes               2007-11-11\n",
       "3 Adult, 1 Egg Stage N2A1          Yes               2007-11-16\n",
       "4 Adult, 1 Egg Stage N2A2          Yes               2007-11-16\n",
       "5 Adult, 1 Egg Stage N3A1          Yes               2007-11-16\n",
       "6 Adult, 1 Egg Stage N3A2          Yes               2007-11-16\n",
       "  Culmen Length (mm) Culmen Depth (mm) Flipper Length (mm) Body Mass (g) Sex   \n",
       "1 39.1               18.7              181                 3750          MALE  \n",
       "2 39.5               17.4              186                 3800          FEMALE\n",
       "3 40.3               18.0              195                 3250          FEMALE\n",
       "4   NA                 NA               NA                   NA          NA    \n",
       "5 36.7               19.3              193                 3450          FEMALE\n",
       "6 39.3               20.6              190                 3650          MALE  \n",
       "  Delta 15 N (o/oo) Delta 13 C (o/oo) Comments                      \n",
       "1      NA                  NA         Not enough blood for isotopes.\n",
       "2 8.94956           -24.69454         NA                            \n",
       "3 8.36821           -25.33302         NA                            \n",
       "4      NA                  NA         Adult not sampled.            \n",
       "5 8.76651           -25.32426         NA                            \n",
       "6 8.66496           -25.29805         NA                            "
      ]
     },
     "metadata": {},
     "output_type": "display_data"
    }
   ],
   "source": [
    "# Look at the table with the raw data\n",
    "\n",
    "head(penguins_raw)\n",
    "\n"
   ]
  },
  {
   "cell_type": "markdown",
   "metadata": {},
   "source": [
    "## `07` Clean the Data\n",
    "\n",
    "We can see significant problems with the data. We will use the `janitor` package to help us clean the data. Remember, we need to save the raw data first. \n",
    "\n",
    "Create a new folder called `data` in your project folder:\n",
    "\n",
    "<img src=\"image/img_006_dataDir.png\" alt=\"Drawing\" style=\"width: 400px;\"/>\n",
    "\n",
    "Now you have a safe place to save your raw data before we start cleaning it. \n",
    "\n"
   ]
  },
  {
   "cell_type": "code",
   "execution_count": null,
   "metadata": {
    "vscode": {
     "languageId": "r"
    }
   },
   "outputs": [],
   "source": [
    "write.csv(penguins_raw, \"data/penguins_raw.csv\")\n"
   ]
  },
  {
   "cell_type": "markdown",
   "metadata": {},
   "source": [
    "## <span style='background:yellow'> Exercise 01 (5 mins) </span>\n",
    "\n",
    "\n",
    "### CHECK YOUR DATA IS SAVED\n",
    "\n",
    "<img src=\"image/directory_004.png\" alt=\"Drawing\" style=\"width: 400px;\"/>\n",
    "\n",
    "\n",
    "Now we can use the code we created last time to clean this data set. \n",
    "\n",
    "Last time we had code to do the following steps:\n"
   ]
  },
  {
   "cell_type": "code",
   "execution_count": 14,
   "metadata": {
    "vscode": {
     "languageId": "r"
    }
   },
   "outputs": [
    {
     "data": {
      "text/html": [
       "<style>\n",
       ".list-inline {list-style: none; margin:0; padding: 0}\n",
       ".list-inline>li {display: inline-block}\n",
       ".list-inline>li:not(:last-child)::after {content: \"\\00b7\"; padding: 0 .5ex}\n",
       "</style>\n",
       "<ol class=list-inline><li>'studyName'</li><li>'Sample Number'</li><li>'Species'</li><li>'Region'</li><li>'Island'</li><li>'Stage'</li><li>'Individual ID'</li><li>'Clutch Completion'</li><li>'Date Egg'</li><li>'Culmen Length (mm)'</li><li>'Culmen Depth (mm)'</li><li>'Flipper Length (mm)'</li><li>'Body Mass (g)'</li><li>'Sex'</li><li>'Delta 15 N (o/oo)'</li><li>'Delta 13 C (o/oo)'</li><li>'Comments'</li></ol>\n"
      ],
      "text/latex": [
       "\\begin{enumerate*}\n",
       "\\item 'studyName'\n",
       "\\item 'Sample Number'\n",
       "\\item 'Species'\n",
       "\\item 'Region'\n",
       "\\item 'Island'\n",
       "\\item 'Stage'\n",
       "\\item 'Individual ID'\n",
       "\\item 'Clutch Completion'\n",
       "\\item 'Date Egg'\n",
       "\\item 'Culmen Length (mm)'\n",
       "\\item 'Culmen Depth (mm)'\n",
       "\\item 'Flipper Length (mm)'\n",
       "\\item 'Body Mass (g)'\n",
       "\\item 'Sex'\n",
       "\\item 'Delta 15 N (o/oo)'\n",
       "\\item 'Delta 13 C (o/oo)'\n",
       "\\item 'Comments'\n",
       "\\end{enumerate*}\n"
      ],
      "text/markdown": [
       "1. 'studyName'\n",
       "2. 'Sample Number'\n",
       "3. 'Species'\n",
       "4. 'Region'\n",
       "5. 'Island'\n",
       "6. 'Stage'\n",
       "7. 'Individual ID'\n",
       "8. 'Clutch Completion'\n",
       "9. 'Date Egg'\n",
       "10. 'Culmen Length (mm)'\n",
       "11. 'Culmen Depth (mm)'\n",
       "12. 'Flipper Length (mm)'\n",
       "13. 'Body Mass (g)'\n",
       "14. 'Sex'\n",
       "15. 'Delta 15 N (o/oo)'\n",
       "16. 'Delta 13 C (o/oo)'\n",
       "17. 'Comments'\n",
       "\n",
       "\n"
      ],
      "text/plain": [
       " [1] \"studyName\"           \"Sample Number\"       \"Species\"            \n",
       " [4] \"Region\"              \"Island\"              \"Stage\"              \n",
       " [7] \"Individual ID\"       \"Clutch Completion\"   \"Date Egg\"           \n",
       "[10] \"Culmen Length (mm)\"  \"Culmen Depth (mm)\"   \"Flipper Length (mm)\"\n",
       "[13] \"Body Mass (g)\"       \"Sex\"                 \"Delta 15 N (o/oo)\"  \n",
       "[16] \"Delta 13 C (o/oo)\"   \"Comments\"           "
      ]
     },
     "metadata": {},
     "output_type": "display_data"
    },
    {
     "data": {
      "text/html": [
       "<style>\n",
       ".list-inline {list-style: none; margin:0; padding: 0}\n",
       ".list-inline>li {display: inline-block}\n",
       ".list-inline>li:not(:last-child)::after {content: \"\\00b7\"; padding: 0 .5ex}\n",
       "</style>\n",
       "<ol class=list-inline><li>'studyName'</li><li>'Sample Number'</li><li>'Species'</li><li>'Region'</li><li>'Island'</li><li>'Stage'</li><li>'Individual ID'</li><li>'Clutch Completion'</li><li>'Date Egg'</li><li>'Culmen Length (mm)'</li><li>'Culmen Depth (mm)'</li><li>'Flipper Length (mm)'</li><li>'Body Mass (g)'</li><li>'Sex'</li></ol>\n"
      ],
      "text/latex": [
       "\\begin{enumerate*}\n",
       "\\item 'studyName'\n",
       "\\item 'Sample Number'\n",
       "\\item 'Species'\n",
       "\\item 'Region'\n",
       "\\item 'Island'\n",
       "\\item 'Stage'\n",
       "\\item 'Individual ID'\n",
       "\\item 'Clutch Completion'\n",
       "\\item 'Date Egg'\n",
       "\\item 'Culmen Length (mm)'\n",
       "\\item 'Culmen Depth (mm)'\n",
       "\\item 'Flipper Length (mm)'\n",
       "\\item 'Body Mass (g)'\n",
       "\\item 'Sex'\n",
       "\\end{enumerate*}\n"
      ],
      "text/markdown": [
       "1. 'studyName'\n",
       "2. 'Sample Number'\n",
       "3. 'Species'\n",
       "4. 'Region'\n",
       "5. 'Island'\n",
       "6. 'Stage'\n",
       "7. 'Individual ID'\n",
       "8. 'Clutch Completion'\n",
       "9. 'Date Egg'\n",
       "10. 'Culmen Length (mm)'\n",
       "11. 'Culmen Depth (mm)'\n",
       "12. 'Flipper Length (mm)'\n",
       "13. 'Body Mass (g)'\n",
       "14. 'Sex'\n",
       "\n",
       "\n"
      ],
      "text/plain": [
       " [1] \"studyName\"           \"Sample Number\"       \"Species\"            \n",
       " [4] \"Region\"              \"Island\"              \"Stage\"              \n",
       " [7] \"Individual ID\"       \"Clutch Completion\"   \"Date Egg\"           \n",
       "[10] \"Culmen Length (mm)\"  \"Culmen Depth (mm)\"   \"Flipper Length (mm)\"\n",
       "[13] \"Body Mass (g)\"       \"Sex\"                "
      ]
     },
     "metadata": {},
     "output_type": "display_data"
    }
   ],
   "source": [
    "# Loading the data from the saved version is good practice here. \n",
    "# penguins_raw <- read.csv(\"data/penguins_raw.csv\")\n",
    "\n",
    "# Check what the column names look like:\n",
    "names(penguins_raw)\n",
    "\n",
    "# Create a new variable called penguins_clean. We will remove two columns.\n",
    "penguins_clean <- select(penguins_raw,-starts_with(\"Delta\"))\n",
    "penguins_clean <- select(penguins_clean,-Comments)\n",
    "\n",
    "# Check the column names in the new data frame:\n",
    "names(penguins_clean)"
   ]
  },
  {
   "cell_type": "markdown",
   "metadata": {},
   "source": [
    "## `08` Piping\n",
    "\n",
    "As a recap, we can use pipes to do multiple steps to a dataframe so we don't make mistakes. \n",
    "\n",
    "To read this, it starts by saying \"make a new variable called penguins_clean from penguins_raw after doing the following steps to it\". "
   ]
  },
  {
   "cell_type": "code",
   "execution_count": 15,
   "metadata": {
    "vscode": {
     "languageId": "r"
    }
   },
   "outputs": [
    {
     "data": {
      "text/html": [
       "<style>\n",
       ".list-inline {list-style: none; margin:0; padding: 0}\n",
       ".list-inline>li {display: inline-block}\n",
       ".list-inline>li:not(:last-child)::after {content: \"\\00b7\"; padding: 0 .5ex}\n",
       "</style>\n",
       "<ol class=list-inline><li>'studyName'</li><li>'Sample Number'</li><li>'Species'</li><li>'Region'</li><li>'Island'</li><li>'Stage'</li><li>'Individual ID'</li><li>'Clutch Completion'</li><li>'Date Egg'</li><li>'Culmen Length (mm)'</li><li>'Culmen Depth (mm)'</li><li>'Flipper Length (mm)'</li><li>'Body Mass (g)'</li><li>'Sex'</li><li>'Delta 15 N (o/oo)'</li><li>'Delta 13 C (o/oo)'</li><li>'Comments'</li></ol>\n"
      ],
      "text/latex": [
       "\\begin{enumerate*}\n",
       "\\item 'studyName'\n",
       "\\item 'Sample Number'\n",
       "\\item 'Species'\n",
       "\\item 'Region'\n",
       "\\item 'Island'\n",
       "\\item 'Stage'\n",
       "\\item 'Individual ID'\n",
       "\\item 'Clutch Completion'\n",
       "\\item 'Date Egg'\n",
       "\\item 'Culmen Length (mm)'\n",
       "\\item 'Culmen Depth (mm)'\n",
       "\\item 'Flipper Length (mm)'\n",
       "\\item 'Body Mass (g)'\n",
       "\\item 'Sex'\n",
       "\\item 'Delta 15 N (o/oo)'\n",
       "\\item 'Delta 13 C (o/oo)'\n",
       "\\item 'Comments'\n",
       "\\end{enumerate*}\n"
      ],
      "text/markdown": [
       "1. 'studyName'\n",
       "2. 'Sample Number'\n",
       "3. 'Species'\n",
       "4. 'Region'\n",
       "5. 'Island'\n",
       "6. 'Stage'\n",
       "7. 'Individual ID'\n",
       "8. 'Clutch Completion'\n",
       "9. 'Date Egg'\n",
       "10. 'Culmen Length (mm)'\n",
       "11. 'Culmen Depth (mm)'\n",
       "12. 'Flipper Length (mm)'\n",
       "13. 'Body Mass (g)'\n",
       "14. 'Sex'\n",
       "15. 'Delta 15 N (o/oo)'\n",
       "16. 'Delta 13 C (o/oo)'\n",
       "17. 'Comments'\n",
       "\n",
       "\n"
      ],
      "text/plain": [
       " [1] \"studyName\"           \"Sample Number\"       \"Species\"            \n",
       " [4] \"Region\"              \"Island\"              \"Stage\"              \n",
       " [7] \"Individual ID\"       \"Clutch Completion\"   \"Date Egg\"           \n",
       "[10] \"Culmen Length (mm)\"  \"Culmen Depth (mm)\"   \"Flipper Length (mm)\"\n",
       "[13] \"Body Mass (g)\"       \"Sex\"                 \"Delta 15 N (o/oo)\"  \n",
       "[16] \"Delta 13 C (o/oo)\"   \"Comments\"           "
      ]
     },
     "metadata": {},
     "output_type": "display_data"
    },
    {
     "data": {
      "text/html": [
       "<style>\n",
       ".list-inline {list-style: none; margin:0; padding: 0}\n",
       ".list-inline>li {display: inline-block}\n",
       ".list-inline>li:not(:last-child)::after {content: \"\\00b7\"; padding: 0 .5ex}\n",
       "</style>\n",
       "<ol class=list-inline><li>'study_name'</li><li>'sample_number'</li><li>'species'</li><li>'region'</li><li>'island'</li><li>'stage'</li><li>'individual_id'</li><li>'clutch_completion'</li><li>'date_egg'</li><li>'culmen_length_mm'</li><li>'culmen_depth_mm'</li><li>'flipper_length_mm'</li><li>'body_mass_g'</li><li>'sex'</li></ol>\n"
      ],
      "text/latex": [
       "\\begin{enumerate*}\n",
       "\\item 'study\\_name'\n",
       "\\item 'sample\\_number'\n",
       "\\item 'species'\n",
       "\\item 'region'\n",
       "\\item 'island'\n",
       "\\item 'stage'\n",
       "\\item 'individual\\_id'\n",
       "\\item 'clutch\\_completion'\n",
       "\\item 'date\\_egg'\n",
       "\\item 'culmen\\_length\\_mm'\n",
       "\\item 'culmen\\_depth\\_mm'\n",
       "\\item 'flipper\\_length\\_mm'\n",
       "\\item 'body\\_mass\\_g'\n",
       "\\item 'sex'\n",
       "\\end{enumerate*}\n"
      ],
      "text/markdown": [
       "1. 'study_name'\n",
       "2. 'sample_number'\n",
       "3. 'species'\n",
       "4. 'region'\n",
       "5. 'island'\n",
       "6. 'stage'\n",
       "7. 'individual_id'\n",
       "8. 'clutch_completion'\n",
       "9. 'date_egg'\n",
       "10. 'culmen_length_mm'\n",
       "11. 'culmen_depth_mm'\n",
       "12. 'flipper_length_mm'\n",
       "13. 'body_mass_g'\n",
       "14. 'sex'\n",
       "\n",
       "\n"
      ],
      "text/plain": [
       " [1] \"study_name\"        \"sample_number\"     \"species\"          \n",
       " [4] \"region\"            \"island\"            \"stage\"            \n",
       " [7] \"individual_id\"     \"clutch_completion\" \"date_egg\"         \n",
       "[10] \"culmen_length_mm\"  \"culmen_depth_mm\"   \"flipper_length_mm\"\n",
       "[13] \"body_mass_g\"       \"sex\"              "
      ]
     },
     "metadata": {},
     "output_type": "display_data"
    }
   ],
   "source": [
    "# Check what the column names look like:\n",
    "names(penguins_raw)\n",
    "\n",
    "#  ---- OLD VERSION OF THE CODE ----\n",
    "# penguins_clean <- select(penguins_raw,-starts_with(\"Delta\"))\n",
    "# penguins_clean <- select(penguins_clean,-Comments)\n",
    "# ----------------------------------\n",
    "\n",
    "penguins_clean <- penguins_raw %>%\n",
    "  select(-starts_with(\"Delta\")) %>%\n",
    "  select(-Comments) %>%\n",
    "  clean_names()\n",
    "\n",
    "# Check the column names in the new data frame:\n",
    "names(penguins_clean)"
   ]
  },
  {
   "cell_type": "markdown",
   "metadata": {},
   "source": [
    "The `clean_names()` function comes from janitor and fixes all the problems with spaces and capital letter for us. \n",
    "\n",
    "## `09` Functions\n",
    "\n",
    "Instead of writing the same lines of code repeatedly, we can package them into a function and just call that function whenever needed. We use functions from packages (like the `clean_names` and `select` functions) but we can also write our own custom ones. \n",
    "\n",
    "You may want to run different analyses on the same data set, and so it doesn't make sense to write out code repeatedly across different `rmd` files, but instead write functions which can be shared across different files. \n",
    "\n"
   ]
  },
  {
   "cell_type": "code",
   "execution_count": 34,
   "metadata": {
    "vscode": {
     "languageId": "r"
    }
   },
   "outputs": [],
   "source": [
    "# A function to make sure the column names are cleaned up, \n",
    "# eg lower case and snake case\n",
    "clean_column_names <- function(penguins_data) {\n",
    "    penguins_data %>%\n",
    "        select(-starts_with(\"Delta\")) %>%\n",
    "        select(-Comments) %>%\n",
    "        clean_names()\n",
    "}\n"
   ]
  },
  {
   "cell_type": "markdown",
   "metadata": {},
   "source": [
    "### Defining a Function\n",
    "\n",
    "The anatomy of this function is as follows:\n",
    "\n",
    "`clean_column_names` : The name of your function, which should describe what it does\n",
    "\n",
    "`function` : Tells R you are defining a function\n",
    "\n",
    "`(penguins_data)` : What the function needs to work, in this case it is expecting a data frame. The name doesn't matter, you can call it \"x\" as long as it is internally consistent. When you use the function, whatever you give it will be treated as `penguins_data`\n",
    "\n",
    "`{` : Starts the function definition\n",
    "\n",
    "`penguins_data %>%` : Starts the pipe\n",
    "\n",
    "`clean_names()` : The cleaning function from `janitor`\n",
    "\n",
    "`}` : The end of the function definition\n",
    "\n",
    "### Calling a Function\n",
    "\n",
    "We have defined the function, but we haven't actually used it yet. We need to **call** the function next. "
   ]
  },
  {
   "cell_type": "code",
   "execution_count": 52,
   "metadata": {
    "vscode": {
     "languageId": "r"
    }
   },
   "outputs": [
    {
     "data": {
      "text/html": [
       "<style>\n",
       ".list-inline {list-style: none; margin:0; padding: 0}\n",
       ".list-inline>li {display: inline-block}\n",
       ".list-inline>li:not(:last-child)::after {content: \"\\00b7\"; padding: 0 .5ex}\n",
       "</style>\n",
       "<ol class=list-inline><li>'studyName'</li><li>'Sample Number'</li><li>'Species'</li><li>'Region'</li><li>'Island'</li><li>'Stage'</li><li>'Individual ID'</li><li>'Clutch Completion'</li><li>'Date Egg'</li><li>'Culmen Length (mm)'</li><li>'Culmen Depth (mm)'</li><li>'Flipper Length (mm)'</li><li>'Body Mass (g)'</li><li>'Sex'</li><li>'Delta 15 N (o/oo)'</li><li>'Delta 13 C (o/oo)'</li><li>'Comments'</li></ol>\n"
      ],
      "text/latex": [
       "\\begin{enumerate*}\n",
       "\\item 'studyName'\n",
       "\\item 'Sample Number'\n",
       "\\item 'Species'\n",
       "\\item 'Region'\n",
       "\\item 'Island'\n",
       "\\item 'Stage'\n",
       "\\item 'Individual ID'\n",
       "\\item 'Clutch Completion'\n",
       "\\item 'Date Egg'\n",
       "\\item 'Culmen Length (mm)'\n",
       "\\item 'Culmen Depth (mm)'\n",
       "\\item 'Flipper Length (mm)'\n",
       "\\item 'Body Mass (g)'\n",
       "\\item 'Sex'\n",
       "\\item 'Delta 15 N (o/oo)'\n",
       "\\item 'Delta 13 C (o/oo)'\n",
       "\\item 'Comments'\n",
       "\\end{enumerate*}\n"
      ],
      "text/markdown": [
       "1. 'studyName'\n",
       "2. 'Sample Number'\n",
       "3. 'Species'\n",
       "4. 'Region'\n",
       "5. 'Island'\n",
       "6. 'Stage'\n",
       "7. 'Individual ID'\n",
       "8. 'Clutch Completion'\n",
       "9. 'Date Egg'\n",
       "10. 'Culmen Length (mm)'\n",
       "11. 'Culmen Depth (mm)'\n",
       "12. 'Flipper Length (mm)'\n",
       "13. 'Body Mass (g)'\n",
       "14. 'Sex'\n",
       "15. 'Delta 15 N (o/oo)'\n",
       "16. 'Delta 13 C (o/oo)'\n",
       "17. 'Comments'\n",
       "\n",
       "\n"
      ],
      "text/plain": [
       " [1] \"studyName\"           \"Sample Number\"       \"Species\"            \n",
       " [4] \"Region\"              \"Island\"              \"Stage\"              \n",
       " [7] \"Individual ID\"       \"Clutch Completion\"   \"Date Egg\"           \n",
       "[10] \"Culmen Length (mm)\"  \"Culmen Depth (mm)\"   \"Flipper Length (mm)\"\n",
       "[13] \"Body Mass (g)\"       \"Sex\"                 \"Delta 15 N (o/oo)\"  \n",
       "[16] \"Delta 13 C (o/oo)\"   \"Comments\"           "
      ]
     },
     "metadata": {},
     "output_type": "display_data"
    },
    {
     "data": {
      "text/html": [
       "<style>\n",
       ".list-inline {list-style: none; margin:0; padding: 0}\n",
       ".list-inline>li {display: inline-block}\n",
       ".list-inline>li:not(:last-child)::after {content: \"\\00b7\"; padding: 0 .5ex}\n",
       "</style>\n",
       "<ol class=list-inline><li>'study_name'</li><li>'sample_number'</li><li>'species'</li><li>'region'</li><li>'island'</li><li>'stage'</li><li>'individual_id'</li><li>'clutch_completion'</li><li>'date_egg'</li><li>'culmen_length_mm'</li><li>'culmen_depth_mm'</li><li>'flipper_length_mm'</li><li>'body_mass_g'</li><li>'sex'</li></ol>\n"
      ],
      "text/latex": [
       "\\begin{enumerate*}\n",
       "\\item 'study\\_name'\n",
       "\\item 'sample\\_number'\n",
       "\\item 'species'\n",
       "\\item 'region'\n",
       "\\item 'island'\n",
       "\\item 'stage'\n",
       "\\item 'individual\\_id'\n",
       "\\item 'clutch\\_completion'\n",
       "\\item 'date\\_egg'\n",
       "\\item 'culmen\\_length\\_mm'\n",
       "\\item 'culmen\\_depth\\_mm'\n",
       "\\item 'flipper\\_length\\_mm'\n",
       "\\item 'body\\_mass\\_g'\n",
       "\\item 'sex'\n",
       "\\end{enumerate*}\n"
      ],
      "text/markdown": [
       "1. 'study_name'\n",
       "2. 'sample_number'\n",
       "3. 'species'\n",
       "4. 'region'\n",
       "5. 'island'\n",
       "6. 'stage'\n",
       "7. 'individual_id'\n",
       "8. 'clutch_completion'\n",
       "9. 'date_egg'\n",
       "10. 'culmen_length_mm'\n",
       "11. 'culmen_depth_mm'\n",
       "12. 'flipper_length_mm'\n",
       "13. 'body_mass_g'\n",
       "14. 'sex'\n",
       "\n",
       "\n"
      ],
      "text/plain": [
       " [1] \"study_name\"        \"sample_number\"     \"species\"          \n",
       " [4] \"region\"            \"island\"            \"stage\"            \n",
       " [7] \"individual_id\"     \"clutch_completion\" \"date_egg\"         \n",
       "[10] \"culmen_length_mm\"  \"culmen_depth_mm\"   \"flipper_length_mm\"\n",
       "[13] \"body_mass_g\"       \"sex\"              "
      ]
     },
     "metadata": {},
     "output_type": "display_data"
    }
   ],
   "source": [
    "# Check what the column names look like:\n",
    "names(penguins_raw)\n",
    "\n",
    "#  ---- OLD VERSION OF THE CODE ----\n",
    "# penguins_clean <- select(penguins_raw,-starts_with(\"Delta\"))\n",
    "# penguins_clean <- select(penguins_clean,-Comments)\n",
    "# ----------------------------------\n",
    "\n",
    "#  ---- OLD VERSION OF THE CODE ----\n",
    "# penguins_clean <- penguins_raw %>%\n",
    "#   select(-starts_with(\"Delta\")) %>%\n",
    "#   select(-Comments) %>%\n",
    "#   clean_names()\n",
    "# ----------------------------------\n",
    "\n",
    "# Define Function\n",
    "clean_function <- function(penguins_data) {\n",
    "    penguins_data %>%\n",
    "        select(-starts_with(\"Delta\")) %>%\n",
    "        select(-Comments) %>%\n",
    "        clean_names()\n",
    "}\n",
    "\n",
    "# Call Function\n",
    "penguins_clean <- clean_function(penguins_raw)\n",
    "\n",
    "# Check the column names in the new data frame:\n",
    "names(penguins_clean)"
   ]
  },
  {
   "cell_type": "markdown",
   "metadata": {},
   "source": [
    "\n",
    "\n",
    "\n",
    "## `10` Cleaning File\n",
    "\n",
    "Writing functions is like creating tools that you can easily reuse and apply to your data. It's often helpful to store your tools in a place that means they can be used in multiple analysis files. \n",
    "\n",
    "## <span style='background:yellow'> Exercise 02 (5 mins) </span>\n",
    "\n",
    "\n",
    "### Create a `functions` subfolder\n",
    "\n",
    "### Inside, create an R file called `cleaning.R`. \n",
    "\n",
    "<img src=\"image/directory_007.png\" alt=\"Drawing\" style=\"width: 400px;\"/>\n",
    "\n",
    "\n",
    "This time we are writing an R file rather than `.rmd`. I have written a series of functions that clean up the Palmer Penguins dataset. [Open this file and copy it into your project.](https://github.com/LydiaFrance/Reproducible_Figures_R/blob/recap_lessons/PenguinProjectExample/functions/cleaning.r) \n",
    "\n",
    "\n",
    "### Paste in the contents \n",
    "Copy and paste the contents into your file.  \n",
    "\n",
    "### Load this file into your `.rmd` file\n"
   ]
  },
  {
   "cell_type": "code",
   "execution_count": 50,
   "metadata": {
    "vscode": {
     "languageId": "r"
    }
   },
   "outputs": [],
   "source": [
    "source(\"functions/cleaning.r\")"
   ]
  },
  {
   "cell_type": "markdown",
   "metadata": {},
   "source": [
    "Test out one of the functions from the file. "
   ]
  },
  {
   "cell_type": "code",
   "execution_count": 51,
   "metadata": {
    "vscode": {
     "languageId": "r"
    }
   },
   "outputs": [
    {
     "data": {
      "text/html": [
       "<style>\n",
       ".list-inline {list-style: none; margin:0; padding: 0}\n",
       ".list-inline>li {display: inline-block}\n",
       ".list-inline>li:not(:last-child)::after {content: \"\\00b7\"; padding: 0 .5ex}\n",
       "</style>\n",
       "<ol class=list-inline><li>'studyName'</li><li>'Sample Number'</li><li>'Species'</li><li>'Region'</li><li>'Island'</li><li>'Stage'</li><li>'Individual ID'</li><li>'Clutch Completion'</li><li>'Date Egg'</li><li>'Culmen Length (mm)'</li><li>'Culmen Depth (mm)'</li><li>'Flipper Length (mm)'</li><li>'Body Mass (g)'</li><li>'Sex'</li><li>'Delta 15 N (o/oo)'</li><li>'Delta 13 C (o/oo)'</li><li>'Comments'</li></ol>\n"
      ],
      "text/latex": [
       "\\begin{enumerate*}\n",
       "\\item 'studyName'\n",
       "\\item 'Sample Number'\n",
       "\\item 'Species'\n",
       "\\item 'Region'\n",
       "\\item 'Island'\n",
       "\\item 'Stage'\n",
       "\\item 'Individual ID'\n",
       "\\item 'Clutch Completion'\n",
       "\\item 'Date Egg'\n",
       "\\item 'Culmen Length (mm)'\n",
       "\\item 'Culmen Depth (mm)'\n",
       "\\item 'Flipper Length (mm)'\n",
       "\\item 'Body Mass (g)'\n",
       "\\item 'Sex'\n",
       "\\item 'Delta 15 N (o/oo)'\n",
       "\\item 'Delta 13 C (o/oo)'\n",
       "\\item 'Comments'\n",
       "\\end{enumerate*}\n"
      ],
      "text/markdown": [
       "1. 'studyName'\n",
       "2. 'Sample Number'\n",
       "3. 'Species'\n",
       "4. 'Region'\n",
       "5. 'Island'\n",
       "6. 'Stage'\n",
       "7. 'Individual ID'\n",
       "8. 'Clutch Completion'\n",
       "9. 'Date Egg'\n",
       "10. 'Culmen Length (mm)'\n",
       "11. 'Culmen Depth (mm)'\n",
       "12. 'Flipper Length (mm)'\n",
       "13. 'Body Mass (g)'\n",
       "14. 'Sex'\n",
       "15. 'Delta 15 N (o/oo)'\n",
       "16. 'Delta 13 C (o/oo)'\n",
       "17. 'Comments'\n",
       "\n",
       "\n"
      ],
      "text/plain": [
       " [1] \"studyName\"           \"Sample Number\"       \"Species\"            \n",
       " [4] \"Region\"              \"Island\"              \"Stage\"              \n",
       " [7] \"Individual ID\"       \"Clutch Completion\"   \"Date Egg\"           \n",
       "[10] \"Culmen Length (mm)\"  \"Culmen Depth (mm)\"   \"Flipper Length (mm)\"\n",
       "[13] \"Body Mass (g)\"       \"Sex\"                 \"Delta 15 N (o/oo)\"  \n",
       "[16] \"Delta 13 C (o/oo)\"   \"Comments\"           "
      ]
     },
     "metadata": {},
     "output_type": "display_data"
    },
    {
     "data": {
      "text/html": [
       "<style>\n",
       ".list-inline {list-style: none; margin:0; padding: 0}\n",
       ".list-inline>li {display: inline-block}\n",
       ".list-inline>li:not(:last-child)::after {content: \"\\00b7\"; padding: 0 .5ex}\n",
       "</style>\n",
       "<ol class=list-inline><li>'study_name'</li><li>'sample_number'</li><li>'species'</li><li>'region'</li><li>'island'</li><li>'stage'</li><li>'individual_id'</li><li>'clutch_completion'</li><li>'date_egg'</li><li>'culmen_length_mm'</li><li>'culmen_depth_mm'</li><li>'flipper_length_mm'</li><li>'body_mass_g'</li><li>'sex'</li><li>'delta_15_n_o_oo'</li><li>'delta_13_c_o_oo'</li><li>'comments'</li></ol>\n"
      ],
      "text/latex": [
       "\\begin{enumerate*}\n",
       "\\item 'study\\_name'\n",
       "\\item 'sample\\_number'\n",
       "\\item 'species'\n",
       "\\item 'region'\n",
       "\\item 'island'\n",
       "\\item 'stage'\n",
       "\\item 'individual\\_id'\n",
       "\\item 'clutch\\_completion'\n",
       "\\item 'date\\_egg'\n",
       "\\item 'culmen\\_length\\_mm'\n",
       "\\item 'culmen\\_depth\\_mm'\n",
       "\\item 'flipper\\_length\\_mm'\n",
       "\\item 'body\\_mass\\_g'\n",
       "\\item 'sex'\n",
       "\\item 'delta\\_15\\_n\\_o\\_oo'\n",
       "\\item 'delta\\_13\\_c\\_o\\_oo'\n",
       "\\item 'comments'\n",
       "\\end{enumerate*}\n"
      ],
      "text/markdown": [
       "1. 'study_name'\n",
       "2. 'sample_number'\n",
       "3. 'species'\n",
       "4. 'region'\n",
       "5. 'island'\n",
       "6. 'stage'\n",
       "7. 'individual_id'\n",
       "8. 'clutch_completion'\n",
       "9. 'date_egg'\n",
       "10. 'culmen_length_mm'\n",
       "11. 'culmen_depth_mm'\n",
       "12. 'flipper_length_mm'\n",
       "13. 'body_mass_g'\n",
       "14. 'sex'\n",
       "15. 'delta_15_n_o_oo'\n",
       "16. 'delta_13_c_o_oo'\n",
       "17. 'comments'\n",
       "\n",
       "\n"
      ],
      "text/plain": [
       " [1] \"study_name\"        \"sample_number\"     \"species\"          \n",
       " [4] \"region\"            \"island\"            \"stage\"            \n",
       " [7] \"individual_id\"     \"clutch_completion\" \"date_egg\"         \n",
       "[10] \"culmen_length_mm\"  \"culmen_depth_mm\"   \"flipper_length_mm\"\n",
       "[13] \"body_mass_g\"       \"sex\"               \"delta_15_n_o_oo\"  \n",
       "[16] \"delta_13_c_o_oo\"   \"comments\"         "
      ]
     },
     "metadata": {},
     "output_type": "display_data"
    }
   ],
   "source": [
    "\n",
    "names(penguins_raw)\n",
    "\n",
    "penguins_clean <- clean_column_names(penguins_raw)\n",
    "\n",
    "names(penguins_clean)\n",
    "\n"
   ]
  },
  {
   "cell_type": "markdown",
   "metadata": {},
   "source": [
    "Test out another function. This one `shorten_species` makes the species data easier to read. "
   ]
  },
  {
   "cell_type": "code",
   "execution_count": null,
   "metadata": {
    "vscode": {
     "languageId": "r"
    }
   },
   "outputs": [],
   "source": [
    "\n",
    "# Another function fixes the species names. They're currently too long:\n",
    "head(penguins_clean$species)\n",
    "\n",
    "penguins_clean_species <- shorten_species(penguins_clean)\n",
    "\n",
    "head(penguins_clean_species$species)\n"
   ]
  },
  {
   "cell_type": "markdown",
   "metadata": {},
   "source": [
    "We would like to use multiple functions from this file. it's best practice therefore to pipe them. \n",
    "\n",
    "because your functions have sensible names, and each one only does one thing, someone reading your code can understand what is happening without having to see all the gory details. However, they can easily find these functions within your cleaning file if they want to see what it is doing. "
   ]
  },
  {
   "cell_type": "code",
   "execution_count": 54,
   "metadata": {
    "vscode": {
     "languageId": "r"
    }
   },
   "outputs": [],
   "source": [
    "\n",
    "# Because we want to use multiple functions, we should pipe them. \n",
    "penguins_clean <- penguins_raw %>%\n",
    "    clean_column_names() %>%\n",
    "    shorten_species() %>%\n",
    "    remove_empty_columns_rows()\n"
   ]
  },
  {
   "cell_type": "markdown",
   "metadata": {},
   "source": [
    "## `11` Subset the Data\n",
    "\n",
    "There are functions in the cleaning file that filter and subset the data. For example there is one called:\n",
    "\n",
    "`filter_by_species <- function(penguins_data, selected_species)`\n",
    "\n",
    "You can see there is now an additional input in t he brackets. To run this function, you need to give it the `penguins_clean` data but also the name of the species you want, for example \"Gentoo\". "
   ]
  },
  {
   "cell_type": "code",
   "execution_count": 59,
   "metadata": {
    "vscode": {
     "languageId": "r"
    }
   },
   "outputs": [
    {
     "data": {
      "text/html": [
       "<table class=\"dataframe\">\n",
       "<caption>A tibble: 6 × 17</caption>\n",
       "<thead>\n",
       "\t<tr><th scope=col>study_name</th><th scope=col>sample_number</th><th scope=col>species</th><th scope=col>region</th><th scope=col>island</th><th scope=col>stage</th><th scope=col>individual_id</th><th scope=col>clutch_completion</th><th scope=col>date_egg</th><th scope=col>culmen_length_mm</th><th scope=col>culmen_depth_mm</th><th scope=col>flipper_length_mm</th><th scope=col>body_mass_g</th><th scope=col>sex</th><th scope=col>delta_15_n_o_oo</th><th scope=col>delta_13_c_o_oo</th><th scope=col>comments</th></tr>\n",
       "\t<tr><th scope=col>&lt;chr&gt;</th><th scope=col>&lt;dbl&gt;</th><th scope=col>&lt;chr&gt;</th><th scope=col>&lt;chr&gt;</th><th scope=col>&lt;chr&gt;</th><th scope=col>&lt;chr&gt;</th><th scope=col>&lt;chr&gt;</th><th scope=col>&lt;chr&gt;</th><th scope=col>&lt;date&gt;</th><th scope=col>&lt;dbl&gt;</th><th scope=col>&lt;dbl&gt;</th><th scope=col>&lt;dbl&gt;</th><th scope=col>&lt;dbl&gt;</th><th scope=col>&lt;chr&gt;</th><th scope=col>&lt;dbl&gt;</th><th scope=col>&lt;dbl&gt;</th><th scope=col>&lt;chr&gt;</th></tr>\n",
       "</thead>\n",
       "<tbody>\n",
       "\t<tr><td>PAL0708</td><td>1</td><td>Gentoo</td><td>Anvers</td><td>Biscoe</td><td>Adult, 1 Egg Stage</td><td>N31A1</td><td>Yes</td><td>2007-11-27</td><td>46.1</td><td>13.2</td><td>211</td><td>4500</td><td>FEMALE</td><td>7.99300</td><td>-25.51390</td><td>NA</td></tr>\n",
       "\t<tr><td>PAL0708</td><td>2</td><td>Gentoo</td><td>Anvers</td><td>Biscoe</td><td>Adult, 1 Egg Stage</td><td>N31A2</td><td>Yes</td><td>2007-11-27</td><td>50.0</td><td>16.3</td><td>230</td><td>5700</td><td>MALE  </td><td>8.14756</td><td>-25.39369</td><td>NA</td></tr>\n",
       "\t<tr><td>PAL0708</td><td>3</td><td>Gentoo</td><td>Anvers</td><td>Biscoe</td><td>Adult, 1 Egg Stage</td><td>N32A1</td><td>Yes</td><td>2007-11-27</td><td>48.7</td><td>14.1</td><td>210</td><td>4450</td><td>FEMALE</td><td>8.14705</td><td>-25.46172</td><td>NA</td></tr>\n",
       "\t<tr><td>PAL0708</td><td>4</td><td>Gentoo</td><td>Anvers</td><td>Biscoe</td><td>Adult, 1 Egg Stage</td><td>N32A2</td><td>Yes</td><td>2007-11-27</td><td>50.0</td><td>15.2</td><td>218</td><td>5700</td><td>MALE  </td><td>8.25540</td><td>-25.40075</td><td>NA</td></tr>\n",
       "\t<tr><td>PAL0708</td><td>5</td><td>Gentoo</td><td>Anvers</td><td>Biscoe</td><td>Adult, 1 Egg Stage</td><td>N33A1</td><td>Yes</td><td>2007-11-18</td><td>47.6</td><td>14.5</td><td>215</td><td>5400</td><td>MALE  </td><td>8.23450</td><td>-25.54456</td><td>NA</td></tr>\n",
       "\t<tr><td>PAL0708</td><td>6</td><td>Gentoo</td><td>Anvers</td><td>Biscoe</td><td>Adult, 1 Egg Stage</td><td>N33A2</td><td>Yes</td><td>2007-11-18</td><td>46.5</td><td>13.5</td><td>210</td><td>4550</td><td>FEMALE</td><td>7.99530</td><td>-25.32829</td><td>NA</td></tr>\n",
       "</tbody>\n",
       "</table>\n"
      ],
      "text/latex": [
       "A tibble: 6 × 17\n",
       "\\begin{tabular}{lllllllllllllllll}\n",
       " study\\_name & sample\\_number & species & region & island & stage & individual\\_id & clutch\\_completion & date\\_egg & culmen\\_length\\_mm & culmen\\_depth\\_mm & flipper\\_length\\_mm & body\\_mass\\_g & sex & delta\\_15\\_n\\_o\\_oo & delta\\_13\\_c\\_o\\_oo & comments\\\\\n",
       " <chr> & <dbl> & <chr> & <chr> & <chr> & <chr> & <chr> & <chr> & <date> & <dbl> & <dbl> & <dbl> & <dbl> & <chr> & <dbl> & <dbl> & <chr>\\\\\n",
       "\\hline\n",
       "\t PAL0708 & 1 & Gentoo & Anvers & Biscoe & Adult, 1 Egg Stage & N31A1 & Yes & 2007-11-27 & 46.1 & 13.2 & 211 & 4500 & FEMALE & 7.99300 & -25.51390 & NA\\\\\n",
       "\t PAL0708 & 2 & Gentoo & Anvers & Biscoe & Adult, 1 Egg Stage & N31A2 & Yes & 2007-11-27 & 50.0 & 16.3 & 230 & 5700 & MALE   & 8.14756 & -25.39369 & NA\\\\\n",
       "\t PAL0708 & 3 & Gentoo & Anvers & Biscoe & Adult, 1 Egg Stage & N32A1 & Yes & 2007-11-27 & 48.7 & 14.1 & 210 & 4450 & FEMALE & 8.14705 & -25.46172 & NA\\\\\n",
       "\t PAL0708 & 4 & Gentoo & Anvers & Biscoe & Adult, 1 Egg Stage & N32A2 & Yes & 2007-11-27 & 50.0 & 15.2 & 218 & 5700 & MALE   & 8.25540 & -25.40075 & NA\\\\\n",
       "\t PAL0708 & 5 & Gentoo & Anvers & Biscoe & Adult, 1 Egg Stage & N33A1 & Yes & 2007-11-18 & 47.6 & 14.5 & 215 & 5400 & MALE   & 8.23450 & -25.54456 & NA\\\\\n",
       "\t PAL0708 & 6 & Gentoo & Anvers & Biscoe & Adult, 1 Egg Stage & N33A2 & Yes & 2007-11-18 & 46.5 & 13.5 & 210 & 4550 & FEMALE & 7.99530 & -25.32829 & NA\\\\\n",
       "\\end{tabular}\n"
      ],
      "text/markdown": [
       "\n",
       "A tibble: 6 × 17\n",
       "\n",
       "| study_name &lt;chr&gt; | sample_number &lt;dbl&gt; | species &lt;chr&gt; | region &lt;chr&gt; | island &lt;chr&gt; | stage &lt;chr&gt; | individual_id &lt;chr&gt; | clutch_completion &lt;chr&gt; | date_egg &lt;date&gt; | culmen_length_mm &lt;dbl&gt; | culmen_depth_mm &lt;dbl&gt; | flipper_length_mm &lt;dbl&gt; | body_mass_g &lt;dbl&gt; | sex &lt;chr&gt; | delta_15_n_o_oo &lt;dbl&gt; | delta_13_c_o_oo &lt;dbl&gt; | comments &lt;chr&gt; |\n",
       "|---|---|---|---|---|---|---|---|---|---|---|---|---|---|---|---|---|\n",
       "| PAL0708 | 1 | Gentoo | Anvers | Biscoe | Adult, 1 Egg Stage | N31A1 | Yes | 2007-11-27 | 46.1 | 13.2 | 211 | 4500 | FEMALE | 7.99300 | -25.51390 | NA |\n",
       "| PAL0708 | 2 | Gentoo | Anvers | Biscoe | Adult, 1 Egg Stage | N31A2 | Yes | 2007-11-27 | 50.0 | 16.3 | 230 | 5700 | MALE   | 8.14756 | -25.39369 | NA |\n",
       "| PAL0708 | 3 | Gentoo | Anvers | Biscoe | Adult, 1 Egg Stage | N32A1 | Yes | 2007-11-27 | 48.7 | 14.1 | 210 | 4450 | FEMALE | 8.14705 | -25.46172 | NA |\n",
       "| PAL0708 | 4 | Gentoo | Anvers | Biscoe | Adult, 1 Egg Stage | N32A2 | Yes | 2007-11-27 | 50.0 | 15.2 | 218 | 5700 | MALE   | 8.25540 | -25.40075 | NA |\n",
       "| PAL0708 | 5 | Gentoo | Anvers | Biscoe | Adult, 1 Egg Stage | N33A1 | Yes | 2007-11-18 | 47.6 | 14.5 | 215 | 5400 | MALE   | 8.23450 | -25.54456 | NA |\n",
       "| PAL0708 | 6 | Gentoo | Anvers | Biscoe | Adult, 1 Egg Stage | N33A2 | Yes | 2007-11-18 | 46.5 | 13.5 | 210 | 4550 | FEMALE | 7.99530 | -25.32829 | NA |\n",
       "\n"
      ],
      "text/plain": [
       "  study_name sample_number species region island stage             \n",
       "1 PAL0708    1             Gentoo  Anvers Biscoe Adult, 1 Egg Stage\n",
       "2 PAL0708    2             Gentoo  Anvers Biscoe Adult, 1 Egg Stage\n",
       "3 PAL0708    3             Gentoo  Anvers Biscoe Adult, 1 Egg Stage\n",
       "4 PAL0708    4             Gentoo  Anvers Biscoe Adult, 1 Egg Stage\n",
       "5 PAL0708    5             Gentoo  Anvers Biscoe Adult, 1 Egg Stage\n",
       "6 PAL0708    6             Gentoo  Anvers Biscoe Adult, 1 Egg Stage\n",
       "  individual_id clutch_completion date_egg   culmen_length_mm culmen_depth_mm\n",
       "1 N31A1         Yes               2007-11-27 46.1             13.2           \n",
       "2 N31A2         Yes               2007-11-27 50.0             16.3           \n",
       "3 N32A1         Yes               2007-11-27 48.7             14.1           \n",
       "4 N32A2         Yes               2007-11-27 50.0             15.2           \n",
       "5 N33A1         Yes               2007-11-18 47.6             14.5           \n",
       "6 N33A2         Yes               2007-11-18 46.5             13.5           \n",
       "  flipper_length_mm body_mass_g sex    delta_15_n_o_oo delta_13_c_o_oo comments\n",
       "1 211               4500        FEMALE 7.99300         -25.51390       NA      \n",
       "2 230               5700        MALE   8.14756         -25.39369       NA      \n",
       "3 210               4450        FEMALE 8.14705         -25.46172       NA      \n",
       "4 218               5700        MALE   8.25540         -25.40075       NA      \n",
       "5 215               5400        MALE   8.23450         -25.54456       NA      \n",
       "6 210               4550        FEMALE 7.99530         -25.32829       NA      "
      ]
     },
     "metadata": {},
     "output_type": "display_data"
    }
   ],
   "source": [
    "# ---- The code inside this function: ---\n",
    "# filter_by_species <- function(penguins_data, selected_species) {\n",
    "#     penguins_data %>%\n",
    "#         filter(species == selected_species)\n",
    "# }\n",
    "# ---------------------------------------\n",
    "\n",
    "gentoo_only <- filter_by_species(penguins_clean, \"Gentoo\")\n",
    "\n",
    "head(gentoo_only)"
   ]
  },
  {
   "cell_type": "markdown",
   "metadata": {},
   "source": [
    "If you want to have Gentoo and Adelie, you can create a list of words (strings) and pass those into the function as well. "
   ]
  },
  {
   "cell_type": "code",
   "execution_count": 60,
   "metadata": {
    "vscode": {
     "languageId": "r"
    }
   },
   "outputs": [
    {
     "data": {
      "text/html": [
       "<table class=\"dataframe\">\n",
       "<caption>A tibble: 6 × 17</caption>\n",
       "<thead>\n",
       "\t<tr><th scope=col>study_name</th><th scope=col>sample_number</th><th scope=col>species</th><th scope=col>region</th><th scope=col>island</th><th scope=col>stage</th><th scope=col>individual_id</th><th scope=col>clutch_completion</th><th scope=col>date_egg</th><th scope=col>culmen_length_mm</th><th scope=col>culmen_depth_mm</th><th scope=col>flipper_length_mm</th><th scope=col>body_mass_g</th><th scope=col>sex</th><th scope=col>delta_15_n_o_oo</th><th scope=col>delta_13_c_o_oo</th><th scope=col>comments</th></tr>\n",
       "\t<tr><th scope=col>&lt;chr&gt;</th><th scope=col>&lt;dbl&gt;</th><th scope=col>&lt;chr&gt;</th><th scope=col>&lt;chr&gt;</th><th scope=col>&lt;chr&gt;</th><th scope=col>&lt;chr&gt;</th><th scope=col>&lt;chr&gt;</th><th scope=col>&lt;chr&gt;</th><th scope=col>&lt;date&gt;</th><th scope=col>&lt;dbl&gt;</th><th scope=col>&lt;dbl&gt;</th><th scope=col>&lt;dbl&gt;</th><th scope=col>&lt;dbl&gt;</th><th scope=col>&lt;chr&gt;</th><th scope=col>&lt;dbl&gt;</th><th scope=col>&lt;dbl&gt;</th><th scope=col>&lt;chr&gt;</th></tr>\n",
       "</thead>\n",
       "<tbody>\n",
       "\t<tr><td>PAL0708</td><td> 2</td><td>Adelie</td><td>Anvers</td><td>Torgersen</td><td>Adult, 1 Egg Stage</td><td>N1A2</td><td>Yes</td><td>2007-11-11</td><td>39.5</td><td>17.4</td><td>186</td><td>3800</td><td>FEMALE</td><td>8.94956</td><td>-24.69454</td><td>NA                                   </td></tr>\n",
       "\t<tr><td>PAL0708</td><td> 4</td><td>Adelie</td><td>Anvers</td><td>Torgersen</td><td>Adult, 1 Egg Stage</td><td>N2A2</td><td>Yes</td><td>2007-11-16</td><td>  NA</td><td>  NA</td><td> NA</td><td>  NA</td><td>NA    </td><td>     NA</td><td>       NA</td><td>Adult not sampled.                   </td></tr>\n",
       "\t<tr><td>PAL0708</td><td> 6</td><td>Adelie</td><td>Anvers</td><td>Torgersen</td><td>Adult, 1 Egg Stage</td><td>N3A2</td><td>Yes</td><td>2007-11-16</td><td>39.3</td><td>20.6</td><td>190</td><td>3650</td><td>MALE  </td><td>8.66496</td><td>-25.29805</td><td>NA                                   </td></tr>\n",
       "\t<tr><td>PAL0708</td><td> 8</td><td>Adelie</td><td>Anvers</td><td>Torgersen</td><td>Adult, 1 Egg Stage</td><td>N4A2</td><td>No </td><td>2007-11-15</td><td>39.2</td><td>19.6</td><td>195</td><td>4675</td><td>MALE  </td><td>9.46060</td><td>-24.89958</td><td>Nest never observed with full clutch.</td></tr>\n",
       "\t<tr><td>PAL0708</td><td>10</td><td>Adelie</td><td>Anvers</td><td>Torgersen</td><td>Adult, 1 Egg Stage</td><td>N5A2</td><td>Yes</td><td>2007-11-09</td><td>42.0</td><td>20.2</td><td>190</td><td>4250</td><td>NA    </td><td>9.13362</td><td>-25.09368</td><td>No blood sample obtained for sexing. </td></tr>\n",
       "\t<tr><td>PAL0708</td><td>12</td><td>Adelie</td><td>Anvers</td><td>Torgersen</td><td>Adult, 1 Egg Stage</td><td>N6A2</td><td>Yes</td><td>2007-11-09</td><td>37.8</td><td>17.3</td><td>180</td><td>3700</td><td>NA    </td><td>     NA</td><td>       NA</td><td>No blood sample obtained.            </td></tr>\n",
       "</tbody>\n",
       "</table>\n"
      ],
      "text/latex": [
       "A tibble: 6 × 17\n",
       "\\begin{tabular}{lllllllllllllllll}\n",
       " study\\_name & sample\\_number & species & region & island & stage & individual\\_id & clutch\\_completion & date\\_egg & culmen\\_length\\_mm & culmen\\_depth\\_mm & flipper\\_length\\_mm & body\\_mass\\_g & sex & delta\\_15\\_n\\_o\\_oo & delta\\_13\\_c\\_o\\_oo & comments\\\\\n",
       " <chr> & <dbl> & <chr> & <chr> & <chr> & <chr> & <chr> & <chr> & <date> & <dbl> & <dbl> & <dbl> & <dbl> & <chr> & <dbl> & <dbl> & <chr>\\\\\n",
       "\\hline\n",
       "\t PAL0708 &  2 & Adelie & Anvers & Torgersen & Adult, 1 Egg Stage & N1A2 & Yes & 2007-11-11 & 39.5 & 17.4 & 186 & 3800 & FEMALE & 8.94956 & -24.69454 & NA                                   \\\\\n",
       "\t PAL0708 &  4 & Adelie & Anvers & Torgersen & Adult, 1 Egg Stage & N2A2 & Yes & 2007-11-16 &   NA &   NA &  NA &   NA & NA     &      NA &        NA & Adult not sampled.                   \\\\\n",
       "\t PAL0708 &  6 & Adelie & Anvers & Torgersen & Adult, 1 Egg Stage & N3A2 & Yes & 2007-11-16 & 39.3 & 20.6 & 190 & 3650 & MALE   & 8.66496 & -25.29805 & NA                                   \\\\\n",
       "\t PAL0708 &  8 & Adelie & Anvers & Torgersen & Adult, 1 Egg Stage & N4A2 & No  & 2007-11-15 & 39.2 & 19.6 & 195 & 4675 & MALE   & 9.46060 & -24.89958 & Nest never observed with full clutch.\\\\\n",
       "\t PAL0708 & 10 & Adelie & Anvers & Torgersen & Adult, 1 Egg Stage & N5A2 & Yes & 2007-11-09 & 42.0 & 20.2 & 190 & 4250 & NA     & 9.13362 & -25.09368 & No blood sample obtained for sexing. \\\\\n",
       "\t PAL0708 & 12 & Adelie & Anvers & Torgersen & Adult, 1 Egg Stage & N6A2 & Yes & 2007-11-09 & 37.8 & 17.3 & 180 & 3700 & NA     &      NA &        NA & No blood sample obtained.            \\\\\n",
       "\\end{tabular}\n"
      ],
      "text/markdown": [
       "\n",
       "A tibble: 6 × 17\n",
       "\n",
       "| study_name &lt;chr&gt; | sample_number &lt;dbl&gt; | species &lt;chr&gt; | region &lt;chr&gt; | island &lt;chr&gt; | stage &lt;chr&gt; | individual_id &lt;chr&gt; | clutch_completion &lt;chr&gt; | date_egg &lt;date&gt; | culmen_length_mm &lt;dbl&gt; | culmen_depth_mm &lt;dbl&gt; | flipper_length_mm &lt;dbl&gt; | body_mass_g &lt;dbl&gt; | sex &lt;chr&gt; | delta_15_n_o_oo &lt;dbl&gt; | delta_13_c_o_oo &lt;dbl&gt; | comments &lt;chr&gt; |\n",
       "|---|---|---|---|---|---|---|---|---|---|---|---|---|---|---|---|---|\n",
       "| PAL0708 |  2 | Adelie | Anvers | Torgersen | Adult, 1 Egg Stage | N1A2 | Yes | 2007-11-11 | 39.5 | 17.4 | 186 | 3800 | FEMALE | 8.94956 | -24.69454 | NA                                    |\n",
       "| PAL0708 |  4 | Adelie | Anvers | Torgersen | Adult, 1 Egg Stage | N2A2 | Yes | 2007-11-16 |   NA |   NA |  NA |   NA | NA     |      NA |        NA | Adult not sampled.                    |\n",
       "| PAL0708 |  6 | Adelie | Anvers | Torgersen | Adult, 1 Egg Stage | N3A2 | Yes | 2007-11-16 | 39.3 | 20.6 | 190 | 3650 | MALE   | 8.66496 | -25.29805 | NA                                    |\n",
       "| PAL0708 |  8 | Adelie | Anvers | Torgersen | Adult, 1 Egg Stage | N4A2 | No  | 2007-11-15 | 39.2 | 19.6 | 195 | 4675 | MALE   | 9.46060 | -24.89958 | Nest never observed with full clutch. |\n",
       "| PAL0708 | 10 | Adelie | Anvers | Torgersen | Adult, 1 Egg Stage | N5A2 | Yes | 2007-11-09 | 42.0 | 20.2 | 190 | 4250 | NA     | 9.13362 | -25.09368 | No blood sample obtained for sexing.  |\n",
       "| PAL0708 | 12 | Adelie | Anvers | Torgersen | Adult, 1 Egg Stage | N6A2 | Yes | 2007-11-09 | 37.8 | 17.3 | 180 | 3700 | NA     |      NA |        NA | No blood sample obtained.             |\n",
       "\n"
      ],
      "text/plain": [
       "  study_name sample_number species region island    stage             \n",
       "1 PAL0708     2            Adelie  Anvers Torgersen Adult, 1 Egg Stage\n",
       "2 PAL0708     4            Adelie  Anvers Torgersen Adult, 1 Egg Stage\n",
       "3 PAL0708     6            Adelie  Anvers Torgersen Adult, 1 Egg Stage\n",
       "4 PAL0708     8            Adelie  Anvers Torgersen Adult, 1 Egg Stage\n",
       "5 PAL0708    10            Adelie  Anvers Torgersen Adult, 1 Egg Stage\n",
       "6 PAL0708    12            Adelie  Anvers Torgersen Adult, 1 Egg Stage\n",
       "  individual_id clutch_completion date_egg   culmen_length_mm culmen_depth_mm\n",
       "1 N1A2          Yes               2007-11-11 39.5             17.4           \n",
       "2 N2A2          Yes               2007-11-16   NA               NA           \n",
       "3 N3A2          Yes               2007-11-16 39.3             20.6           \n",
       "4 N4A2          No                2007-11-15 39.2             19.6           \n",
       "5 N5A2          Yes               2007-11-09 42.0             20.2           \n",
       "6 N6A2          Yes               2007-11-09 37.8             17.3           \n",
       "  flipper_length_mm body_mass_g sex    delta_15_n_o_oo delta_13_c_o_oo\n",
       "1 186               3800        FEMALE 8.94956         -24.69454      \n",
       "2  NA                 NA        NA          NA                NA      \n",
       "3 190               3650        MALE   8.66496         -25.29805      \n",
       "4 195               4675        MALE   9.46060         -24.89958      \n",
       "5 190               4250        NA     9.13362         -25.09368      \n",
       "6 180               3700        NA          NA                NA      \n",
       "  comments                             \n",
       "1 NA                                   \n",
       "2 Adult not sampled.                   \n",
       "3 NA                                   \n",
       "4 Nest never observed with full clutch.\n",
       "5 No blood sample obtained for sexing. \n",
       "6 No blood sample obtained.            "
      ]
     },
     "metadata": {},
     "output_type": "display_data"
    }
   ],
   "source": [
    "gentoo_adelie_only <- filter_by_species(penguins_clean, c(\"Gentoo\",\"Adelie\"))\n",
    "\n",
    "head(gentoo_adelie_only)\n"
   ]
  },
  {
   "cell_type": "markdown",
   "metadata": {},
   "source": [
    "There is another function called `subset_columns` which again requires the names of the columns you want and it will only keep those:"
   ]
  },
  {
   "cell_type": "code",
   "execution_count": 64,
   "metadata": {
    "vscode": {
     "languageId": "r"
    }
   },
   "outputs": [
    {
     "data": {
      "text/html": [
       "<table class=\"dataframe\">\n",
       "<caption>A tibble: 6 × 2</caption>\n",
       "<thead>\n",
       "\t<tr><th scope=col>flipper_length_mm</th><th scope=col>species</th></tr>\n",
       "\t<tr><th scope=col>&lt;dbl&gt;</th><th scope=col>&lt;chr&gt;</th></tr>\n",
       "</thead>\n",
       "<tbody>\n",
       "\t<tr><td>181</td><td>Adelie</td></tr>\n",
       "\t<tr><td>186</td><td>Adelie</td></tr>\n",
       "\t<tr><td>195</td><td>Adelie</td></tr>\n",
       "\t<tr><td> NA</td><td>Adelie</td></tr>\n",
       "\t<tr><td>193</td><td>Adelie</td></tr>\n",
       "\t<tr><td>190</td><td>Adelie</td></tr>\n",
       "</tbody>\n",
       "</table>\n"
      ],
      "text/latex": [
       "A tibble: 6 × 2\n",
       "\\begin{tabular}{ll}\n",
       " flipper\\_length\\_mm & species\\\\\n",
       " <dbl> & <chr>\\\\\n",
       "\\hline\n",
       "\t 181 & Adelie\\\\\n",
       "\t 186 & Adelie\\\\\n",
       "\t 195 & Adelie\\\\\n",
       "\t  NA & Adelie\\\\\n",
       "\t 193 & Adelie\\\\\n",
       "\t 190 & Adelie\\\\\n",
       "\\end{tabular}\n"
      ],
      "text/markdown": [
       "\n",
       "A tibble: 6 × 2\n",
       "\n",
       "| flipper_length_mm &lt;dbl&gt; | species &lt;chr&gt; |\n",
       "|---|---|\n",
       "| 181 | Adelie |\n",
       "| 186 | Adelie |\n",
       "| 195 | Adelie |\n",
       "|  NA | Adelie |\n",
       "| 193 | Adelie |\n",
       "| 190 | Adelie |\n",
       "\n"
      ],
      "text/plain": [
       "  flipper_length_mm species\n",
       "1 181               Adelie \n",
       "2 186               Adelie \n",
       "3 195               Adelie \n",
       "4  NA               Adelie \n",
       "5 193               Adelie \n",
       "6 190               Adelie "
      ]
     },
     "metadata": {},
     "output_type": "display_data"
    }
   ],
   "source": [
    "# ---- The function inside the cleaning.R file: ----\n",
    "# subset_columns <- function(penguins_data, column_names) {\n",
    "#     penguins_data %>%\n",
    "#         select(all_of(column_names))\n",
    "# }\n",
    "# --------------------------------------------------\n",
    "\n",
    "species_flipper_length_only <- subset_columns(penguins_clean, c(\"flipper_length_mm\", \"species\"))\n",
    "\n",
    "head(species_flipper_length_only)"
   ]
  },
  {
   "cell_type": "markdown",
   "metadata": {},
   "source": [
    "We can see this subset contains an NA, or a missing value. There is a function in the file which removes any rows with missing values. It would be helpful to therefore create a pipe. \n",
    "\n",
    "## <span style='background:yellow'> Exercise 03 (5 mins) </span>\n",
    "\n",
    "Create a variable called `gentoo_data` and create it using a pipe. The data variable should only have culmen lengths and species columns. The rows should only from the Gentoo penguins. Finally, remove the missing values. "
   ]
  },
  {
   "cell_type": "code",
   "execution_count": null,
   "metadata": {
    "vscode": {
     "languageId": "r"
    }
   },
   "outputs": [],
   "source": [
    "\n",
    "# If we just want gentoo culmen lengths:\n",
    "gentoo_culmen_lengths <- penguins_clean %>%\n",
    "    filter_by_species(\"Gentoo\") %>%\n",
    "    subset_columns(c(\"culmen_length_mm\", \"species\",\"sex\")) %>%\n",
    "    remove_NA()\n",
    "\n",
    "head(gentoo_culmen_lengths)\n"
   ]
  },
  {
   "cell_type": "markdown",
   "metadata": {},
   "source": [
    "## THE CODE SO FAR"
   ]
  },
  {
   "cell_type": "code",
   "execution_count": 66,
   "metadata": {
    "vscode": {
     "languageId": "r"
    }
   },
   "outputs": [
    {
     "name": "stderr",
     "output_type": "stream",
     "text": [
      "Installing packages into ‘/opt/homebrew/lib/R/4.3/site-library’\n",
      "(as ‘lib’ is unspecified)\n",
      "\n"
     ]
    },
    {
     "data": {
      "text/html": [
       "<style>\n",
       ".list-inline {list-style: none; margin:0; padding: 0}\n",
       ".list-inline>li {display: inline-block}\n",
       ".list-inline>li:not(:last-child)::after {content: \"\\00b7\"; padding: 0 .5ex}\n",
       "</style>\n",
       "<ol class=list-inline><li>'studyName'</li><li>'Sample Number'</li><li>'Species'</li><li>'Region'</li><li>'Island'</li><li>'Stage'</li><li>'Individual ID'</li><li>'Clutch Completion'</li><li>'Date Egg'</li><li>'Culmen Length (mm)'</li><li>'Culmen Depth (mm)'</li><li>'Flipper Length (mm)'</li><li>'Body Mass (g)'</li><li>'Sex'</li><li>'Delta 15 N (o/oo)'</li><li>'Delta 13 C (o/oo)'</li><li>'Comments'</li></ol>\n"
      ],
      "text/latex": [
       "\\begin{enumerate*}\n",
       "\\item 'studyName'\n",
       "\\item 'Sample Number'\n",
       "\\item 'Species'\n",
       "\\item 'Region'\n",
       "\\item 'Island'\n",
       "\\item 'Stage'\n",
       "\\item 'Individual ID'\n",
       "\\item 'Clutch Completion'\n",
       "\\item 'Date Egg'\n",
       "\\item 'Culmen Length (mm)'\n",
       "\\item 'Culmen Depth (mm)'\n",
       "\\item 'Flipper Length (mm)'\n",
       "\\item 'Body Mass (g)'\n",
       "\\item 'Sex'\n",
       "\\item 'Delta 15 N (o/oo)'\n",
       "\\item 'Delta 13 C (o/oo)'\n",
       "\\item 'Comments'\n",
       "\\end{enumerate*}\n"
      ],
      "text/markdown": [
       "1. 'studyName'\n",
       "2. 'Sample Number'\n",
       "3. 'Species'\n",
       "4. 'Region'\n",
       "5. 'Island'\n",
       "6. 'Stage'\n",
       "7. 'Individual ID'\n",
       "8. 'Clutch Completion'\n",
       "9. 'Date Egg'\n",
       "10. 'Culmen Length (mm)'\n",
       "11. 'Culmen Depth (mm)'\n",
       "12. 'Flipper Length (mm)'\n",
       "13. 'Body Mass (g)'\n",
       "14. 'Sex'\n",
       "15. 'Delta 15 N (o/oo)'\n",
       "16. 'Delta 13 C (o/oo)'\n",
       "17. 'Comments'\n",
       "\n",
       "\n"
      ],
      "text/plain": [
       " [1] \"studyName\"           \"Sample Number\"       \"Species\"            \n",
       " [4] \"Region\"              \"Island\"              \"Stage\"              \n",
       " [7] \"Individual ID\"       \"Clutch Completion\"   \"Date Egg\"           \n",
       "[10] \"Culmen Length (mm)\"  \"Culmen Depth (mm)\"   \"Flipper Length (mm)\"\n",
       "[13] \"Body Mass (g)\"       \"Sex\"                 \"Delta 15 N (o/oo)\"  \n",
       "[16] \"Delta 13 C (o/oo)\"   \"Comments\"           "
      ]
     },
     "metadata": {},
     "output_type": "display_data"
    },
    {
     "data": {
      "text/html": [
       "<style>\n",
       ".list-inline {list-style: none; margin:0; padding: 0}\n",
       ".list-inline>li {display: inline-block}\n",
       ".list-inline>li:not(:last-child)::after {content: \"\\00b7\"; padding: 0 .5ex}\n",
       "</style>\n",
       "<ol class=list-inline><li>'study_name'</li><li>'sample_number'</li><li>'species'</li><li>'region'</li><li>'island'</li><li>'stage'</li><li>'individual_id'</li><li>'clutch_completion'</li><li>'date_egg'</li><li>'culmen_length_mm'</li><li>'culmen_depth_mm'</li><li>'flipper_length_mm'</li><li>'body_mass_g'</li><li>'sex'</li><li>'delta_15_n_o_oo'</li><li>'delta_13_c_o_oo'</li><li>'comments'</li></ol>\n"
      ],
      "text/latex": [
       "\\begin{enumerate*}\n",
       "\\item 'study\\_name'\n",
       "\\item 'sample\\_number'\n",
       "\\item 'species'\n",
       "\\item 'region'\n",
       "\\item 'island'\n",
       "\\item 'stage'\n",
       "\\item 'individual\\_id'\n",
       "\\item 'clutch\\_completion'\n",
       "\\item 'date\\_egg'\n",
       "\\item 'culmen\\_length\\_mm'\n",
       "\\item 'culmen\\_depth\\_mm'\n",
       "\\item 'flipper\\_length\\_mm'\n",
       "\\item 'body\\_mass\\_g'\n",
       "\\item 'sex'\n",
       "\\item 'delta\\_15\\_n\\_o\\_oo'\n",
       "\\item 'delta\\_13\\_c\\_o\\_oo'\n",
       "\\item 'comments'\n",
       "\\end{enumerate*}\n"
      ],
      "text/markdown": [
       "1. 'study_name'\n",
       "2. 'sample_number'\n",
       "3. 'species'\n",
       "4. 'region'\n",
       "5. 'island'\n",
       "6. 'stage'\n",
       "7. 'individual_id'\n",
       "8. 'clutch_completion'\n",
       "9. 'date_egg'\n",
       "10. 'culmen_length_mm'\n",
       "11. 'culmen_depth_mm'\n",
       "12. 'flipper_length_mm'\n",
       "13. 'body_mass_g'\n",
       "14. 'sex'\n",
       "15. 'delta_15_n_o_oo'\n",
       "16. 'delta_13_c_o_oo'\n",
       "17. 'comments'\n",
       "\n",
       "\n"
      ],
      "text/plain": [
       " [1] \"study_name\"        \"sample_number\"     \"species\"          \n",
       " [4] \"region\"            \"island\"            \"stage\"            \n",
       " [7] \"individual_id\"     \"clutch_completion\" \"date_egg\"         \n",
       "[10] \"culmen_length_mm\"  \"culmen_depth_mm\"   \"flipper_length_mm\"\n",
       "[13] \"body_mass_g\"       \"sex\"               \"delta_15_n_o_oo\"  \n",
       "[16] \"delta_13_c_o_oo\"   \"comments\"         "
      ]
     },
     "metadata": {},
     "output_type": "display_data"
    },
    {
     "data": {
      "text/html": [
       "<table class=\"dataframe\">\n",
       "<caption>A tibble: 6 × 3</caption>\n",
       "<thead>\n",
       "\t<tr><th scope=col>flipper_length_mm</th><th scope=col>species</th><th scope=col>sex</th></tr>\n",
       "\t<tr><th scope=col>&lt;dbl&gt;</th><th scope=col>&lt;chr&gt;</th><th scope=col>&lt;chr&gt;</th></tr>\n",
       "</thead>\n",
       "<tbody>\n",
       "\t<tr><td>181</td><td>Adelie</td><td>MALE  </td></tr>\n",
       "\t<tr><td>186</td><td>Adelie</td><td>FEMALE</td></tr>\n",
       "\t<tr><td>195</td><td>Adelie</td><td>FEMALE</td></tr>\n",
       "\t<tr><td>193</td><td>Adelie</td><td>FEMALE</td></tr>\n",
       "\t<tr><td>190</td><td>Adelie</td><td>MALE  </td></tr>\n",
       "\t<tr><td>181</td><td>Adelie</td><td>FEMALE</td></tr>\n",
       "</tbody>\n",
       "</table>\n"
      ],
      "text/latex": [
       "A tibble: 6 × 3\n",
       "\\begin{tabular}{lll}\n",
       " flipper\\_length\\_mm & species & sex\\\\\n",
       " <dbl> & <chr> & <chr>\\\\\n",
       "\\hline\n",
       "\t 181 & Adelie & MALE  \\\\\n",
       "\t 186 & Adelie & FEMALE\\\\\n",
       "\t 195 & Adelie & FEMALE\\\\\n",
       "\t 193 & Adelie & FEMALE\\\\\n",
       "\t 190 & Adelie & MALE  \\\\\n",
       "\t 181 & Adelie & FEMALE\\\\\n",
       "\\end{tabular}\n"
      ],
      "text/markdown": [
       "\n",
       "A tibble: 6 × 3\n",
       "\n",
       "| flipper_length_mm &lt;dbl&gt; | species &lt;chr&gt; | sex &lt;chr&gt; |\n",
       "|---|---|---|\n",
       "| 181 | Adelie | MALE   |\n",
       "| 186 | Adelie | FEMALE |\n",
       "| 195 | Adelie | FEMALE |\n",
       "| 193 | Adelie | FEMALE |\n",
       "| 190 | Adelie | MALE   |\n",
       "| 181 | Adelie | FEMALE |\n",
       "\n"
      ],
      "text/plain": [
       "  flipper_length_mm species sex   \n",
       "1 181               Adelie  MALE  \n",
       "2 186               Adelie  FEMALE\n",
       "3 195               Adelie  FEMALE\n",
       "4 193               Adelie  FEMALE\n",
       "5 190               Adelie  MALE  \n",
       "6 181               Adelie  FEMALE"
      ]
     },
     "metadata": {},
     "output_type": "display_data"
    }
   ],
   "source": [
    "install.packages(c(\"ggplot2\", \"palmerpenguins\", \"janitor\", \"dplyr\"))\n",
    "\n",
    "# Load the packages:\n",
    "library(ggplot2)\n",
    "library(palmerpenguins)\n",
    "library(janitor)\n",
    "library(dplyr)\n",
    "\n",
    "# Load the function definitions\n",
    "source(\"functions/cleaning.r\")\n",
    "\n",
    "# Save the raw data:\n",
    "write.csv(penguins_raw, \"data/penguins_raw.csv\")\n",
    "\n",
    "# Check the raw data:\n",
    "names(penguins_raw)\n",
    "\n",
    "# Clean the data:\n",
    "penguins_clean <- penguins_raw %>%\n",
    "    clean_column_names() %>%\n",
    "    shorten_species() %>%\n",
    "    remove_empty_columns_rows()\n",
    "\n",
    "# Check the cleaned data:\n",
    "names(penguins_clean)\n",
    "\n",
    "# Save cleaned data:\n",
    "write.csv(penguins_clean, \"data/penguins_clean.csv\")\n",
    "\n",
    "# Filter the data:\n",
    "flipper_data <- penguins_clean %>%\n",
    "    subset_columns(c(\"flipper_length_mm\", \"species\",\"sex\")) %>%\n",
    "    remove_NA()\n",
    "\n",
    "head(flipper_data)\n",
    "\n"
   ]
  }
 ],
 "metadata": {
  "kernelspec": {
   "display_name": "R",
   "language": "R",
   "name": "ir"
  },
  "language_info": {
   "codemirror_mode": "r",
   "file_extension": ".r",
   "mimetype": "text/x-r-source",
   "name": "R",
   "pygments_lexer": "r",
   "version": "4.3.1"
  }
 },
 "nbformat": 4,
 "nbformat_minor": 2
}
